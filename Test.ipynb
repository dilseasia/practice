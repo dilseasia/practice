{
 "cells": [
  {
   "cell_type": "code",
   "execution_count": 7,
   "metadata": {},
   "outputs": [
    {
     "name": "stdout",
     "output_type": "stream",
     "text": [
      "3\n"
     ]
    }
   ],
   "source": [
    "# Q4\n",
    "\n",
    " \n",
    "l = []\n",
    "n = int(input(\"Enter the length of country:\"))\n",
    "for i in range(1, n+1):\n",
    "    num = input(f\"Enter country \")\n",
    "    l.append(num)\n",
    "    \n",
    "country=[]\n",
    "for i in l:\n",
    "    if i not in country:\n",
    "        country.append(i)\n",
    "print(len(country))\n",
    "\n"
   ]
  },
  {
   "cell_type": "code",
   "execution_count": null,
   "metadata": {},
   "outputs": [
    {
     "name": "stdout",
     "output_type": "stream",
     "text": [
      "g 2\n",
      "o 2\n",
      "l 1\n"
     ]
    }
   ],
   "source": [
    "# Q1\n",
    "def occurance(s):\n",
    "        freq={}\n",
    "        for x in s:\n",
    "            if x in freq:\n",
    "                freq[x]+=1\n",
    "            else:\n",
    "                freq[x]=1    \n",
    "        return freq\n",
    "    \n",
    "string=input(\"enter \")\n",
    "def answer(s):\n",
    "    jh=occurance(string)\n",
    "    answer=list(jh.items())\n",
    "    sorted_answer=sorted(answer,key=lambda x:x[1],reverse=True)\n",
    "    top3_answer=sorted_answer[:3]\n",
    "    for x,y in top3_answer:\n",
    "        print(f\"{x} {y}\")\n",
    "\n",
    "answer(string)    "
   ]
  },
  {
   "cell_type": "code",
   "execution_count": null,
   "metadata": {},
   "outputs": [],
   "source": [
    "# Q3\n",
    "import math\n",
    "import os\n",
    "import random\n",
    "import re\n",
    "import sys\n",
    "from datetime import datetime\n",
    "def time_delta(t1, t2):\n",
    "    timer=\"%a %d %b %Y %H:%M:%S %z\"\n",
    "   \n",
    "    d1=datetime.strptime(t1,timer)\n",
    "    d2=datetime.strptime(t2,timer)\n",
    "    return str(abs((d1 - d2).total_seconds()))\n",
    "   \n",
    "if __name__ == '__main__':\n",
    "        # fptr = open(os.environ['OUTPUT_PATH'], 'w')\n",
    "    t = int(input(\"ENTER: \"))\n",
    "    for _ in range(t):\n",
    "        t1 = input().strip()\n",
    "        t2 = input().strip()\n",
    "        delta = time_delta(t1, t2)\n",
    "        print(delta)"
   ]
  },
  {
   "cell_type": "code",
   "execution_count": null,
   "metadata": {},
   "outputs": [],
   "source": [
    "# Q2\n",
    "\n",
    "matrix = []\n",
    "for i in range(5):\n",
    "    row = []\n",
    "    for j in range(3):\n",
    "        num = int(input(f\"Enter the number at index {i},{j}:\"))\n",
    "        row.append(num)\n",
    "    matrix.append(row)\n",
    "    \n",
    "    matrix.sort(key=lambda row: row[1])\n",
    " \n",
    "    for row in matrix:\n",
    "        print(row)"
   ]
  }
 ],
 "metadata": {
  "kernelspec": {
   "display_name": "Python 3",
   "language": "python",
   "name": "python3"
  },
  "language_info": {
   "codemirror_mode": {
    "name": "ipython",
    "version": 3
   },
   "file_extension": ".py",
   "mimetype": "text/x-python",
   "name": "python",
   "nbconvert_exporter": "python",
   "pygments_lexer": "ipython3",
   "version": "3.11.11"
  }
 },
 "nbformat": 4,
 "nbformat_minor": 2
}
