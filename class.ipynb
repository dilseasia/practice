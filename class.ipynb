{
 "cells": [
  {
   "cell_type": "code",
   "execution_count": 2,
   "metadata": {},
   "outputs": [
    {
     "name": "stdout",
     "output_type": "stream",
     "text": [
      "this is our 6 feet\n",
      "<__main__.child object at 0x7dd6dd5290d0>\n"
     ]
    }
   ],
   "source": [
    "class parent:\n",
    "    def __init__(self,height):\n",
    "        self.height=height\n",
    "        print( f\"this is our height {self.height}\" )\n",
    "    \n",
    "class child(parent):\n",
    "    def __init__(self, height,age):\n",
    "        super().__init__(height)\n",
    "        self.age=age\n",
    "\n",
    "a=child(\"6 feet\",32)\n",
    "print(a)"
   ]
  },
  {
   "cell_type": "code",
   "execution_count": 43,
   "metadata": {},
   "outputs": [
    {
     "name": "stdout",
     "output_type": "stream",
     "text": [
      "not negative\n"
     ]
    }
   ],
   "source": [
    "number=int(input())\n",
    "def check_positive_number(number):\n",
    "    if number < 0:\n",
    "        raise NegativeError(\"Negative numbers are not allowed.\")\n",
    "    else:\n",
    "        print(\"not negative\")\n",
    "\n",
    "check_positive_number(number)"
   ]
  },
  {
   "cell_type": "code",
   "execution_count": 25,
   "metadata": {},
   "outputs": [
    {
     "name": "stdout",
     "output_type": "stream",
     "text": [
      "You entered: -234\n",
      "cbdshbhc\n",
      "Execution complete.\n"
     ]
    }
   ],
   "source": [
    "\n",
    "try:\n",
    "        user_input = int(input(\"Enter a positive number: \"))\n",
    "        checked_number =(user_input)\n",
    "        print(f\"You entered: {checked_number}\")\n",
    "except ValueError:\n",
    "        print(\"Invalid input! Please enter a valid integer.\")\n",
    "except NegativeNumbernotallowed as e:\n",
    "        print(e)\n",
    "else:\n",
    "        print(\"cbdshbhc\")\n",
    "finally:\n",
    "        print(\"Execution complete.\")"
   ]
  },
  {
   "cell_type": "code",
   "execution_count": 19,
   "metadata": {},
   "outputs": [],
   "source": [
    "number=int(input())\n",
    "def check_positive_number(number):\n",
    "    if number<0:\n",
    "        print(\"negative\")\n",
    "    else:\n",
    "        print(\"not good\")"
   ]
  },
  {
   "cell_type": "code",
   "execution_count": 42,
   "metadata": {},
   "outputs": [
    {
     "name": "stdout",
     "output_type": "stream",
     "text": [
      "value error\n",
      "excution complete\n"
     ]
    }
   ],
   "source": [
    "try:\n",
    "    user_input=int(input(\"enter number\"))\n",
    "    if user_input<0:\n",
    "        raise Exception\n",
    "except :\n",
    "    print(\"value error\")\n",
    "\n",
    "finally:\n",
    "    print(\"excution complete\")\n",
    "    "
   ]
  },
  {
   "cell_type": "code",
   "execution_count": 45,
   "metadata": {},
   "outputs": [
    {
     "name": "stdout",
     "output_type": "stream",
     "text": [
      "jdvjdnhcjd\n"
     ]
    }
   ],
   "source": [
    "\n",
    "try:\n",
    "    number=int(input())\n",
    "    number2=int(input())\n",
    "    print(f\"answer is {number/number2}\")\n",
    "    if number2==0 or number==0:\n",
    "      raise Exception(\"bghbghbhb\")\n",
    "except:\n",
    "   print(\"jdvjdnhcjd\")"
   ]
  },
  {
   "cell_type": "code",
   "execution_count": 50,
   "metadata": {},
   "outputs": [],
   "source": [
    "# Write a program that converts a user-inputted string to an integer. If the input is not a valid number, handle the ValueError exception.\n",
    "\n",
    "try :\n",
    "    user_input=input()\n",
    "    # user_inputed=int(user_input)\n",
    "    if user_input==int(user_input):\n",
    "     raise Exception(\"fgtftgf\")\n",
    "    \n",
    "except ValueError:\n",
    "   print(\"valueerror\")"
   ]
  },
  {
   "cell_type": "code",
   "execution_count": 60,
   "metadata": {},
   "outputs": [
    {
     "name": "stdout",
     "output_type": "stream",
     "text": [
      "valid number\n"
     ]
    }
   ],
   "source": [
    "# Use try-except to handle an IndexError when accessing an element from a list beyond its range\n",
    "try :\n",
    "    number  = (input())\n",
    "    if len(number)<=6:\n",
    "        print(\"valid number\")\n",
    "    else:\n",
    "        raise Exception\n",
    "except Exception:\n",
    "    print(\"DDD\")\n",
    "\n"
   ]
  },
  {
   "cell_type": "code",
   "execution_count": 65,
   "metadata": {},
   "outputs": [
    {
     "name": "stdout",
     "output_type": "stream",
     "text": [
      "age not eligible\n"
     ]
    }
   ],
   "source": [
    "\n",
    "class agenotellible(Exception):\n",
    "     \n",
    "     def __init__(self,ms=\"age not eligible\"):\n",
    "          self.ms=ms\n",
    "          super().__init__(self.ms)\n",
    "\n",
    "try:\n",
    "    age = int(input())\n",
    "    if age >18:\n",
    "        raise agenotellible\n",
    "except agenotellible as e:\n",
    "    print(e)\n",
    "except ValueError:\n",
    "    print(\"error\")\n",
    "                    \n"
   ]
  },
  {
   "cell_type": "code",
   "execution_count": 70,
   "metadata": {},
   "outputs": [
    {
     "name": "stdout",
     "output_type": "stream",
     "text": [
      "positive\n"
     ]
    }
   ],
   "source": [
    "# raise exception \n",
    "\n",
    "\n",
    "class valueerror(Exception):\n",
    "    def __init__(self,ms=\"this is value error\"):\n",
    "        super().__init__(ms)\n",
    "        self.ms=ms\n",
    "\n",
    "try :\n",
    "    number=(input())\n",
    "    if number!=int(number):\n",
    "        print(\"positive\")\n",
    "    else:\n",
    "        raise valueerror\n",
    "except valueerror:\n",
    "    print(\" ts \")"
   ]
  },
  {
   "cell_type": "code",
   "execution_count": null,
   "metadata": {},
   "outputs": [],
   "source": []
  }
 ],
 "metadata": {
  "kernelspec": {
   "display_name": "Python 3",
   "language": "python",
   "name": "python3"
  },
  "language_info": {
   "codemirror_mode": {
    "name": "ipython",
    "version": 3
   },
   "file_extension": ".py",
   "mimetype": "text/x-python",
   "name": "python",
   "nbconvert_exporter": "python",
   "pygments_lexer": "ipython3",
   "version": "3.11.11"
  }
 },
 "nbformat": 4,
 "nbformat_minor": 2
}
