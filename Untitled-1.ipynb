{
 "cells": [
  {
   "cell_type": "code",
   "execution_count": 8,
   "metadata": {},
   "outputs": [
    {
     "data": {
      "text/plain": [
       "'kdmkmdkmdkmd daljeet'"
      ]
     },
     "execution_count": 8,
     "metadata": {},
     "output_type": "execute_result"
    }
   ],
   "source": [
    "class Person:\n",
    "    def __init__(self,name,id):\n",
    "        self.name =name\n",
    "        self.id=id\n",
    "\n",
    "    def __str__(self):\n",
    "      return f\"kdmkmdkmdkmd {self.name}\"\n",
    "    \n",
    "p1=Person(\"daljeet\",10)\n",
    "# print(p1.name)\n",
    "# print(p1.id)\n",
    "\n",
    "\n",
    "\n",
    "# class Person:\n",
    "#   def __init__(self, name, age):\n",
    "#     self.name = name\n",
    "#     self.age = age\n",
    "\n",
    "# p1 = Person(\"John\", 36)\n",
    "\n",
    "# print(p1.name)\n",
    "# print(p1.age) "
   ]
  },
  {
   "cell_type": "code",
   "execution_count": 34,
   "metadata": {},
   "outputs": [
    {
     "name": "stdout",
     "output_type": "stream",
     "text": [
      "Mike Olsen\n"
     ]
    }
   ],
   "source": [
    "# class parent:\n",
    "#     def  __init__(self,fname,fid):\n",
    "#          self.fname=fname\n",
    "#          self.fheight=fid\n",
    "#          print(fname,fid)\n",
    "# class child(parent):\n",
    "#      def __init__(self,fname,fid):\n",
    "#        super.__init__(fname,fid)\n",
    "\n",
    "# p1=child(\"fhhjf\",32)\n",
    "\n",
    "\n",
    "class Person:\n",
    "  def __init__(self, fname, lname):\n",
    "    self.firstname = fname\n",
    "    self.lastname = lname\n",
    "\n",
    "  def printname(self):\n",
    "    print(self.firstname, self.lastname)\n",
    "\n",
    "class Student(Person):\n",
    "  def __init__(self, fname, lname):\n",
    "    super().__init__(fname, lname)\n",
    "\n",
    "x = Student(\"Mike\", \"Olsen\")\n",
    "x.printname()"
   ]
  },
  {
   "cell_type": "code",
   "execution_count": 75,
   "metadata": {},
   "outputs": [
    {
     "name": "stdout",
     "output_type": "stream",
     "text": [
      "my name is Daljeet and my age is 23\n"
     ]
    }
   ],
   "source": [
    "class parents:\n",
    "    def __init__(self,name,age):\n",
    "        self.name=name\n",
    "        self.age=age\n",
    "        \n",
    "    def __str__(self):\n",
    "        return f\"my name is {self.name} and my age is {self.age}\"\n",
    "    \n",
    "class child(parents):\n",
    "    def __init__ (self,name,age):\n",
    "     super().__init__(name,age)\n",
    "    \n",
    "p1=child(\"Daljeet\",23)\n",
    "print(p1)\n",
    "\n",
    "\n",
    "\n",
    "# class Person:\n",
    "#   def __init__(self, fname, lname):\n",
    "#     self.firstname = fname\n",
    "#     self.lastname = lname\n",
    "\n",
    "#   def printname(self):\n",
    "#     print(self.firstname, self.lastname)\n",
    "\n",
    "# class Student(Person):\n",
    "#   def __init__(self, fname, lname):\n",
    "#     super().__init__(fname, lname)\n",
    "\n",
    "# x = Student(\"Mike\", \"Olsen\")\n",
    "# x.printname()\n",
    "        "
   ]
  },
  {
   "cell_type": "code",
   "execution_count": 37,
   "metadata": {},
   "outputs": [
    {
     "name": "stdout",
     "output_type": "stream",
     "text": [
      "djknjkdnjkdcjkd 10\n"
     ]
    }
   ],
   "source": [
    "age=10\n",
    "print(f\"djknjkdnjkdcjkd {age}\")\n"
   ]
  },
  {
   "cell_type": "code",
   "execution_count": 76,
   "metadata": {},
   "outputs": [
    {
     "name": "stdout",
     "output_type": "stream",
     "text": [
      "[1, 2, 3, 4, 5, 6, 7]\n"
     ]
    }
   ],
   "source": [
    "a=[1,[2,3,[4,5],6,7]]\n",
    "def recurion(a):\n",
    "\n",
    "    b=[]\n",
    "    for i in a:\n",
    "        if isinstance(i,list):\n",
    "            b.extend(recurion(i))\n",
    "        else:\n",
    "            b.append(i)\n",
    "    return b\n",
    "print(recurion(a))\n",
    "# b=[]\n",
    "# for i in c:\n",
    "#     if i==\"[\" and i==\"]\":\n",
    "#      b.append(i)\n",
    "# print(b)"
   ]
  },
  {
   "cell_type": "code",
   "execution_count": 19,
   "metadata": {},
   "outputs": [],
   "source": [
    "# class car:\n",
    "\n",
    "#     def __init__(self,make,model,year,wheels):\n",
    "#         self.make=make\n",
    "#         self.model=model\n",
    "#         self.year=year\n",
    "#         self.wheels = wheels\n",
    "\n",
    "#     def __str__(self):\n",
    "#        return  (f\"this is making year {self.make},this is model {self.model},this is year {self.model} and wheels is {self.wheels}\")\n",
    "    \n",
    "#     def start_engine(self):\n",
    "#         print(\"Guuu GUUUU GUUUU\")\n",
    "#         print(f\"wheels {self.wheels}\")\n",
    "\n",
    "#     def stop_engine(self):\n",
    "#         print(\"Stop Engine\")\n",
    "#         print(f\"wheels ={self.wheels}\")\n",
    "\n",
    "# a=car(2020,2024,2025,\"alloy\")\n",
    "# print(a)\n",
    "# a.start_engine()\n",
    "# a.stop_engine()\n"
   ]
  },
  {
   "cell_type": "code",
   "execution_count": 78,
   "metadata": {},
   "outputs": [],
   "source": [
    "    # Create a class ElectricCar that inherits from the Car class.\n",
    "\n",
    "    # Add a new attribute battery_size to the ElectricCar class.\n",
    "\n",
    "#     # Override the start_engine() method to print \"Electric motor started\" instead of \"Engine started\".\n",
    "\n",
    "# class Car:\n",
    "#     def __init__(self,color,brand):\n",
    "#         self.color=color\n",
    "#         self.brand=brand\n",
    "# class electrical_car(car):\n",
    "#     def __init__(self,power_capacity,reports):\n",
    "#         self.power_capacity=power_capacity\n",
    "#         self.reports=reports\n",
    "#         super().__init__(self,color,brand)"
   ]
  },
  {
   "cell_type": "code",
   "execution_count": 77,
   "metadata": {},
   "outputs": [
    {
     "name": "stdout",
     "output_type": "stream",
     "text": [
      "<__main__.electrical_car object at 0x7acc6c502450>\n"
     ]
    }
   ],
   "source": [
    "class Car:\n",
    "    def __init__(self,color,brand):\n",
    "        self.color=color\n",
    "        self.brand=brand\n",
    "\n",
    "    \n",
    "class electrical_car(Car):\n",
    "    def __init__(self,power_capacity,reports,color,brand):\n",
    "        super().__init__(color,brand)\n",
    "        self.power_capacity=power_capacity\n",
    "        self.reports=reports\n",
    "    \n",
    "a=electrical_car(\"black\",\"tesla\",1000,\"good\")\n",
    "print(a)\n"
   ]
  },
  {
   "cell_type": "code",
   "execution_count": 42,
   "metadata": {},
   "outputs": [
    {
     "name": "stdout",
     "output_type": "stream",
     "text": [
      "daljeet\n",
      "<__main__.Student object at 0x7acc6c50f490>\n"
     ]
    }
   ],
   "source": [
    "class Person:\n",
    "  def __init__(self, name,sname):\n",
    "    self.firstname = name\n",
    "    self.lastname = sname\n",
    "    print(self.firstname)\n",
    "\n",
    "class Student(Person):\n",
    "  def __init__(self,name,sname,color):\n",
    "    super().__init__(name,sname)\n",
    "    self.color=color\n",
    "\n",
    "\n",
    "x = Student(\"daljeet\",\"singh\",\"black\")\n",
    "print(x)\n"
   ]
  },
  {
   "cell_type": "code",
   "execution_count": 70,
   "metadata": {},
   "outputs": [
    {
     "name": "stdout",
     "output_type": "stream",
     "text": [
      "<__main__.child object at 0x7acc6c45ee50>\n"
     ]
    }
   ],
   "source": [
    "class father:\n",
    "    def __init__(self,name):\n",
    "    #  super().__init__()\n",
    "     self.name=name\n",
    "     print(\"vnjdnjvdn\")\n",
    "class mother():\n",
    "   def __init__(self,name,age):\n",
    "    # super().__init__(name)\n",
    "    self.age=age\n",
    "    \n",
    "\n",
    "class child(mother,father):\n",
    "   def __init__(self,name,age):\n",
    "    super().__init__(name,age)\n",
    "\n",
    "a=child(\"daljeet\",32)\n",
    "print(a)"
   ]
  },
  {
   "cell_type": "code",
   "execution_count": 76,
   "metadata": {},
   "outputs": [
    {
     "name": "stdout",
     "output_type": "stream",
     "text": [
      "Daljeet a+\n"
     ]
    }
   ],
   "source": [
    "class grandfather :\n",
    "    def __init__(self,height):\n",
    "        self.height=height\n",
    "\n",
    "class father(grandfather):\n",
    "    def __init__(self, height,blood):\n",
    "        super().__init__(height)\n",
    "        self.blood=blood\n",
    "\n",
    "class child(father):\n",
    "    def __init__(self, height, blood,name):\n",
    "        super().__init__(height, blood)\n",
    "        self.name=name\n",
    "\n",
    "a=child(3.5,\"a+\",\"Daljeet\")\n",
    "print(a.name,a.blood)"
   ]
  },
  {
   "cell_type": "code",
   "execution_count": null,
   "metadata": {},
   "outputs": [],
   "source": []
  }
 ],
 "metadata": {
  "kernelspec": {
   "display_name": "Python 3",
   "language": "python",
   "name": "python3"
  },
  "language_info": {
   "codemirror_mode": {
    "name": "ipython",
    "version": 3
   },
   "file_extension": ".py",
   "mimetype": "text/x-python",
   "name": "python",
   "nbconvert_exporter": "python",
   "pygments_lexer": "ipython3",
   "version": "3.11.11"
  }
 },
 "nbformat": 4,
 "nbformat_minor": 2
}
