{
 "cells": [
  {
   "cell_type": "code",
   "execution_count": 7,
   "metadata": {},
   "outputs": [
    {
     "name": "stdout",
     "output_type": "stream",
     "text": [
      "{'name': 'Alice', 'age': 25, 'city': 'New York'}\n",
      "25\n",
      "{'name': 'Alice', 'age': 25, 'city': 'New York', 'job': 'engineer'}\n"
     ]
    }
   ],
   "source": [
    "# #  Create a dictionary with the following key-value pairs:\n",
    "# { \"name\": \"Alice\", \"age\": 25, \"city\": \"New York\" }\n",
    "\n",
    "#     Print the dictionary.\n",
    "#     Access the value of \"age\" and print it.\n",
    "#     Add a new key \"job\" with the value \"Engineer\".\n",
    "\n",
    "a={ \"name\": \"Alice\", \"age\": 25, \"city\": \"New York\" }\n",
    "\n",
    "print(a)\n",
    "print(a[\"age\"])\n",
    "a[\"job\"]=\"engineer\"\n",
    "print(a)\n"
   ]
  },
  {
   "cell_type": "code",
   "execution_count": 12,
   "metadata": {},
   "outputs": [
    {
     "name": "stdout",
     "output_type": "stream",
     "text": [
      "110\n"
     ]
    }
   ],
   "source": [
    "# Write a function that takes two numbers as arguments and returns their sum.\n",
    "\n",
    "def sum(a,b):\n",
    "    print(a+b)\n",
    "sum(90,20)"
   ]
  },
  {
   "cell_type": "code",
   "execution_count": 16,
   "metadata": {},
   "outputs": [
    {
     "name": "stdout",
     "output_type": "stream",
     "text": [
      "12\n"
     ]
    }
   ],
   "source": [
    "# Write a function that takes a string and returns its length.\n",
    "\n",
    "\n",
    "a=input(\"jvj\")\n",
    "def function (a):\n",
    "    print(len(a))\n",
    "function(a)"
   ]
  },
  {
   "cell_type": "code",
   "execution_count": 17,
   "metadata": {},
   "outputs": [
    {
     "name": "stdout",
     "output_type": "stream",
     "text": [
      "even\n"
     ]
    }
   ],
   "source": [
    "# Write a function that checks whether a given number is even or odd.\n",
    "\n",
    "number = int (input())\n",
    "def checker(number):\n",
    "    if number%2==0:\n",
    "        print(\"even\")\n",
    "    else:\n",
    "        print(\"odd\")\n",
    "checker(number)\n",
    "\n"
   ]
  },
  {
   "cell_type": "code",
   "execution_count": 20,
   "metadata": {},
   "outputs": [
    {
     "name": "stdout",
     "output_type": "stream",
     "text": [
      "Hello vfkmjkfv\n"
     ]
    }
   ],
   "source": [
    "# Write a function that takes a name as an argument and prints \"Hello, [name]!\".\n",
    "\n",
    "name=input(\"\")\n",
    "\n",
    "def function(name):\n",
    "    print(f\"Hello {name}\")\n",
    "function(name)"
   ]
  },
  {
   "cell_type": "code",
   "execution_count": null,
   "metadata": {},
   "outputs": [
    {
     "name": "stdout",
     "output_type": "stream",
     "text": [
      "479001600\n"
     ]
    }
   ],
   "source": [
    "# Write a function that returns the factorial of a given number.\n",
    "\n",
    "number=int(input())\n",
    "\n",
    "def factorial(number):\n",
    "    if number<0:\n",
    "        print(\"no its have no factorial\")\n",
    "    elif number == 0 or number == 1:  \n",
    "         return 1\n",
    "    else:\n",
    "        return number * factorial(number - 1)\n",
    "result=factorial(number)\n",
    "print(result)\n",
    "\n",
    "# number = int(input(\"Enter a number: \"))\n",
    "\n",
    "# def factorial(number):\n",
    "#     if number < 0:\n",
    "#         return \"No, it has no factorial\"  # Return instead of print\n",
    "#     elif number == 0 or number == 1:  # Base case to stop recursion\n",
    "#         return 1\n",
    "#     else:\n",
    "#         return number * factorial(number - 1)  # Recursive call\n",
    "\n",
    "# result = factorial(number)\n",
    "# print(result)"
   ]
  },
  {
   "cell_type": "code",
   "execution_count": 10,
   "metadata": {},
   "outputs": [],
   "source": [
    "# Write a function to find the maximum of three numbers.\n",
    "\n",
    "# list=[10,20,10]\n",
    "\n",
    "# def maximum(list):\n",
    "#     max=0\n",
    "#     for i in list:\n",
    "#         if max < i:\n",
    "#                 return max += i\n",
    "\n",
    "\n"
   ]
  },
  {
   "cell_type": "code",
   "execution_count": 23,
   "metadata": {},
   "outputs": [
    {
     "name": "stdout",
     "output_type": "stream",
     "text": [
      "elppa"
     ]
    }
   ],
   "source": [
    "# Write a function that reverses a string without using built-in functions.\n",
    "\n",
    "a=\"apple\"\n",
    "b=\"\"\n",
    "for i in a[::-1]:\n",
    "    print(i+b,end=\"\")"
   ]
  },
  {
   "cell_type": "code",
   "execution_count": 26,
   "metadata": {},
   "outputs": [
    {
     "name": "stdout",
     "output_type": "stream",
     "text": [
      "[1, 2, 3, 4]\n"
     ]
    }
   ],
   "source": [
    "# Write a function that takes a list and returns a new list with unique elements (removes duplicates).\n",
    "\n",
    "list=[1,2,3,4,1,4,4]\n",
    "list1=[]\n",
    "for i in list:\n",
    "    if i not in list1:\n",
    "        list1.append(i)\n",
    "print(list1)"
   ]
  },
  {
   "cell_type": "code",
   "execution_count": 33,
   "metadata": {},
   "outputs": [
    {
     "name": "stdout",
     "output_type": "stream",
     "text": [
      "500\n"
     ]
    }
   ],
   "source": [
    "# Write a function that takes a dictionary and returns the key with the highest value.\n",
    "\n",
    "a={1:100,2:200,3:500}\n",
    "max=0\n",
    "for i in a.items():\n",
    "    if i[1]>max:\n",
    "        max=i[1]\n",
    "print(max)\n",
    "\n"
   ]
  },
  {
   "cell_type": "code",
   "execution_count": 53,
   "metadata": {},
   "outputs": [
    {
     "name": "stdout",
     "output_type": "stream",
     "text": [
      "5\n"
     ]
    }
   ],
   "source": [
    "# Write a function that counts the number of vowels in a given string.\n",
    "string=input(\"enter a string\")\n",
    "def count_vowel(string):\n",
    " vowel=\"a\",\"e\",\"i\",\"o\",\"u\"\n",
    " count=0\n",
    " for i in string:\n",
    "    for j in vowel:\n",
    "        if i==j:\n",
    "          count+=1\n",
    "print(count)\n",
    "\n",
    "count_vowel(string)\n"
   ]
  },
  {
   "cell_type": "code",
   "execution_count": null,
   "metadata": {},
   "outputs": [],
   "source": [
    "\n",
    "\n"
   ]
  },
  {
   "cell_type": "code",
   "execution_count": null,
   "metadata": {},
   "outputs": [],
   "source": []
  }
 ],
 "metadata": {
  "kernelspec": {
   "display_name": "Python 3",
   "language": "python",
   "name": "python3"
  },
  "language_info": {
   "codemirror_mode": {
    "name": "ipython",
    "version": 3
   },
   "file_extension": ".py",
   "mimetype": "text/x-python",
   "name": "python",
   "nbconvert_exporter": "python",
   "pygments_lexer": "ipython3",
   "version": "3.11.11"
  }
 },
 "nbformat": 4,
 "nbformat_minor": 2
}
