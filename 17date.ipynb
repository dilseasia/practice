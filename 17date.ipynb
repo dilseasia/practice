{
 "cells": [
  {
   "cell_type": "code",
   "execution_count": 1,
   "metadata": {},
   "outputs": [],
   "source": [
    "# Write a function that takes a 2D NumPy array and returns the row with the maximum sum of elements.\n",
    "\n",
    "\n",
    "\n",
    "def function  (a):\n",
    "    a=int(input(\"\"))\n",
    "    "
   ]
  },
  {
   "cell_type": "code",
   "execution_count": 2,
   "metadata": {},
   "outputs": [],
   "source": [
    "import numpy as np"
   ]
  },
  {
   "cell_type": "code",
   "execution_count": 3,
   "metadata": {},
   "outputs": [
    {
     "data": {
      "text/plain": [
       "1"
      ]
     },
     "execution_count": 3,
     "metadata": {},
     "output_type": "execute_result"
    }
   ],
   "source": [
    "a=np.array([1,23,4,5,6,77,8])\n",
    "a.ndim"
   ]
  },
  {
   "cell_type": "code",
   "execution_count": 4,
   "metadata": {},
   "outputs": [
    {
     "data": {
      "text/plain": [
       "2"
      ]
     },
     "execution_count": 4,
     "metadata": {},
     "output_type": "execute_result"
    }
   ],
   "source": [
    "a=np.array([[1,2,3,4,5],[6,7,8,9,0]])\n",
    "a.ndim"
   ]
  },
  {
   "cell_type": "code",
   "execution_count": 5,
   "metadata": {},
   "outputs": [
    {
     "data": {
      "text/plain": [
       "array([[0., 0., 0.],\n",
       "       [0., 0., 0.],\n",
       "       [0., 0., 0.],\n",
       "       [0., 0., 0.]])"
      ]
     },
     "execution_count": 5,
     "metadata": {},
     "output_type": "execute_result"
    }
   ],
   "source": [
    "np.zeros([3,4]).reshape(4,3)"
   ]
  },
  {
   "cell_type": "code",
   "execution_count": 6,
   "metadata": {},
   "outputs": [
    {
     "data": {
      "text/plain": [
       "102"
      ]
     },
     "execution_count": 6,
     "metadata": {},
     "output_type": "execute_result"
    }
   ],
   "source": [
    "np.random.randint(50,200)"
   ]
  },
  {
   "cell_type": "code",
   "execution_count": 7,
   "metadata": {},
   "outputs": [
    {
     "data": {
      "text/plain": [
       "np.int64(40)"
      ]
     },
     "execution_count": 7,
     "metadata": {},
     "output_type": "execute_result"
    }
   ],
   "source": [
    "arr = np.array([10, 20, 30, 40, 50, 60, 70])\n",
    "a=arr[3]\n",
    "a"
   ]
  },
  {
   "cell_type": "code",
   "execution_count": 8,
   "metadata": {},
   "outputs": [
    {
     "data": {
      "text/plain": [
       "np.int64(5)"
      ]
     },
     "execution_count": 8,
     "metadata": {},
     "output_type": "execute_result"
    }
   ],
   "source": [
    "arr = np.array([10, 20, 30, 40, 50,80, 60, 70])\n",
    "arr1=np.array([10,20,30,40,50,60,70])\n",
    "np.argmax(arr)"
   ]
  },
  {
   "cell_type": "code",
   "execution_count": 9,
   "metadata": {},
   "outputs": [
    {
     "data": {
      "text/plain": [
       "array([10, 20, 30, 40, 50, 60, 70, 80])"
      ]
     },
     "execution_count": 9,
     "metadata": {},
     "output_type": "execute_result"
    }
   ],
   "source": [
    "arr.sort()\n",
    "arr"
   ]
  },
  {
   "cell_type": "code",
   "execution_count": 10,
   "metadata": {},
   "outputs": [
    {
     "data": {
      "text/plain": [
       "(array([3]),)"
      ]
     },
     "execution_count": 10,
     "metadata": {},
     "output_type": "execute_result"
    }
   ],
   "source": [
    "a=np.where(arr==40)\n",
    "a"
   ]
  },
  {
   "cell_type": "code",
   "execution_count": 11,
   "metadata": {},
   "outputs": [],
   "source": [
    "import pandas as pd"
   ]
  },
  {
   "cell_type": "code",
   "execution_count": 12,
   "metadata": {},
   "outputs": [],
   "source": [
    "a={\"name\":[\"daljeet\",\"rohan\",\"naunind\"],\n",
    "   \"class\":[3,4,5],\n",
    "   \"rollno\":[1,2,9]}"
   ]
  },
  {
   "cell_type": "code",
   "execution_count": 13,
   "metadata": {},
   "outputs": [],
   "source": [
    "b=pd.DataFrame(a)"
   ]
  },
  {
   "cell_type": "code",
   "execution_count": 14,
   "metadata": {},
   "outputs": [
    {
     "data": {
      "application/vnd.microsoft.datawrangler.viewer.v0+json": {
       "columns": [
        {
         "name": "index",
         "rawType": "int64",
         "type": "integer"
        },
        {
         "name": "name",
         "rawType": "object",
         "type": "string"
        },
        {
         "name": "class",
         "rawType": "int64",
         "type": "integer"
        },
        {
         "name": "rollno",
         "rawType": "int64",
         "type": "integer"
        }
       ],
       "conversionMethod": "pd.DataFrame",
       "ref": "5b04da5b-5628-4986-bd06-297d8d708d5d",
       "rows": [
        [
         "0",
         "daljeet",
         "3",
         "1"
        ],
        [
         "1",
         "rohan",
         "4",
         "2"
        ],
        [
         "2",
         "naunind",
         "5",
         "9"
        ]
       ],
       "shape": {
        "columns": 3,
        "rows": 3
       }
      },
      "text/html": [
       "<div>\n",
       "<style scoped>\n",
       "    .dataframe tbody tr th:only-of-type {\n",
       "        vertical-align: middle;\n",
       "    }\n",
       "\n",
       "    .dataframe tbody tr th {\n",
       "        vertical-align: top;\n",
       "    }\n",
       "\n",
       "    .dataframe thead th {\n",
       "        text-align: right;\n",
       "    }\n",
       "</style>\n",
       "<table border=\"1\" class=\"dataframe\">\n",
       "  <thead>\n",
       "    <tr style=\"text-align: right;\">\n",
       "      <th></th>\n",
       "      <th>name</th>\n",
       "      <th>class</th>\n",
       "      <th>rollno</th>\n",
       "    </tr>\n",
       "  </thead>\n",
       "  <tbody>\n",
       "    <tr>\n",
       "      <th>0</th>\n",
       "      <td>daljeet</td>\n",
       "      <td>3</td>\n",
       "      <td>1</td>\n",
       "    </tr>\n",
       "    <tr>\n",
       "      <th>1</th>\n",
       "      <td>rohan</td>\n",
       "      <td>4</td>\n",
       "      <td>2</td>\n",
       "    </tr>\n",
       "    <tr>\n",
       "      <th>2</th>\n",
       "      <td>naunind</td>\n",
       "      <td>5</td>\n",
       "      <td>9</td>\n",
       "    </tr>\n",
       "  </tbody>\n",
       "</table>\n",
       "</div>"
      ],
      "text/plain": [
       "      name  class  rollno\n",
       "0  daljeet      3       1\n",
       "1    rohan      4       2\n",
       "2  naunind      5       9"
      ]
     },
     "execution_count": 14,
     "metadata": {},
     "output_type": "execute_result"
    }
   ],
   "source": [
    "b"
   ]
  },
  {
   "cell_type": "code",
   "execution_count": 15,
   "metadata": {},
   "outputs": [],
   "source": [
    "b.to_csv(\"mydb.csv\")"
   ]
  },
  {
   "cell_type": "code",
   "execution_count": 16,
   "metadata": {},
   "outputs": [],
   "source": [
    "c=\"/home/daljeet-singh/Downloads/archive (1)/customers.csv\""
   ]
  },
  {
   "cell_type": "code",
   "execution_count": 17,
   "metadata": {},
   "outputs": [],
   "source": [
    "data=pd.read_csv(c)"
   ]
  },
  {
   "cell_type": "code",
   "execution_count": 18,
   "metadata": {},
   "outputs": [
    {
     "data": {
      "application/vnd.microsoft.datawrangler.viewer.v0+json": {
       "columns": [
        {
         "name": "index",
         "rawType": "int64",
         "type": "integer"
        },
        {
         "name": "customer_id",
         "rawType": "object",
         "type": "string"
        },
        {
         "name": "customer_unique_id",
         "rawType": "object",
         "type": "string"
        },
        {
         "name": "customer_zip_code_prefix",
         "rawType": "int64",
         "type": "integer"
        },
        {
         "name": "customer_city",
         "rawType": "object",
         "type": "string"
        },
        {
         "name": "customer_state",
         "rawType": "object",
         "type": "string"
        }
       ],
       "conversionMethod": "pd.DataFrame",
       "ref": "1f1c372e-179c-498c-a217-2edc0517833b",
       "rows": [
        [
         "0",
         "06b8999e2fba1a1fbc88172c00ba8bc7",
         "861eff4711a542e4b93843c6dd7febb0",
         "14409",
         "franca",
         "SP"
        ],
        [
         "1",
         "18955e83d337fd6b2def6b18a428ac77",
         "290c77bc529b7ac935b93aa66c333dc3",
         "9790",
         "sao bernardo do campo",
         "SP"
        ],
        [
         "2",
         "4e7b3e00288586ebd08712fdd0374a03",
         "060e732b5b29e8181a18229c7b0b2b5e",
         "1151",
         "sao paulo",
         "SP"
        ],
        [
         "3",
         "b2b6027bc5c5109e529d4dc6358b12c3",
         "259dac757896d24d7702b9acbbff3f3c",
         "8775",
         "mogi das cruzes",
         "SP"
        ],
        [
         "4",
         "4f2d8ab171c80ec8364f7c12e35b23ad",
         "345ecd01c38d18a9036ed96c73b8d066",
         "13056",
         "campinas",
         "SP"
        ],
        [
         "5",
         "879864dab9bc3047522c92c82e1212b8",
         "4c93744516667ad3b8f1fb645a3116a4",
         "89254",
         "jaragua do sul",
         "SC"
        ],
        [
         "6",
         "fd826e7cf63160e536e0908c76c3f441",
         "addec96d2e059c80c30fe6871d30d177",
         "4534",
         "sao paulo",
         "SP"
        ],
        [
         "7",
         "5e274e7a0c3809e14aba7ad5aae0d407",
         "57b2a98a409812fe9618067b6b8ebe4f",
         "35182",
         "timoteo",
         "MG"
        ],
        [
         "8",
         "5adf08e34b2e993982a47070956c5c65",
         "1175e95fb47ddff9de6b2b06188f7e0d",
         "81560",
         "curitiba",
         "PR"
        ],
        [
         "9",
         "4b7139f34592b3a31687243a302fa75b",
         "9afe194fb833f79e300e37e580171f22",
         "30575",
         "belo horizonte",
         "MG"
        ],
        [
         "10",
         "9fb35e4ed6f0a14a4977cd9aea4042bb",
         "2a7745e1ed516b289ed9b29c7d0539a5",
         "39400",
         "montes claros",
         "MG"
        ],
        [
         "11",
         "5aa9e4fdd4dfd20959cad2d772509598",
         "2a46fb94aef5cbeeb850418118cee090",
         "20231",
         "rio de janeiro",
         "RJ"
        ],
        [
         "12",
         "b2d1536598b73a9abd18e0d75d92f0a3",
         "918dc87cd72cd9f6ed4bd442ed785235",
         "18682",
         "lencois paulista",
         "SP"
        ],
        [
         "13",
         "eabebad39a88bb6f5b52376faec28612",
         "295c05e81917928d76245e842748184d",
         "5704",
         "sao paulo",
         "SP"
        ],
        [
         "14",
         "1f1c7bf1c9b041b292af6c1c4470b753",
         "3151a81801c8386361b62277d7fa5ecf",
         "95110",
         "caxias do sul",
         "RS"
        ],
        [
         "15",
         "206f3129c0e4d7d0b9550426023f0a08",
         "21f748a16f4e1688a9014eb3ee6fa325",
         "13412",
         "piracicaba",
         "SP"
        ],
        [
         "16",
         "a7c125a0a07b75146167b7f04a7f8e98",
         "5c2991dbd08bbf3cf410713c4de5a0b5",
         "22750",
         "rio de janeiro",
         "RJ"
        ],
        [
         "17",
         "c5c61596a3b6bd0cee5766992c48a9a1",
         "b6e99561fe6f34a55b0b7da92f8ed775",
         "7124",
         "guarulhos",
         "SP"
        ],
        [
         "18",
         "9b8ce803689b3562defaad4613ef426f",
         "7f3a72e8f988c6e735ba118d54f47458",
         "5416",
         "sao paulo",
         "SP"
        ],
        [
         "19",
         "49d0ea0986edde72da777f15456a0ee0",
         "3e6fd6b2f0d499456a6a6820a40f2d79",
         "68485",
         "pacaja",
         "PA"
        ],
        [
         "20",
         "154c4ded6991bdfa3cd249d11abf4130",
         "e607ede0e63436308660236f5a52da5e",
         "88034",
         "florianopolis",
         "SC"
        ],
        [
         "21",
         "690172ab319622688d3b4df42f676898",
         "a96d5cfa0d3181817e2b946f921ea021",
         "74914",
         "aparecida de goiania",
         "GO"
        ],
        [
         "22",
         "2938121a40a20953c43caa8c98787fcb",
         "482441ea6a06b1f72fe9784756c0ea75",
         "5713",
         "sao paulo",
         "SP"
        ],
        [
         "23",
         "237098a64674ae89babdc426746260fc",
         "4390ddbb6276a66ff1736a6710205dca",
         "82820",
         "curitiba",
         "PR"
        ],
        [
         "24",
         "cb721d7b4f271fd87011c4c83462c076",
         "a5844ba4bfc8d0cc61d13027c7e63bcc",
         "8225",
         "sao paulo",
         "SP"
        ],
        [
         "25",
         "f681356046d9fde60e70c73a18d65ea2",
         "5f102dd37243f152aec3607970aad100",
         "9121",
         "santo andre",
         "SP"
        ],
        [
         "26",
         "167bd30a409e3e4127df5a9408ebd394",
         "9c0096673baf55453a50073f12d1a37f",
         "74310",
         "goiania",
         "GO"
        ],
        [
         "27",
         "6e359a57a91f84095cc64e1b351aef8c",
         "2e6a42a9b5cbb0da62988694f18ee295",
         "4571",
         "sao paulo",
         "SP"
        ],
        [
         "28",
         "e0eea8f69a457b3f1fa246e44c9ebefd",
         "4d221875624017bc47b4d1ce7314a5b7",
         "29311",
         "cachoeiro de itapemirim",
         "ES"
        ],
        [
         "29",
         "e3109970a3fe8021d5ff82c577ce5606",
         "a8654e2af5da6bb72f52c22b164855e1",
         "5528",
         "sao paulo",
         "SP"
        ],
        [
         "30",
         "261cb4f92498ca05d5bd1a327a261d9c",
         "424aca6872c5bab80780a8dec03b7516",
         "12235",
         "sao jose dos campos",
         "SP"
        ],
        [
         "31",
         "6f92779347724b67e44e3224f3b4cffd",
         "bf4862777db128507e9efcc789215e9b",
         "18130",
         "sao roque",
         "SP"
        ],
        [
         "32",
         "2d5831cb2dff7cdefba62e950ae3dc7b",
         "e9dd12dca17352644a959d9dea133935",
         "42800",
         "camacari",
         "BA"
        ],
        [
         "33",
         "b2bed119388167a954382cca36c4777f",
         "e079b18794454de9d2be5c12b4392294",
         "27525",
         "resende",
         "RJ"
        ],
        [
         "34",
         "469634941c27cd844170935a3cf60b95",
         "ef07ba9aa5226f77264ffa5762b2280b",
         "81750",
         "curitiba",
         "PR"
        ],
        [
         "35",
         "df0aa5b8586495e0ddf6b601122e43a1",
         "85d234692f7bee8d6fea586e237334b6",
         "13175",
         "sumare",
         "SP"
        ],
        [
         "36",
         "41c8f4b570869791379a925899a6af8a",
         "fe3634ccefbcdb0537b45fd589e32e8e",
         "7170",
         "guarulhos",
         "SP"
        ],
        [
         "37",
         "54f755c3fd2709231f9964a1430c5218",
         "40febde16f4718a5def537786473b0be",
         "93415",
         "novo hamburgo",
         "RS"
        ],
        [
         "38",
         "4c06b42fbf7b97ab10779cda5549cd1c",
         "07d190f123147d9e89d4b922543d7948",
         "65075",
         "sao luis",
         "MA"
        ],
        [
         "39",
         "b6368ca0f56d4632f44d58ca431487b2",
         "dd992305cba295d997f263dbdf4e8c2e",
         "88104",
         "sao jose",
         "SC"
        ],
        [
         "40",
         "4a0e66fd30684aa1409cd1b66fec77cc",
         "86085586aaa8c5f47ed0b400da64c59d",
         "7176",
         "guarulhos",
         "SP"
        ],
        [
         "41",
         "c168abb9077b7821adae01dc1f0886c5",
         "5ad58a4e6a1a656b6bed070cadbaa003",
         "35960",
         "santa barbara",
         "MG"
        ],
        [
         "42",
         "a3b0fda37bae14cf754877bed475e80c",
         "c9158d089637ab443c78984d20da7fc0",
         "5727",
         "sao paulo",
         "SP"
        ],
        [
         "43",
         "0ccd415657ae8a6cd1c71b00155a019e",
         "66cc90195ca44cc7ac6a1cd0e1e1e7b2",
         "7053",
         "guarulhos",
         "SP"
        ],
        [
         "44",
         "c532a74a3ebf1bacce2e2bcce3783317",
         "91ec50a00ae74d0a229d2efdf4344e1e",
         "14026",
         "ribeirao preto",
         "SP"
        ],
        [
         "45",
         "19cecb194f54e614b70d971306a9931b",
         "d251c190ca75786e9ab937982d60d1d4",
         "30320",
         "belo horizonte",
         "MG"
        ],
        [
         "46",
         "f34a6e874087ec1f0e3dab9fdf659c5d",
         "233896de79986082f1f479f1f85281cb",
         "38300",
         "ituiutaba",
         "MG"
        ],
        [
         "47",
         "c132855c926907970dcf6f2bf0b33a24",
         "a8ae36a2bb6c2bbc3b5d62ede131c9ef",
         "18740",
         "taquarituba",
         "SP"
        ],
        [
         "48",
         "df85b96ba2ce3e49bde101b1614f52ac",
         "8d46223c91cbeb93e0930ca8bd8ffca2",
         "83085",
         "sao jose dos pinhais",
         "PR"
        ],
        [
         "49",
         "4d27341acd30a36bca39008ee9bb9050",
         "e021e698833bdeb89dfef3acb2e91f37",
         "89254",
         "jaragua do sul",
         "SC"
        ]
       ],
       "shape": {
        "columns": 5,
        "rows": 99441
       }
      },
      "text/html": [
       "<div>\n",
       "<style scoped>\n",
       "    .dataframe tbody tr th:only-of-type {\n",
       "        vertical-align: middle;\n",
       "    }\n",
       "\n",
       "    .dataframe tbody tr th {\n",
       "        vertical-align: top;\n",
       "    }\n",
       "\n",
       "    .dataframe thead th {\n",
       "        text-align: right;\n",
       "    }\n",
       "</style>\n",
       "<table border=\"1\" class=\"dataframe\">\n",
       "  <thead>\n",
       "    <tr style=\"text-align: right;\">\n",
       "      <th></th>\n",
       "      <th>customer_id</th>\n",
       "      <th>customer_unique_id</th>\n",
       "      <th>customer_zip_code_prefix</th>\n",
       "      <th>customer_city</th>\n",
       "      <th>customer_state</th>\n",
       "    </tr>\n",
       "  </thead>\n",
       "  <tbody>\n",
       "    <tr>\n",
       "      <th>0</th>\n",
       "      <td>06b8999e2fba1a1fbc88172c00ba8bc7</td>\n",
       "      <td>861eff4711a542e4b93843c6dd7febb0</td>\n",
       "      <td>14409</td>\n",
       "      <td>franca</td>\n",
       "      <td>SP</td>\n",
       "    </tr>\n",
       "    <tr>\n",
       "      <th>1</th>\n",
       "      <td>18955e83d337fd6b2def6b18a428ac77</td>\n",
       "      <td>290c77bc529b7ac935b93aa66c333dc3</td>\n",
       "      <td>9790</td>\n",
       "      <td>sao bernardo do campo</td>\n",
       "      <td>SP</td>\n",
       "    </tr>\n",
       "    <tr>\n",
       "      <th>2</th>\n",
       "      <td>4e7b3e00288586ebd08712fdd0374a03</td>\n",
       "      <td>060e732b5b29e8181a18229c7b0b2b5e</td>\n",
       "      <td>1151</td>\n",
       "      <td>sao paulo</td>\n",
       "      <td>SP</td>\n",
       "    </tr>\n",
       "    <tr>\n",
       "      <th>3</th>\n",
       "      <td>b2b6027bc5c5109e529d4dc6358b12c3</td>\n",
       "      <td>259dac757896d24d7702b9acbbff3f3c</td>\n",
       "      <td>8775</td>\n",
       "      <td>mogi das cruzes</td>\n",
       "      <td>SP</td>\n",
       "    </tr>\n",
       "    <tr>\n",
       "      <th>4</th>\n",
       "      <td>4f2d8ab171c80ec8364f7c12e35b23ad</td>\n",
       "      <td>345ecd01c38d18a9036ed96c73b8d066</td>\n",
       "      <td>13056</td>\n",
       "      <td>campinas</td>\n",
       "      <td>SP</td>\n",
       "    </tr>\n",
       "    <tr>\n",
       "      <th>...</th>\n",
       "      <td>...</td>\n",
       "      <td>...</td>\n",
       "      <td>...</td>\n",
       "      <td>...</td>\n",
       "      <td>...</td>\n",
       "    </tr>\n",
       "    <tr>\n",
       "      <th>99436</th>\n",
       "      <td>17ddf5dd5d51696bb3d7c6291687be6f</td>\n",
       "      <td>1a29b476fee25c95fbafc67c5ac95cf8</td>\n",
       "      <td>3937</td>\n",
       "      <td>sao paulo</td>\n",
       "      <td>SP</td>\n",
       "    </tr>\n",
       "    <tr>\n",
       "      <th>99437</th>\n",
       "      <td>e7b71a9017aa05c9a7fd292d714858e8</td>\n",
       "      <td>d52a67c98be1cf6a5c84435bd38d095d</td>\n",
       "      <td>6764</td>\n",
       "      <td>taboao da serra</td>\n",
       "      <td>SP</td>\n",
       "    </tr>\n",
       "    <tr>\n",
       "      <th>99438</th>\n",
       "      <td>5e28dfe12db7fb50a4b2f691faecea5e</td>\n",
       "      <td>e9f50caf99f032f0bf3c55141f019d99</td>\n",
       "      <td>60115</td>\n",
       "      <td>fortaleza</td>\n",
       "      <td>CE</td>\n",
       "    </tr>\n",
       "    <tr>\n",
       "      <th>99439</th>\n",
       "      <td>56b18e2166679b8a959d72dd06da27f9</td>\n",
       "      <td>73c2643a0a458b49f58cea58833b192e</td>\n",
       "      <td>92120</td>\n",
       "      <td>canoas</td>\n",
       "      <td>RS</td>\n",
       "    </tr>\n",
       "    <tr>\n",
       "      <th>99440</th>\n",
       "      <td>274fa6071e5e17fe303b9748641082c8</td>\n",
       "      <td>84732c5050c01db9b23e19ba39899398</td>\n",
       "      <td>6703</td>\n",
       "      <td>cotia</td>\n",
       "      <td>SP</td>\n",
       "    </tr>\n",
       "  </tbody>\n",
       "</table>\n",
       "<p>99441 rows × 5 columns</p>\n",
       "</div>"
      ],
      "text/plain": [
       "                            customer_id                customer_unique_id  \\\n",
       "0      06b8999e2fba1a1fbc88172c00ba8bc7  861eff4711a542e4b93843c6dd7febb0   \n",
       "1      18955e83d337fd6b2def6b18a428ac77  290c77bc529b7ac935b93aa66c333dc3   \n",
       "2      4e7b3e00288586ebd08712fdd0374a03  060e732b5b29e8181a18229c7b0b2b5e   \n",
       "3      b2b6027bc5c5109e529d4dc6358b12c3  259dac757896d24d7702b9acbbff3f3c   \n",
       "4      4f2d8ab171c80ec8364f7c12e35b23ad  345ecd01c38d18a9036ed96c73b8d066   \n",
       "...                                 ...                               ...   \n",
       "99436  17ddf5dd5d51696bb3d7c6291687be6f  1a29b476fee25c95fbafc67c5ac95cf8   \n",
       "99437  e7b71a9017aa05c9a7fd292d714858e8  d52a67c98be1cf6a5c84435bd38d095d   \n",
       "99438  5e28dfe12db7fb50a4b2f691faecea5e  e9f50caf99f032f0bf3c55141f019d99   \n",
       "99439  56b18e2166679b8a959d72dd06da27f9  73c2643a0a458b49f58cea58833b192e   \n",
       "99440  274fa6071e5e17fe303b9748641082c8  84732c5050c01db9b23e19ba39899398   \n",
       "\n",
       "       customer_zip_code_prefix          customer_city customer_state  \n",
       "0                         14409                 franca             SP  \n",
       "1                          9790  sao bernardo do campo             SP  \n",
       "2                          1151              sao paulo             SP  \n",
       "3                          8775        mogi das cruzes             SP  \n",
       "4                         13056               campinas             SP  \n",
       "...                         ...                    ...            ...  \n",
       "99436                      3937              sao paulo             SP  \n",
       "99437                      6764        taboao da serra             SP  \n",
       "99438                     60115              fortaleza             CE  \n",
       "99439                     92120                 canoas             RS  \n",
       "99440                      6703                  cotia             SP  \n",
       "\n",
       "[99441 rows x 5 columns]"
      ]
     },
     "execution_count": 18,
     "metadata": {},
     "output_type": "execute_result"
    }
   ],
   "source": [
    "data"
   ]
  },
  {
   "cell_type": "code",
   "execution_count": 19,
   "metadata": {},
   "outputs": [
    {
     "data": {
      "application/vnd.microsoft.datawrangler.viewer.v0+json": {
       "columns": [
        {
         "name": "index",
         "rawType": "int64",
         "type": "integer"
        },
        {
         "name": "customer_id",
         "rawType": "bool",
         "type": "boolean"
        },
        {
         "name": "customer_unique_id",
         "rawType": "bool",
         "type": "boolean"
        },
        {
         "name": "customer_zip_code_prefix",
         "rawType": "bool",
         "type": "boolean"
        },
        {
         "name": "customer_city",
         "rawType": "bool",
         "type": "boolean"
        },
        {
         "name": "customer_state",
         "rawType": "bool",
         "type": "boolean"
        }
       ],
       "conversionMethod": "pd.DataFrame",
       "ref": "1199d6f7-1f10-4286-b8fb-521d44a4f632",
       "rows": [
        [
         "0",
         "False",
         "False",
         "False",
         "False",
         "False"
        ],
        [
         "1",
         "False",
         "False",
         "False",
         "False",
         "False"
        ],
        [
         "2",
         "False",
         "False",
         "False",
         "False",
         "False"
        ],
        [
         "3",
         "False",
         "False",
         "False",
         "False",
         "False"
        ],
        [
         "4",
         "False",
         "False",
         "False",
         "False",
         "False"
        ],
        [
         "5",
         "False",
         "False",
         "False",
         "False",
         "False"
        ],
        [
         "6",
         "False",
         "False",
         "False",
         "False",
         "False"
        ],
        [
         "7",
         "False",
         "False",
         "False",
         "False",
         "False"
        ],
        [
         "8",
         "False",
         "False",
         "False",
         "False",
         "False"
        ],
        [
         "9",
         "False",
         "False",
         "False",
         "False",
         "False"
        ],
        [
         "10",
         "False",
         "False",
         "False",
         "False",
         "False"
        ],
        [
         "11",
         "False",
         "False",
         "False",
         "False",
         "False"
        ],
        [
         "12",
         "False",
         "False",
         "False",
         "False",
         "False"
        ],
        [
         "13",
         "False",
         "False",
         "False",
         "False",
         "False"
        ],
        [
         "14",
         "False",
         "False",
         "False",
         "False",
         "False"
        ],
        [
         "15",
         "False",
         "False",
         "False",
         "False",
         "False"
        ],
        [
         "16",
         "False",
         "False",
         "False",
         "False",
         "False"
        ],
        [
         "17",
         "False",
         "False",
         "False",
         "False",
         "False"
        ],
        [
         "18",
         "False",
         "False",
         "False",
         "False",
         "False"
        ],
        [
         "19",
         "False",
         "False",
         "False",
         "False",
         "False"
        ],
        [
         "20",
         "False",
         "False",
         "False",
         "False",
         "False"
        ],
        [
         "21",
         "False",
         "False",
         "False",
         "False",
         "False"
        ],
        [
         "22",
         "False",
         "False",
         "False",
         "False",
         "False"
        ],
        [
         "23",
         "False",
         "False",
         "False",
         "False",
         "False"
        ],
        [
         "24",
         "False",
         "False",
         "False",
         "False",
         "False"
        ],
        [
         "25",
         "False",
         "False",
         "False",
         "False",
         "False"
        ],
        [
         "26",
         "False",
         "False",
         "False",
         "False",
         "False"
        ],
        [
         "27",
         "False",
         "False",
         "False",
         "False",
         "False"
        ],
        [
         "28",
         "False",
         "False",
         "False",
         "False",
         "False"
        ],
        [
         "29",
         "False",
         "False",
         "False",
         "False",
         "False"
        ],
        [
         "30",
         "False",
         "False",
         "False",
         "False",
         "False"
        ],
        [
         "31",
         "False",
         "False",
         "False",
         "False",
         "False"
        ],
        [
         "32",
         "False",
         "False",
         "False",
         "False",
         "False"
        ],
        [
         "33",
         "False",
         "False",
         "False",
         "False",
         "False"
        ],
        [
         "34",
         "False",
         "False",
         "False",
         "False",
         "False"
        ],
        [
         "35",
         "False",
         "False",
         "False",
         "False",
         "False"
        ],
        [
         "36",
         "False",
         "False",
         "False",
         "False",
         "False"
        ],
        [
         "37",
         "False",
         "False",
         "False",
         "False",
         "False"
        ],
        [
         "38",
         "False",
         "False",
         "False",
         "False",
         "False"
        ],
        [
         "39",
         "False",
         "False",
         "False",
         "False",
         "False"
        ],
        [
         "40",
         "False",
         "False",
         "False",
         "False",
         "False"
        ],
        [
         "41",
         "False",
         "False",
         "False",
         "False",
         "False"
        ],
        [
         "42",
         "False",
         "False",
         "False",
         "False",
         "False"
        ],
        [
         "43",
         "False",
         "False",
         "False",
         "False",
         "False"
        ],
        [
         "44",
         "False",
         "False",
         "False",
         "False",
         "False"
        ],
        [
         "45",
         "False",
         "False",
         "False",
         "False",
         "False"
        ],
        [
         "46",
         "False",
         "False",
         "False",
         "False",
         "False"
        ],
        [
         "47",
         "False",
         "False",
         "False",
         "False",
         "False"
        ],
        [
         "48",
         "False",
         "False",
         "False",
         "False",
         "False"
        ],
        [
         "49",
         "False",
         "False",
         "False",
         "False",
         "False"
        ]
       ],
       "shape": {
        "columns": 5,
        "rows": 99441
       }
      },
      "text/html": [
       "<div>\n",
       "<style scoped>\n",
       "    .dataframe tbody tr th:only-of-type {\n",
       "        vertical-align: middle;\n",
       "    }\n",
       "\n",
       "    .dataframe tbody tr th {\n",
       "        vertical-align: top;\n",
       "    }\n",
       "\n",
       "    .dataframe thead th {\n",
       "        text-align: right;\n",
       "    }\n",
       "</style>\n",
       "<table border=\"1\" class=\"dataframe\">\n",
       "  <thead>\n",
       "    <tr style=\"text-align: right;\">\n",
       "      <th></th>\n",
       "      <th>customer_id</th>\n",
       "      <th>customer_unique_id</th>\n",
       "      <th>customer_zip_code_prefix</th>\n",
       "      <th>customer_city</th>\n",
       "      <th>customer_state</th>\n",
       "    </tr>\n",
       "  </thead>\n",
       "  <tbody>\n",
       "    <tr>\n",
       "      <th>0</th>\n",
       "      <td>False</td>\n",
       "      <td>False</td>\n",
       "      <td>False</td>\n",
       "      <td>False</td>\n",
       "      <td>False</td>\n",
       "    </tr>\n",
       "    <tr>\n",
       "      <th>1</th>\n",
       "      <td>False</td>\n",
       "      <td>False</td>\n",
       "      <td>False</td>\n",
       "      <td>False</td>\n",
       "      <td>False</td>\n",
       "    </tr>\n",
       "    <tr>\n",
       "      <th>2</th>\n",
       "      <td>False</td>\n",
       "      <td>False</td>\n",
       "      <td>False</td>\n",
       "      <td>False</td>\n",
       "      <td>False</td>\n",
       "    </tr>\n",
       "    <tr>\n",
       "      <th>3</th>\n",
       "      <td>False</td>\n",
       "      <td>False</td>\n",
       "      <td>False</td>\n",
       "      <td>False</td>\n",
       "      <td>False</td>\n",
       "    </tr>\n",
       "    <tr>\n",
       "      <th>4</th>\n",
       "      <td>False</td>\n",
       "      <td>False</td>\n",
       "      <td>False</td>\n",
       "      <td>False</td>\n",
       "      <td>False</td>\n",
       "    </tr>\n",
       "    <tr>\n",
       "      <th>...</th>\n",
       "      <td>...</td>\n",
       "      <td>...</td>\n",
       "      <td>...</td>\n",
       "      <td>...</td>\n",
       "      <td>...</td>\n",
       "    </tr>\n",
       "    <tr>\n",
       "      <th>99436</th>\n",
       "      <td>False</td>\n",
       "      <td>False</td>\n",
       "      <td>False</td>\n",
       "      <td>False</td>\n",
       "      <td>False</td>\n",
       "    </tr>\n",
       "    <tr>\n",
       "      <th>99437</th>\n",
       "      <td>False</td>\n",
       "      <td>False</td>\n",
       "      <td>False</td>\n",
       "      <td>False</td>\n",
       "      <td>False</td>\n",
       "    </tr>\n",
       "    <tr>\n",
       "      <th>99438</th>\n",
       "      <td>False</td>\n",
       "      <td>False</td>\n",
       "      <td>False</td>\n",
       "      <td>False</td>\n",
       "      <td>False</td>\n",
       "    </tr>\n",
       "    <tr>\n",
       "      <th>99439</th>\n",
       "      <td>False</td>\n",
       "      <td>False</td>\n",
       "      <td>False</td>\n",
       "      <td>False</td>\n",
       "      <td>False</td>\n",
       "    </tr>\n",
       "    <tr>\n",
       "      <th>99440</th>\n",
       "      <td>False</td>\n",
       "      <td>False</td>\n",
       "      <td>False</td>\n",
       "      <td>False</td>\n",
       "      <td>False</td>\n",
       "    </tr>\n",
       "  </tbody>\n",
       "</table>\n",
       "<p>99441 rows × 5 columns</p>\n",
       "</div>"
      ],
      "text/plain": [
       "       customer_id  customer_unique_id  customer_zip_code_prefix  \\\n",
       "0            False               False                     False   \n",
       "1            False               False                     False   \n",
       "2            False               False                     False   \n",
       "3            False               False                     False   \n",
       "4            False               False                     False   \n",
       "...            ...                 ...                       ...   \n",
       "99436        False               False                     False   \n",
       "99437        False               False                     False   \n",
       "99438        False               False                     False   \n",
       "99439        False               False                     False   \n",
       "99440        False               False                     False   \n",
       "\n",
       "       customer_city  customer_state  \n",
       "0              False           False  \n",
       "1              False           False  \n",
       "2              False           False  \n",
       "3              False           False  \n",
       "4              False           False  \n",
       "...              ...             ...  \n",
       "99436          False           False  \n",
       "99437          False           False  \n",
       "99438          False           False  \n",
       "99439          False           False  \n",
       "99440          False           False  \n",
       "\n",
       "[99441 rows x 5 columns]"
      ]
     },
     "execution_count": 19,
     "metadata": {},
     "output_type": "execute_result"
    }
   ],
   "source": [
    "data.isnull()"
   ]
  },
  {
   "cell_type": "code",
   "execution_count": 20,
   "metadata": {},
   "outputs": [
    {
     "data": {
      "application/vnd.microsoft.datawrangler.viewer.v0+json": {
       "columns": [
        {
         "name": "index",
         "rawType": "int64",
         "type": "integer"
        },
        {
         "name": "customer_id",
         "rawType": "object",
         "type": "string"
        },
        {
         "name": "customer_unique_id",
         "rawType": "object",
         "type": "string"
        },
        {
         "name": "customer_zip_code_prefix",
         "rawType": "int64",
         "type": "integer"
        },
        {
         "name": "customer_city",
         "rawType": "object",
         "type": "string"
        },
        {
         "name": "customer_state",
         "rawType": "object",
         "type": "string"
        }
       ],
       "conversionMethod": "pd.DataFrame",
       "ref": "b432eb7c-fffe-4701-a0b9-6e486aaca1c2",
       "rows": [
        [
         "0",
         "06b8999e2fba1a1fbc88172c00ba8bc7",
         "861eff4711a542e4b93843c6dd7febb0",
         "14409",
         "franca",
         "SP"
        ],
        [
         "1",
         "18955e83d337fd6b2def6b18a428ac77",
         "290c77bc529b7ac935b93aa66c333dc3",
         "9790",
         "sao bernardo do campo",
         "SP"
        ],
        [
         "2",
         "4e7b3e00288586ebd08712fdd0374a03",
         "060e732b5b29e8181a18229c7b0b2b5e",
         "1151",
         "sao paulo",
         "SP"
        ],
        [
         "3",
         "b2b6027bc5c5109e529d4dc6358b12c3",
         "259dac757896d24d7702b9acbbff3f3c",
         "8775",
         "mogi das cruzes",
         "SP"
        ],
        [
         "4",
         "4f2d8ab171c80ec8364f7c12e35b23ad",
         "345ecd01c38d18a9036ed96c73b8d066",
         "13056",
         "campinas",
         "SP"
        ],
        [
         "5",
         "879864dab9bc3047522c92c82e1212b8",
         "4c93744516667ad3b8f1fb645a3116a4",
         "89254",
         "jaragua do sul",
         "SC"
        ],
        [
         "6",
         "fd826e7cf63160e536e0908c76c3f441",
         "addec96d2e059c80c30fe6871d30d177",
         "4534",
         "sao paulo",
         "SP"
        ],
        [
         "7",
         "5e274e7a0c3809e14aba7ad5aae0d407",
         "57b2a98a409812fe9618067b6b8ebe4f",
         "35182",
         "timoteo",
         "MG"
        ],
        [
         "8",
         "5adf08e34b2e993982a47070956c5c65",
         "1175e95fb47ddff9de6b2b06188f7e0d",
         "81560",
         "curitiba",
         "PR"
        ],
        [
         "9",
         "4b7139f34592b3a31687243a302fa75b",
         "9afe194fb833f79e300e37e580171f22",
         "30575",
         "belo horizonte",
         "MG"
        ],
        [
         "10",
         "9fb35e4ed6f0a14a4977cd9aea4042bb",
         "2a7745e1ed516b289ed9b29c7d0539a5",
         "39400",
         "montes claros",
         "MG"
        ],
        [
         "11",
         "5aa9e4fdd4dfd20959cad2d772509598",
         "2a46fb94aef5cbeeb850418118cee090",
         "20231",
         "rio de janeiro",
         "RJ"
        ],
        [
         "12",
         "b2d1536598b73a9abd18e0d75d92f0a3",
         "918dc87cd72cd9f6ed4bd442ed785235",
         "18682",
         "lencois paulista",
         "SP"
        ],
        [
         "13",
         "eabebad39a88bb6f5b52376faec28612",
         "295c05e81917928d76245e842748184d",
         "5704",
         "sao paulo",
         "SP"
        ],
        [
         "14",
         "1f1c7bf1c9b041b292af6c1c4470b753",
         "3151a81801c8386361b62277d7fa5ecf",
         "95110",
         "caxias do sul",
         "RS"
        ],
        [
         "15",
         "206f3129c0e4d7d0b9550426023f0a08",
         "21f748a16f4e1688a9014eb3ee6fa325",
         "13412",
         "piracicaba",
         "SP"
        ],
        [
         "16",
         "a7c125a0a07b75146167b7f04a7f8e98",
         "5c2991dbd08bbf3cf410713c4de5a0b5",
         "22750",
         "rio de janeiro",
         "RJ"
        ],
        [
         "17",
         "c5c61596a3b6bd0cee5766992c48a9a1",
         "b6e99561fe6f34a55b0b7da92f8ed775",
         "7124",
         "guarulhos",
         "SP"
        ],
        [
         "18",
         "9b8ce803689b3562defaad4613ef426f",
         "7f3a72e8f988c6e735ba118d54f47458",
         "5416",
         "sao paulo",
         "SP"
        ],
        [
         "19",
         "49d0ea0986edde72da777f15456a0ee0",
         "3e6fd6b2f0d499456a6a6820a40f2d79",
         "68485",
         "pacaja",
         "PA"
        ],
        [
         "20",
         "154c4ded6991bdfa3cd249d11abf4130",
         "e607ede0e63436308660236f5a52da5e",
         "88034",
         "florianopolis",
         "SC"
        ],
        [
         "21",
         "690172ab319622688d3b4df42f676898",
         "a96d5cfa0d3181817e2b946f921ea021",
         "74914",
         "aparecida de goiania",
         "GO"
        ],
        [
         "22",
         "2938121a40a20953c43caa8c98787fcb",
         "482441ea6a06b1f72fe9784756c0ea75",
         "5713",
         "sao paulo",
         "SP"
        ],
        [
         "23",
         "237098a64674ae89babdc426746260fc",
         "4390ddbb6276a66ff1736a6710205dca",
         "82820",
         "curitiba",
         "PR"
        ],
        [
         "24",
         "cb721d7b4f271fd87011c4c83462c076",
         "a5844ba4bfc8d0cc61d13027c7e63bcc",
         "8225",
         "sao paulo",
         "SP"
        ],
        [
         "25",
         "f681356046d9fde60e70c73a18d65ea2",
         "5f102dd37243f152aec3607970aad100",
         "9121",
         "santo andre",
         "SP"
        ],
        [
         "26",
         "167bd30a409e3e4127df5a9408ebd394",
         "9c0096673baf55453a50073f12d1a37f",
         "74310",
         "goiania",
         "GO"
        ],
        [
         "27",
         "6e359a57a91f84095cc64e1b351aef8c",
         "2e6a42a9b5cbb0da62988694f18ee295",
         "4571",
         "sao paulo",
         "SP"
        ],
        [
         "28",
         "e0eea8f69a457b3f1fa246e44c9ebefd",
         "4d221875624017bc47b4d1ce7314a5b7",
         "29311",
         "cachoeiro de itapemirim",
         "ES"
        ],
        [
         "29",
         "e3109970a3fe8021d5ff82c577ce5606",
         "a8654e2af5da6bb72f52c22b164855e1",
         "5528",
         "sao paulo",
         "SP"
        ],
        [
         "30",
         "261cb4f92498ca05d5bd1a327a261d9c",
         "424aca6872c5bab80780a8dec03b7516",
         "12235",
         "sao jose dos campos",
         "SP"
        ],
        [
         "31",
         "6f92779347724b67e44e3224f3b4cffd",
         "bf4862777db128507e9efcc789215e9b",
         "18130",
         "sao roque",
         "SP"
        ],
        [
         "32",
         "2d5831cb2dff7cdefba62e950ae3dc7b",
         "e9dd12dca17352644a959d9dea133935",
         "42800",
         "camacari",
         "BA"
        ],
        [
         "33",
         "b2bed119388167a954382cca36c4777f",
         "e079b18794454de9d2be5c12b4392294",
         "27525",
         "resende",
         "RJ"
        ],
        [
         "34",
         "469634941c27cd844170935a3cf60b95",
         "ef07ba9aa5226f77264ffa5762b2280b",
         "81750",
         "curitiba",
         "PR"
        ],
        [
         "35",
         "df0aa5b8586495e0ddf6b601122e43a1",
         "85d234692f7bee8d6fea586e237334b6",
         "13175",
         "sumare",
         "SP"
        ],
        [
         "36",
         "41c8f4b570869791379a925899a6af8a",
         "fe3634ccefbcdb0537b45fd589e32e8e",
         "7170",
         "guarulhos",
         "SP"
        ],
        [
         "37",
         "54f755c3fd2709231f9964a1430c5218",
         "40febde16f4718a5def537786473b0be",
         "93415",
         "novo hamburgo",
         "RS"
        ],
        [
         "38",
         "4c06b42fbf7b97ab10779cda5549cd1c",
         "07d190f123147d9e89d4b922543d7948",
         "65075",
         "sao luis",
         "MA"
        ],
        [
         "39",
         "b6368ca0f56d4632f44d58ca431487b2",
         "dd992305cba295d997f263dbdf4e8c2e",
         "88104",
         "sao jose",
         "SC"
        ],
        [
         "40",
         "4a0e66fd30684aa1409cd1b66fec77cc",
         "86085586aaa8c5f47ed0b400da64c59d",
         "7176",
         "guarulhos",
         "SP"
        ],
        [
         "41",
         "c168abb9077b7821adae01dc1f0886c5",
         "5ad58a4e6a1a656b6bed070cadbaa003",
         "35960",
         "santa barbara",
         "MG"
        ],
        [
         "42",
         "a3b0fda37bae14cf754877bed475e80c",
         "c9158d089637ab443c78984d20da7fc0",
         "5727",
         "sao paulo",
         "SP"
        ],
        [
         "43",
         "0ccd415657ae8a6cd1c71b00155a019e",
         "66cc90195ca44cc7ac6a1cd0e1e1e7b2",
         "7053",
         "guarulhos",
         "SP"
        ],
        [
         "44",
         "c532a74a3ebf1bacce2e2bcce3783317",
         "91ec50a00ae74d0a229d2efdf4344e1e",
         "14026",
         "ribeirao preto",
         "SP"
        ],
        [
         "45",
         "19cecb194f54e614b70d971306a9931b",
         "d251c190ca75786e9ab937982d60d1d4",
         "30320",
         "belo horizonte",
         "MG"
        ],
        [
         "46",
         "f34a6e874087ec1f0e3dab9fdf659c5d",
         "233896de79986082f1f479f1f85281cb",
         "38300",
         "ituiutaba",
         "MG"
        ],
        [
         "47",
         "c132855c926907970dcf6f2bf0b33a24",
         "a8ae36a2bb6c2bbc3b5d62ede131c9ef",
         "18740",
         "taquarituba",
         "SP"
        ],
        [
         "48",
         "df85b96ba2ce3e49bde101b1614f52ac",
         "8d46223c91cbeb93e0930ca8bd8ffca2",
         "83085",
         "sao jose dos pinhais",
         "PR"
        ],
        [
         "49",
         "4d27341acd30a36bca39008ee9bb9050",
         "e021e698833bdeb89dfef3acb2e91f37",
         "89254",
         "jaragua do sul",
         "SC"
        ]
       ],
       "shape": {
        "columns": 5,
        "rows": 99441
       }
      },
      "text/html": [
       "<div>\n",
       "<style scoped>\n",
       "    .dataframe tbody tr th:only-of-type {\n",
       "        vertical-align: middle;\n",
       "    }\n",
       "\n",
       "    .dataframe tbody tr th {\n",
       "        vertical-align: top;\n",
       "    }\n",
       "\n",
       "    .dataframe thead th {\n",
       "        text-align: right;\n",
       "    }\n",
       "</style>\n",
       "<table border=\"1\" class=\"dataframe\">\n",
       "  <thead>\n",
       "    <tr style=\"text-align: right;\">\n",
       "      <th></th>\n",
       "      <th>customer_id</th>\n",
       "      <th>customer_unique_id</th>\n",
       "      <th>customer_zip_code_prefix</th>\n",
       "      <th>customer_city</th>\n",
       "      <th>customer_state</th>\n",
       "    </tr>\n",
       "  </thead>\n",
       "  <tbody>\n",
       "    <tr>\n",
       "      <th>0</th>\n",
       "      <td>06b8999e2fba1a1fbc88172c00ba8bc7</td>\n",
       "      <td>861eff4711a542e4b93843c6dd7febb0</td>\n",
       "      <td>14409</td>\n",
       "      <td>franca</td>\n",
       "      <td>SP</td>\n",
       "    </tr>\n",
       "    <tr>\n",
       "      <th>1</th>\n",
       "      <td>18955e83d337fd6b2def6b18a428ac77</td>\n",
       "      <td>290c77bc529b7ac935b93aa66c333dc3</td>\n",
       "      <td>9790</td>\n",
       "      <td>sao bernardo do campo</td>\n",
       "      <td>SP</td>\n",
       "    </tr>\n",
       "    <tr>\n",
       "      <th>2</th>\n",
       "      <td>4e7b3e00288586ebd08712fdd0374a03</td>\n",
       "      <td>060e732b5b29e8181a18229c7b0b2b5e</td>\n",
       "      <td>1151</td>\n",
       "      <td>sao paulo</td>\n",
       "      <td>SP</td>\n",
       "    </tr>\n",
       "    <tr>\n",
       "      <th>3</th>\n",
       "      <td>b2b6027bc5c5109e529d4dc6358b12c3</td>\n",
       "      <td>259dac757896d24d7702b9acbbff3f3c</td>\n",
       "      <td>8775</td>\n",
       "      <td>mogi das cruzes</td>\n",
       "      <td>SP</td>\n",
       "    </tr>\n",
       "    <tr>\n",
       "      <th>4</th>\n",
       "      <td>4f2d8ab171c80ec8364f7c12e35b23ad</td>\n",
       "      <td>345ecd01c38d18a9036ed96c73b8d066</td>\n",
       "      <td>13056</td>\n",
       "      <td>campinas</td>\n",
       "      <td>SP</td>\n",
       "    </tr>\n",
       "    <tr>\n",
       "      <th>...</th>\n",
       "      <td>...</td>\n",
       "      <td>...</td>\n",
       "      <td>...</td>\n",
       "      <td>...</td>\n",
       "      <td>...</td>\n",
       "    </tr>\n",
       "    <tr>\n",
       "      <th>99436</th>\n",
       "      <td>17ddf5dd5d51696bb3d7c6291687be6f</td>\n",
       "      <td>1a29b476fee25c95fbafc67c5ac95cf8</td>\n",
       "      <td>3937</td>\n",
       "      <td>sao paulo</td>\n",
       "      <td>SP</td>\n",
       "    </tr>\n",
       "    <tr>\n",
       "      <th>99437</th>\n",
       "      <td>e7b71a9017aa05c9a7fd292d714858e8</td>\n",
       "      <td>d52a67c98be1cf6a5c84435bd38d095d</td>\n",
       "      <td>6764</td>\n",
       "      <td>taboao da serra</td>\n",
       "      <td>SP</td>\n",
       "    </tr>\n",
       "    <tr>\n",
       "      <th>99438</th>\n",
       "      <td>5e28dfe12db7fb50a4b2f691faecea5e</td>\n",
       "      <td>e9f50caf99f032f0bf3c55141f019d99</td>\n",
       "      <td>60115</td>\n",
       "      <td>fortaleza</td>\n",
       "      <td>CE</td>\n",
       "    </tr>\n",
       "    <tr>\n",
       "      <th>99439</th>\n",
       "      <td>56b18e2166679b8a959d72dd06da27f9</td>\n",
       "      <td>73c2643a0a458b49f58cea58833b192e</td>\n",
       "      <td>92120</td>\n",
       "      <td>canoas</td>\n",
       "      <td>RS</td>\n",
       "    </tr>\n",
       "    <tr>\n",
       "      <th>99440</th>\n",
       "      <td>274fa6071e5e17fe303b9748641082c8</td>\n",
       "      <td>84732c5050c01db9b23e19ba39899398</td>\n",
       "      <td>6703</td>\n",
       "      <td>cotia</td>\n",
       "      <td>SP</td>\n",
       "    </tr>\n",
       "  </tbody>\n",
       "</table>\n",
       "<p>99441 rows × 5 columns</p>\n",
       "</div>"
      ],
      "text/plain": [
       "                            customer_id                customer_unique_id  \\\n",
       "0      06b8999e2fba1a1fbc88172c00ba8bc7  861eff4711a542e4b93843c6dd7febb0   \n",
       "1      18955e83d337fd6b2def6b18a428ac77  290c77bc529b7ac935b93aa66c333dc3   \n",
       "2      4e7b3e00288586ebd08712fdd0374a03  060e732b5b29e8181a18229c7b0b2b5e   \n",
       "3      b2b6027bc5c5109e529d4dc6358b12c3  259dac757896d24d7702b9acbbff3f3c   \n",
       "4      4f2d8ab171c80ec8364f7c12e35b23ad  345ecd01c38d18a9036ed96c73b8d066   \n",
       "...                                 ...                               ...   \n",
       "99436  17ddf5dd5d51696bb3d7c6291687be6f  1a29b476fee25c95fbafc67c5ac95cf8   \n",
       "99437  e7b71a9017aa05c9a7fd292d714858e8  d52a67c98be1cf6a5c84435bd38d095d   \n",
       "99438  5e28dfe12db7fb50a4b2f691faecea5e  e9f50caf99f032f0bf3c55141f019d99   \n",
       "99439  56b18e2166679b8a959d72dd06da27f9  73c2643a0a458b49f58cea58833b192e   \n",
       "99440  274fa6071e5e17fe303b9748641082c8  84732c5050c01db9b23e19ba39899398   \n",
       "\n",
       "       customer_zip_code_prefix          customer_city customer_state  \n",
       "0                         14409                 franca             SP  \n",
       "1                          9790  sao bernardo do campo             SP  \n",
       "2                          1151              sao paulo             SP  \n",
       "3                          8775        mogi das cruzes             SP  \n",
       "4                         13056               campinas             SP  \n",
       "...                         ...                    ...            ...  \n",
       "99436                      3937              sao paulo             SP  \n",
       "99437                      6764        taboao da serra             SP  \n",
       "99438                     60115              fortaleza             CE  \n",
       "99439                     92120                 canoas             RS  \n",
       "99440                      6703                  cotia             SP  \n",
       "\n",
       "[99441 rows x 5 columns]"
      ]
     },
     "execution_count": 20,
     "metadata": {},
     "output_type": "execute_result"
    }
   ],
   "source": [
    "data.drop_duplicates()"
   ]
  },
  {
   "cell_type": "code",
   "execution_count": 21,
   "metadata": {},
   "outputs": [],
   "source": [
    "data1=pd.read_csv(\"/home/daljeet-singh/Downloads/archive(1)/A_year_of_pizza_sales_from_a_pizza_place_872_68.csv\")"
   ]
  },
  {
   "cell_type": "code",
   "execution_count": 22,
   "metadata": {},
   "outputs": [
    {
     "data": {
      "application/vnd.microsoft.datawrangler.viewer.v0+json": {
       "columns": [
        {
         "name": "index",
         "rawType": "int64",
         "type": "integer"
        },
        {
         "name": "Unnamed: 0",
         "rawType": "int64",
         "type": "integer"
        },
        {
         "name": "X",
         "rawType": "int64",
         "type": "integer"
        },
        {
         "name": "id",
         "rawType": "object",
         "type": "string"
        },
        {
         "name": "date",
         "rawType": "object",
         "type": "string"
        },
        {
         "name": "time",
         "rawType": "object",
         "type": "string"
        },
        {
         "name": "name",
         "rawType": "object",
         "type": "string"
        },
        {
         "name": "size",
         "rawType": "object",
         "type": "string"
        },
        {
         "name": "type",
         "rawType": "object",
         "type": "string"
        },
        {
         "name": "price",
         "rawType": "float64",
         "type": "float"
        }
       ],
       "conversionMethod": "pd.DataFrame",
       "ref": "6a3a8423-42ca-4b7c-8192-be2d9cda523c",
       "rows": [
        [
         "0",
         "1",
         "1",
         "2015-000001",
         "2015-01-01",
         "11:38:36",
         "hawaiian",
         "M",
         "classic",
         "13.25"
        ],
        [
         "1",
         "2",
         "2",
         "2015-000002",
         "2015-01-01",
         "11:57:40",
         "classic_dlx",
         "M",
         "classic",
         "16.0"
        ],
        [
         "2",
         "3",
         "3",
         "2015-000002",
         "2015-01-01",
         "11:57:40",
         "mexicana",
         "M",
         "veggie",
         "16.0"
        ],
        [
         "3",
         "4",
         "4",
         "2015-000002",
         "2015-01-01",
         "11:57:40",
         "thai_ckn",
         "L",
         "chicken",
         "20.75"
        ],
        [
         "4",
         "5",
         "5",
         "2015-000002",
         "2015-01-01",
         "11:57:40",
         "five_cheese",
         "L",
         "veggie",
         "18.5"
        ],
        [
         "5",
         "6",
         "6",
         "2015-000002",
         "2015-01-01",
         "11:57:40",
         "ital_supr",
         "L",
         "supreme",
         "20.75"
        ],
        [
         "6",
         "7",
         "7",
         "2015-000003",
         "2015-01-01",
         "12:12:28",
         "prsc_argla",
         "L",
         "supreme",
         "20.75"
        ],
        [
         "7",
         "8",
         "8",
         "2015-000003",
         "2015-01-01",
         "12:12:28",
         "ital_supr",
         "M",
         "supreme",
         "16.5"
        ],
        [
         "8",
         "9",
         "9",
         "2015-000004",
         "2015-01-01",
         "12:16:31",
         "ital_supr",
         "M",
         "supreme",
         "16.5"
        ],
        [
         "9",
         "10",
         "10",
         "2015-000005",
         "2015-01-01",
         "12:21:30",
         "ital_supr",
         "M",
         "supreme",
         "16.5"
        ],
        [
         "10",
         "11",
         "11",
         "2015-000006",
         "2015-01-01",
         "12:29:36",
         "bbq_ckn",
         "S",
         "chicken",
         "12.75"
        ],
        [
         "11",
         "12",
         "12",
         "2015-000006",
         "2015-01-01",
         "12:29:36",
         "the_greek",
         "S",
         "classic",
         "12.0"
        ],
        [
         "12",
         "13",
         "13",
         "2015-000007",
         "2015-01-01",
         "12:50:37",
         "spinach_supr",
         "S",
         "supreme",
         "12.5"
        ],
        [
         "13",
         "14",
         "14",
         "2015-000008",
         "2015-01-01",
         "12:51:37",
         "spinach_supr",
         "S",
         "supreme",
         "12.5"
        ],
        [
         "14",
         "15",
         "15",
         "2015-000009",
         "2015-01-01",
         "12:52:01",
         "ital_supr",
         "L",
         "supreme",
         "20.75"
        ],
        [
         "15",
         "16",
         "16",
         "2015-000009",
         "2015-01-01",
         "12:52:01",
         "mexicana",
         "S",
         "veggie",
         "12.0"
        ],
        [
         "16",
         "17",
         "17",
         "2015-000009",
         "2015-01-01",
         "12:52:01",
         "spin_pesto",
         "L",
         "veggie",
         "20.75"
        ],
        [
         "17",
         "18",
         "18",
         "2015-000009",
         "2015-01-01",
         "12:52:01",
         "spicy_ital",
         "L",
         "supreme",
         "20.75"
        ],
        [
         "18",
         "19",
         "19",
         "2015-000009",
         "2015-01-01",
         "12:52:01",
         "ital_cpcllo",
         "L",
         "classic",
         "20.5"
        ],
        [
         "19",
         "20",
         "20",
         "2015-000009",
         "2015-01-01",
         "12:52:01",
         "veggie_veg",
         "S",
         "veggie",
         "12.0"
        ],
        [
         "20",
         "21",
         "21",
         "2015-000009",
         "2015-01-01",
         "12:52:01",
         "green_garden",
         "S",
         "veggie",
         "12.0"
        ],
        [
         "21",
         "22",
         "22",
         "2015-000009",
         "2015-01-01",
         "12:52:01",
         "classic_dlx",
         "S",
         "classic",
         "12.0"
        ],
        [
         "22",
         "23",
         "23",
         "2015-000009",
         "2015-01-01",
         "12:52:01",
         "ital_supr",
         "S",
         "supreme",
         "12.5"
        ],
        [
         "23",
         "24",
         "24",
         "2015-000010",
         "2015-01-01",
         "13:00:15",
         "mexicana",
         "L",
         "veggie",
         "20.25"
        ],
        [
         "24",
         "25",
         "25",
         "2015-000010",
         "2015-01-01",
         "13:00:15",
         "southw_ckn",
         "L",
         "chicken",
         "20.75"
        ],
        [
         "25",
         "26",
         "26",
         "2015-000011",
         "2015-01-01",
         "13:02:59",
         "pepperoni",
         "L",
         "classic",
         "15.25"
        ],
        [
         "26",
         "27",
         "27",
         "2015-000011",
         "2015-01-01",
         "13:02:59",
         "cali_ckn",
         "L",
         "chicken",
         "20.75"
        ],
        [
         "27",
         "28",
         "28",
         "2015-000011",
         "2015-01-01",
         "13:02:59",
         "cali_ckn",
         "M",
         "chicken",
         "16.75"
        ],
        [
         "28",
         "29",
         "29",
         "2015-000011",
         "2015-01-01",
         "13:02:59",
         "bbq_ckn",
         "L",
         "chicken",
         "20.75"
        ],
        [
         "29",
         "30",
         "30",
         "2015-000012",
         "2015-01-01",
         "13:04:41",
         "cali_ckn",
         "S",
         "chicken",
         "12.75"
        ],
        [
         "30",
         "31",
         "31",
         "2015-000012",
         "2015-01-01",
         "13:04:41",
         "ital_supr",
         "M",
         "supreme",
         "16.5"
        ],
        [
         "31",
         "32",
         "32",
         "2015-000012",
         "2015-01-01",
         "13:04:41",
         "cali_ckn",
         "L",
         "chicken",
         "20.75"
        ],
        [
         "32",
         "33",
         "33",
         "2015-000012",
         "2015-01-01",
         "13:04:41",
         "ckn_pesto",
         "L",
         "chicken",
         "20.75"
        ],
        [
         "33",
         "34",
         "34",
         "2015-000013",
         "2015-01-01",
         "13:11:55",
         "mexicana",
         "L",
         "veggie",
         "20.25"
        ],
        [
         "34",
         "35",
         "35",
         "2015-000014",
         "2015-01-01",
         "13:14:19",
         "the_greek",
         "S",
         "classic",
         "12.0"
        ],
        [
         "35",
         "36",
         "36",
         "2015-000015",
         "2015-01-01",
         "13:33:00",
         "big_meat",
         "S",
         "classic",
         "12.0"
        ],
        [
         "36",
         "37",
         "37",
         "2015-000015",
         "2015-01-01",
         "13:33:00",
         "five_cheese",
         "L",
         "veggie",
         "18.5"
        ],
        [
         "37",
         "38",
         "38",
         "2015-000015",
         "2015-01-01",
         "13:33:00",
         "soppressata",
         "L",
         "supreme",
         "20.75"
        ],
        [
         "38",
         "39",
         "39",
         "2015-000015",
         "2015-01-01",
         "13:33:00",
         "the_greek",
         "S",
         "classic",
         "12.0"
        ],
        [
         "39",
         "40",
         "40",
         "2015-000016",
         "2015-01-01",
         "13:34:07",
         "thai_ckn",
         "L",
         "chicken",
         "20.75"
        ],
        [
         "40",
         "41",
         "41",
         "2015-000016",
         "2015-01-01",
         "13:34:07",
         "four_cheese",
         "L",
         "veggie",
         "17.95"
        ],
        [
         "41",
         "42",
         "42",
         "2015-000016",
         "2015-01-01",
         "13:34:07",
         "napolitana",
         "S",
         "classic",
         "12.0"
        ],
        [
         "42",
         "43",
         "43",
         "2015-000017",
         "2015-01-01",
         "13:53:00",
         "mediterraneo",
         "M",
         "veggie",
         "16.0"
        ],
        [
         "43",
         "44",
         "44",
         "2015-000017",
         "2015-01-01",
         "13:53:00",
         "bbq_ckn",
         "L",
         "chicken",
         "20.75"
        ],
        [
         "44",
         "45",
         "45",
         "2015-000017",
         "2015-01-01",
         "13:53:00",
         "ital_supr",
         "M",
         "supreme",
         "16.5"
        ],
        [
         "45",
         "46",
         "46",
         "2015-000017",
         "2015-01-01",
         "13:53:00",
         "mexicana",
         "L",
         "veggie",
         "20.25"
        ],
        [
         "46",
         "47",
         "47",
         "2015-000017",
         "2015-01-01",
         "13:53:00",
         "four_cheese",
         "M",
         "veggie",
         "14.75"
        ],
        [
         "47",
         "48",
         "48",
         "2015-000017",
         "2015-01-01",
         "13:53:00",
         "spinach_fet",
         "L",
         "veggie",
         "20.25"
        ],
        [
         "48",
         "49",
         "49",
         "2015-000017",
         "2015-01-01",
         "13:53:00",
         "mediterraneo",
         "M",
         "veggie",
         "16.0"
        ],
        [
         "49",
         "50",
         "50",
         "2015-000017",
         "2015-01-01",
         "13:53:00",
         "five_cheese",
         "L",
         "veggie",
         "18.5"
        ]
       ],
       "shape": {
        "columns": 9,
        "rows": 49574
       }
      },
      "text/html": [
       "<div>\n",
       "<style scoped>\n",
       "    .dataframe tbody tr th:only-of-type {\n",
       "        vertical-align: middle;\n",
       "    }\n",
       "\n",
       "    .dataframe tbody tr th {\n",
       "        vertical-align: top;\n",
       "    }\n",
       "\n",
       "    .dataframe thead th {\n",
       "        text-align: right;\n",
       "    }\n",
       "</style>\n",
       "<table border=\"1\" class=\"dataframe\">\n",
       "  <thead>\n",
       "    <tr style=\"text-align: right;\">\n",
       "      <th></th>\n",
       "      <th>Unnamed: 0</th>\n",
       "      <th>X</th>\n",
       "      <th>id</th>\n",
       "      <th>date</th>\n",
       "      <th>time</th>\n",
       "      <th>name</th>\n",
       "      <th>size</th>\n",
       "      <th>type</th>\n",
       "      <th>price</th>\n",
       "    </tr>\n",
       "  </thead>\n",
       "  <tbody>\n",
       "    <tr>\n",
       "      <th>0</th>\n",
       "      <td>1</td>\n",
       "      <td>1</td>\n",
       "      <td>2015-000001</td>\n",
       "      <td>2015-01-01</td>\n",
       "      <td>11:38:36</td>\n",
       "      <td>hawaiian</td>\n",
       "      <td>M</td>\n",
       "      <td>classic</td>\n",
       "      <td>13.25</td>\n",
       "    </tr>\n",
       "    <tr>\n",
       "      <th>1</th>\n",
       "      <td>2</td>\n",
       "      <td>2</td>\n",
       "      <td>2015-000002</td>\n",
       "      <td>2015-01-01</td>\n",
       "      <td>11:57:40</td>\n",
       "      <td>classic_dlx</td>\n",
       "      <td>M</td>\n",
       "      <td>classic</td>\n",
       "      <td>16.00</td>\n",
       "    </tr>\n",
       "    <tr>\n",
       "      <th>2</th>\n",
       "      <td>3</td>\n",
       "      <td>3</td>\n",
       "      <td>2015-000002</td>\n",
       "      <td>2015-01-01</td>\n",
       "      <td>11:57:40</td>\n",
       "      <td>mexicana</td>\n",
       "      <td>M</td>\n",
       "      <td>veggie</td>\n",
       "      <td>16.00</td>\n",
       "    </tr>\n",
       "    <tr>\n",
       "      <th>3</th>\n",
       "      <td>4</td>\n",
       "      <td>4</td>\n",
       "      <td>2015-000002</td>\n",
       "      <td>2015-01-01</td>\n",
       "      <td>11:57:40</td>\n",
       "      <td>thai_ckn</td>\n",
       "      <td>L</td>\n",
       "      <td>chicken</td>\n",
       "      <td>20.75</td>\n",
       "    </tr>\n",
       "    <tr>\n",
       "      <th>4</th>\n",
       "      <td>5</td>\n",
       "      <td>5</td>\n",
       "      <td>2015-000002</td>\n",
       "      <td>2015-01-01</td>\n",
       "      <td>11:57:40</td>\n",
       "      <td>five_cheese</td>\n",
       "      <td>L</td>\n",
       "      <td>veggie</td>\n",
       "      <td>18.50</td>\n",
       "    </tr>\n",
       "    <tr>\n",
       "      <th>...</th>\n",
       "      <td>...</td>\n",
       "      <td>...</td>\n",
       "      <td>...</td>\n",
       "      <td>...</td>\n",
       "      <td>...</td>\n",
       "      <td>...</td>\n",
       "      <td>...</td>\n",
       "      <td>...</td>\n",
       "      <td>...</td>\n",
       "    </tr>\n",
       "    <tr>\n",
       "      <th>49569</th>\n",
       "      <td>49570</td>\n",
       "      <td>49570</td>\n",
       "      <td>2015-021348</td>\n",
       "      <td>2015-12-31</td>\n",
       "      <td>21:23:10</td>\n",
       "      <td>four_cheese</td>\n",
       "      <td>L</td>\n",
       "      <td>veggie</td>\n",
       "      <td>17.95</td>\n",
       "    </tr>\n",
       "    <tr>\n",
       "      <th>49570</th>\n",
       "      <td>49571</td>\n",
       "      <td>49571</td>\n",
       "      <td>2015-021348</td>\n",
       "      <td>2015-12-31</td>\n",
       "      <td>21:23:10</td>\n",
       "      <td>napolitana</td>\n",
       "      <td>S</td>\n",
       "      <td>classic</td>\n",
       "      <td>12.00</td>\n",
       "    </tr>\n",
       "    <tr>\n",
       "      <th>49571</th>\n",
       "      <td>49572</td>\n",
       "      <td>49572</td>\n",
       "      <td>2015-021348</td>\n",
       "      <td>2015-12-31</td>\n",
       "      <td>21:23:10</td>\n",
       "      <td>ckn_alfredo</td>\n",
       "      <td>M</td>\n",
       "      <td>chicken</td>\n",
       "      <td>16.75</td>\n",
       "    </tr>\n",
       "    <tr>\n",
       "      <th>49572</th>\n",
       "      <td>49573</td>\n",
       "      <td>49573</td>\n",
       "      <td>2015-021349</td>\n",
       "      <td>2015-12-31</td>\n",
       "      <td>22:09:54</td>\n",
       "      <td>mexicana</td>\n",
       "      <td>L</td>\n",
       "      <td>veggie</td>\n",
       "      <td>20.25</td>\n",
       "    </tr>\n",
       "    <tr>\n",
       "      <th>49573</th>\n",
       "      <td>49574</td>\n",
       "      <td>49574</td>\n",
       "      <td>2015-021350</td>\n",
       "      <td>2015-12-31</td>\n",
       "      <td>23:02:05</td>\n",
       "      <td>bbq_ckn</td>\n",
       "      <td>S</td>\n",
       "      <td>chicken</td>\n",
       "      <td>12.75</td>\n",
       "    </tr>\n",
       "  </tbody>\n",
       "</table>\n",
       "<p>49574 rows × 9 columns</p>\n",
       "</div>"
      ],
      "text/plain": [
       "       Unnamed: 0      X           id        date      time         name size  \\\n",
       "0               1      1  2015-000001  2015-01-01  11:38:36     hawaiian    M   \n",
       "1               2      2  2015-000002  2015-01-01  11:57:40  classic_dlx    M   \n",
       "2               3      3  2015-000002  2015-01-01  11:57:40     mexicana    M   \n",
       "3               4      4  2015-000002  2015-01-01  11:57:40     thai_ckn    L   \n",
       "4               5      5  2015-000002  2015-01-01  11:57:40  five_cheese    L   \n",
       "...           ...    ...          ...         ...       ...          ...  ...   \n",
       "49569       49570  49570  2015-021348  2015-12-31  21:23:10  four_cheese    L   \n",
       "49570       49571  49571  2015-021348  2015-12-31  21:23:10   napolitana    S   \n",
       "49571       49572  49572  2015-021348  2015-12-31  21:23:10  ckn_alfredo    M   \n",
       "49572       49573  49573  2015-021349  2015-12-31  22:09:54     mexicana    L   \n",
       "49573       49574  49574  2015-021350  2015-12-31  23:02:05      bbq_ckn    S   \n",
       "\n",
       "          type  price  \n",
       "0      classic  13.25  \n",
       "1      classic  16.00  \n",
       "2       veggie  16.00  \n",
       "3      chicken  20.75  \n",
       "4       veggie  18.50  \n",
       "...        ...    ...  \n",
       "49569   veggie  17.95  \n",
       "49570  classic  12.00  \n",
       "49571  chicken  16.75  \n",
       "49572   veggie  20.25  \n",
       "49573  chicken  12.75  \n",
       "\n",
       "[49574 rows x 9 columns]"
      ]
     },
     "execution_count": 22,
     "metadata": {},
     "output_type": "execute_result"
    }
   ],
   "source": [
    "data1"
   ]
  },
  {
   "cell_type": "code",
   "execution_count": 23,
   "metadata": {},
   "outputs": [
    {
     "data": {
      "text/plain": [
       "Unnamed: 0    0\n",
       "X             0\n",
       "id            0\n",
       "date          0\n",
       "time          0\n",
       "name          0\n",
       "size          0\n",
       "type          0\n",
       "price         0\n",
       "dtype: int64"
      ]
     },
     "execution_count": 23,
     "metadata": {},
     "output_type": "execute_result"
    }
   ],
   "source": [
    "data1.isnull().sum()"
   ]
  },
  {
   "cell_type": "code",
   "execution_count": 24,
   "metadata": {},
   "outputs": [],
   "source": [
    "data3=pd.read_csv(\"/home/daljeet-singh/Downloads/archive(2)/tested.csv\")"
   ]
  },
  {
   "cell_type": "code",
   "execution_count": 25,
   "metadata": {},
   "outputs": [
    {
     "data": {
      "application/vnd.microsoft.datawrangler.viewer.v0+json": {
       "columns": [
        {
         "name": "index",
         "rawType": "int64",
         "type": "integer"
        },
        {
         "name": "PassengerId",
         "rawType": "int64",
         "type": "integer"
        },
        {
         "name": "Survived",
         "rawType": "int64",
         "type": "integer"
        },
        {
         "name": "Pclass",
         "rawType": "int64",
         "type": "integer"
        },
        {
         "name": "Name",
         "rawType": "object",
         "type": "string"
        },
        {
         "name": "Sex",
         "rawType": "object",
         "type": "string"
        },
        {
         "name": "Age",
         "rawType": "float64",
         "type": "float"
        },
        {
         "name": "SibSp",
         "rawType": "int64",
         "type": "integer"
        },
        {
         "name": "Parch",
         "rawType": "int64",
         "type": "integer"
        },
        {
         "name": "Ticket",
         "rawType": "object",
         "type": "string"
        },
        {
         "name": "Fare",
         "rawType": "float64",
         "type": "float"
        },
        {
         "name": "Cabin",
         "rawType": "object",
         "type": "unknown"
        },
        {
         "name": "Embarked",
         "rawType": "object",
         "type": "string"
        }
       ],
       "conversionMethod": "pd.DataFrame",
       "ref": "4797f3ba-96e2-47f8-bb59-2e878e3e2ee8",
       "rows": [
        [
         "0",
         "892",
         "0",
         "3",
         "Kelly, Mr. James",
         "male",
         "34.5",
         "0",
         "0",
         "330911",
         "7.8292",
         null,
         "Q"
        ],
        [
         "1",
         "893",
         "1",
         "3",
         "Wilkes, Mrs. James (Ellen Needs)",
         "female",
         "47.0",
         "1",
         "0",
         "363272",
         "7.0",
         null,
         "S"
        ],
        [
         "2",
         "894",
         "0",
         "2",
         "Myles, Mr. Thomas Francis",
         "male",
         "62.0",
         "0",
         "0",
         "240276",
         "9.6875",
         null,
         "Q"
        ],
        [
         "3",
         "895",
         "0",
         "3",
         "Wirz, Mr. Albert",
         "male",
         "27.0",
         "0",
         "0",
         "315154",
         "8.6625",
         null,
         "S"
        ],
        [
         "4",
         "896",
         "1",
         "3",
         "Hirvonen, Mrs. Alexander (Helga E Lindqvist)",
         "female",
         "22.0",
         "1",
         "1",
         "3101298",
         "12.2875",
         null,
         "S"
        ],
        [
         "5",
         "897",
         "0",
         "3",
         "Svensson, Mr. Johan Cervin",
         "male",
         "14.0",
         "0",
         "0",
         "7538",
         "9.225",
         null,
         "S"
        ],
        [
         "6",
         "898",
         "1",
         "3",
         "Connolly, Miss. Kate",
         "female",
         "30.0",
         "0",
         "0",
         "330972",
         "7.6292",
         null,
         "Q"
        ],
        [
         "7",
         "899",
         "0",
         "2",
         "Caldwell, Mr. Albert Francis",
         "male",
         "26.0",
         "1",
         "1",
         "248738",
         "29.0",
         null,
         "S"
        ],
        [
         "8",
         "900",
         "1",
         "3",
         "Abrahim, Mrs. Joseph (Sophie Halaut Easu)",
         "female",
         "18.0",
         "0",
         "0",
         "2657",
         "7.2292",
         null,
         "C"
        ],
        [
         "9",
         "901",
         "0",
         "3",
         "Davies, Mr. John Samuel",
         "male",
         "21.0",
         "2",
         "0",
         "A/4 48871",
         "24.15",
         null,
         "S"
        ],
        [
         "10",
         "902",
         "0",
         "3",
         "Ilieff, Mr. Ylio",
         "male",
         null,
         "0",
         "0",
         "349220",
         "7.8958",
         null,
         "S"
        ],
        [
         "11",
         "903",
         "0",
         "1",
         "Jones, Mr. Charles Cresson",
         "male",
         "46.0",
         "0",
         "0",
         "694",
         "26.0",
         null,
         "S"
        ],
        [
         "12",
         "904",
         "1",
         "1",
         "Snyder, Mrs. John Pillsbury (Nelle Stevenson)",
         "female",
         "23.0",
         "1",
         "0",
         "21228",
         "82.2667",
         "B45",
         "S"
        ],
        [
         "13",
         "905",
         "0",
         "2",
         "Howard, Mr. Benjamin",
         "male",
         "63.0",
         "1",
         "0",
         "24065",
         "26.0",
         null,
         "S"
        ],
        [
         "14",
         "906",
         "1",
         "1",
         "Chaffee, Mrs. Herbert Fuller (Carrie Constance Toogood)",
         "female",
         "47.0",
         "1",
         "0",
         "W.E.P. 5734",
         "61.175",
         "E31",
         "S"
        ],
        [
         "15",
         "907",
         "1",
         "2",
         "del Carlo, Mrs. Sebastiano (Argenia Genovesi)",
         "female",
         "24.0",
         "1",
         "0",
         "SC/PARIS 2167",
         "27.7208",
         null,
         "C"
        ],
        [
         "16",
         "908",
         "0",
         "2",
         "Keane, Mr. Daniel",
         "male",
         "35.0",
         "0",
         "0",
         "233734",
         "12.35",
         null,
         "Q"
        ],
        [
         "17",
         "909",
         "0",
         "3",
         "Assaf, Mr. Gerios",
         "male",
         "21.0",
         "0",
         "0",
         "2692",
         "7.225",
         null,
         "C"
        ],
        [
         "18",
         "910",
         "1",
         "3",
         "Ilmakangas, Miss. Ida Livija",
         "female",
         "27.0",
         "1",
         "0",
         "STON/O2. 3101270",
         "7.925",
         null,
         "S"
        ],
        [
         "19",
         "911",
         "1",
         "3",
         "Assaf Khalil, Mrs. Mariana (Miriam\")\"",
         "female",
         "45.0",
         "0",
         "0",
         "2696",
         "7.225",
         null,
         "C"
        ],
        [
         "20",
         "912",
         "0",
         "1",
         "Rothschild, Mr. Martin",
         "male",
         "55.0",
         "1",
         "0",
         "PC 17603",
         "59.4",
         null,
         "C"
        ],
        [
         "21",
         "913",
         "0",
         "3",
         "Olsen, Master. Artur Karl",
         "male",
         "9.0",
         "0",
         "1",
         "C 17368",
         "3.1708",
         null,
         "S"
        ],
        [
         "22",
         "914",
         "1",
         "1",
         "Flegenheim, Mrs. Alfred (Antoinette)",
         "female",
         null,
         "0",
         "0",
         "PC 17598",
         "31.6833",
         null,
         "S"
        ],
        [
         "23",
         "915",
         "0",
         "1",
         "Williams, Mr. Richard Norris II",
         "male",
         "21.0",
         "0",
         "1",
         "PC 17597",
         "61.3792",
         null,
         "C"
        ],
        [
         "24",
         "916",
         "1",
         "1",
         "Ryerson, Mrs. Arthur Larned (Emily Maria Borie)",
         "female",
         "48.0",
         "1",
         "3",
         "PC 17608",
         "262.375",
         "B57 B59 B63 B66",
         "C"
        ],
        [
         "25",
         "917",
         "0",
         "3",
         "Robins, Mr. Alexander A",
         "male",
         "50.0",
         "1",
         "0",
         "A/5. 3337",
         "14.5",
         null,
         "S"
        ],
        [
         "26",
         "918",
         "1",
         "1",
         "Ostby, Miss. Helene Ragnhild",
         "female",
         "22.0",
         "0",
         "1",
         "113509",
         "61.9792",
         "B36",
         "C"
        ],
        [
         "27",
         "919",
         "0",
         "3",
         "Daher, Mr. Shedid",
         "male",
         "22.5",
         "0",
         "0",
         "2698",
         "7.225",
         null,
         "C"
        ],
        [
         "28",
         "920",
         "0",
         "1",
         "Brady, Mr. John Bertram",
         "male",
         "41.0",
         "0",
         "0",
         "113054",
         "30.5",
         "A21",
         "S"
        ],
        [
         "29",
         "921",
         "0",
         "3",
         "Samaan, Mr. Elias",
         "male",
         null,
         "2",
         "0",
         "2662",
         "21.6792",
         null,
         "C"
        ],
        [
         "30",
         "922",
         "0",
         "2",
         "Louch, Mr. Charles Alexander",
         "male",
         "50.0",
         "1",
         "0",
         "SC/AH 3085",
         "26.0",
         null,
         "S"
        ],
        [
         "31",
         "923",
         "0",
         "2",
         "Jefferys, Mr. Clifford Thomas",
         "male",
         "24.0",
         "2",
         "0",
         "C.A. 31029",
         "31.5",
         null,
         "S"
        ],
        [
         "32",
         "924",
         "1",
         "3",
         "Dean, Mrs. Bertram (Eva Georgetta Light)",
         "female",
         "33.0",
         "1",
         "2",
         "C.A. 2315",
         "20.575",
         null,
         "S"
        ],
        [
         "33",
         "925",
         "1",
         "3",
         "Johnston, Mrs. Andrew G (Elizabeth Lily\" Watson)\"",
         "female",
         null,
         "1",
         "2",
         "W./C. 6607",
         "23.45",
         null,
         "S"
        ],
        [
         "34",
         "926",
         "0",
         "1",
         "Mock, Mr. Philipp Edmund",
         "male",
         "30.0",
         "1",
         "0",
         "13236",
         "57.75",
         "C78",
         "C"
        ],
        [
         "35",
         "927",
         "0",
         "3",
         "Katavelas, Mr. Vassilios (Catavelas Vassilios\")\"",
         "male",
         "18.5",
         "0",
         "0",
         "2682",
         "7.2292",
         null,
         "C"
        ],
        [
         "36",
         "928",
         "1",
         "3",
         "Roth, Miss. Sarah A",
         "female",
         null,
         "0",
         "0",
         "342712",
         "8.05",
         null,
         "S"
        ],
        [
         "37",
         "929",
         "1",
         "3",
         "Cacic, Miss. Manda",
         "female",
         "21.0",
         "0",
         "0",
         "315087",
         "8.6625",
         null,
         "S"
        ],
        [
         "38",
         "930",
         "0",
         "3",
         "Sap, Mr. Julius",
         "male",
         "25.0",
         "0",
         "0",
         "345768",
         "9.5",
         null,
         "S"
        ],
        [
         "39",
         "931",
         "0",
         "3",
         "Hee, Mr. Ling",
         "male",
         null,
         "0",
         "0",
         "1601",
         "56.4958",
         null,
         "S"
        ],
        [
         "40",
         "932",
         "0",
         "3",
         "Karun, Mr. Franz",
         "male",
         "39.0",
         "0",
         "1",
         "349256",
         "13.4167",
         null,
         "C"
        ],
        [
         "41",
         "933",
         "0",
         "1",
         "Franklin, Mr. Thomas Parham",
         "male",
         null,
         "0",
         "0",
         "113778",
         "26.55",
         "D34",
         "S"
        ],
        [
         "42",
         "934",
         "0",
         "3",
         "Goldsmith, Mr. Nathan",
         "male",
         "41.0",
         "0",
         "0",
         "SOTON/O.Q. 3101263",
         "7.85",
         null,
         "S"
        ],
        [
         "43",
         "935",
         "1",
         "2",
         "Corbett, Mrs. Walter H (Irene Colvin)",
         "female",
         "30.0",
         "0",
         "0",
         "237249",
         "13.0",
         null,
         "S"
        ],
        [
         "44",
         "936",
         "1",
         "1",
         "Kimball, Mrs. Edwin Nelson Jr (Gertrude Parsons)",
         "female",
         "45.0",
         "1",
         "0",
         "11753",
         "52.5542",
         "D19",
         "S"
        ],
        [
         "45",
         "937",
         "0",
         "3",
         "Peltomaki, Mr. Nikolai Johannes",
         "male",
         "25.0",
         "0",
         "0",
         "STON/O 2. 3101291",
         "7.925",
         null,
         "S"
        ],
        [
         "46",
         "938",
         "0",
         "1",
         "Chevre, Mr. Paul Romaine",
         "male",
         "45.0",
         "0",
         "0",
         "PC 17594",
         "29.7",
         "A9",
         "C"
        ],
        [
         "47",
         "939",
         "0",
         "3",
         "Shaughnessy, Mr. Patrick",
         "male",
         null,
         "0",
         "0",
         "370374",
         "7.75",
         null,
         "Q"
        ],
        [
         "48",
         "940",
         "1",
         "1",
         "Bucknell, Mrs. William Robert (Emma Eliza Ward)",
         "female",
         "60.0",
         "0",
         "0",
         "11813",
         "76.2917",
         "D15",
         "C"
        ],
        [
         "49",
         "941",
         "1",
         "3",
         "Coutts, Mrs. William (Winnie Minnie\" Treanor)\"",
         "female",
         "36.0",
         "0",
         "2",
         "C.A. 37671",
         "15.9",
         null,
         "S"
        ]
       ],
       "shape": {
        "columns": 12,
        "rows": 418
       }
      },
      "text/html": [
       "<div>\n",
       "<style scoped>\n",
       "    .dataframe tbody tr th:only-of-type {\n",
       "        vertical-align: middle;\n",
       "    }\n",
       "\n",
       "    .dataframe tbody tr th {\n",
       "        vertical-align: top;\n",
       "    }\n",
       "\n",
       "    .dataframe thead th {\n",
       "        text-align: right;\n",
       "    }\n",
       "</style>\n",
       "<table border=\"1\" class=\"dataframe\">\n",
       "  <thead>\n",
       "    <tr style=\"text-align: right;\">\n",
       "      <th></th>\n",
       "      <th>PassengerId</th>\n",
       "      <th>Survived</th>\n",
       "      <th>Pclass</th>\n",
       "      <th>Name</th>\n",
       "      <th>Sex</th>\n",
       "      <th>Age</th>\n",
       "      <th>SibSp</th>\n",
       "      <th>Parch</th>\n",
       "      <th>Ticket</th>\n",
       "      <th>Fare</th>\n",
       "      <th>Cabin</th>\n",
       "      <th>Embarked</th>\n",
       "    </tr>\n",
       "  </thead>\n",
       "  <tbody>\n",
       "    <tr>\n",
       "      <th>0</th>\n",
       "      <td>892</td>\n",
       "      <td>0</td>\n",
       "      <td>3</td>\n",
       "      <td>Kelly, Mr. James</td>\n",
       "      <td>male</td>\n",
       "      <td>34.5</td>\n",
       "      <td>0</td>\n",
       "      <td>0</td>\n",
       "      <td>330911</td>\n",
       "      <td>7.8292</td>\n",
       "      <td>NaN</td>\n",
       "      <td>Q</td>\n",
       "    </tr>\n",
       "    <tr>\n",
       "      <th>1</th>\n",
       "      <td>893</td>\n",
       "      <td>1</td>\n",
       "      <td>3</td>\n",
       "      <td>Wilkes, Mrs. James (Ellen Needs)</td>\n",
       "      <td>female</td>\n",
       "      <td>47.0</td>\n",
       "      <td>1</td>\n",
       "      <td>0</td>\n",
       "      <td>363272</td>\n",
       "      <td>7.0000</td>\n",
       "      <td>NaN</td>\n",
       "      <td>S</td>\n",
       "    </tr>\n",
       "    <tr>\n",
       "      <th>2</th>\n",
       "      <td>894</td>\n",
       "      <td>0</td>\n",
       "      <td>2</td>\n",
       "      <td>Myles, Mr. Thomas Francis</td>\n",
       "      <td>male</td>\n",
       "      <td>62.0</td>\n",
       "      <td>0</td>\n",
       "      <td>0</td>\n",
       "      <td>240276</td>\n",
       "      <td>9.6875</td>\n",
       "      <td>NaN</td>\n",
       "      <td>Q</td>\n",
       "    </tr>\n",
       "    <tr>\n",
       "      <th>3</th>\n",
       "      <td>895</td>\n",
       "      <td>0</td>\n",
       "      <td>3</td>\n",
       "      <td>Wirz, Mr. Albert</td>\n",
       "      <td>male</td>\n",
       "      <td>27.0</td>\n",
       "      <td>0</td>\n",
       "      <td>0</td>\n",
       "      <td>315154</td>\n",
       "      <td>8.6625</td>\n",
       "      <td>NaN</td>\n",
       "      <td>S</td>\n",
       "    </tr>\n",
       "    <tr>\n",
       "      <th>4</th>\n",
       "      <td>896</td>\n",
       "      <td>1</td>\n",
       "      <td>3</td>\n",
       "      <td>Hirvonen, Mrs. Alexander (Helga E Lindqvist)</td>\n",
       "      <td>female</td>\n",
       "      <td>22.0</td>\n",
       "      <td>1</td>\n",
       "      <td>1</td>\n",
       "      <td>3101298</td>\n",
       "      <td>12.2875</td>\n",
       "      <td>NaN</td>\n",
       "      <td>S</td>\n",
       "    </tr>\n",
       "    <tr>\n",
       "      <th>...</th>\n",
       "      <td>...</td>\n",
       "      <td>...</td>\n",
       "      <td>...</td>\n",
       "      <td>...</td>\n",
       "      <td>...</td>\n",
       "      <td>...</td>\n",
       "      <td>...</td>\n",
       "      <td>...</td>\n",
       "      <td>...</td>\n",
       "      <td>...</td>\n",
       "      <td>...</td>\n",
       "      <td>...</td>\n",
       "    </tr>\n",
       "    <tr>\n",
       "      <th>413</th>\n",
       "      <td>1305</td>\n",
       "      <td>0</td>\n",
       "      <td>3</td>\n",
       "      <td>Spector, Mr. Woolf</td>\n",
       "      <td>male</td>\n",
       "      <td>NaN</td>\n",
       "      <td>0</td>\n",
       "      <td>0</td>\n",
       "      <td>A.5. 3236</td>\n",
       "      <td>8.0500</td>\n",
       "      <td>NaN</td>\n",
       "      <td>S</td>\n",
       "    </tr>\n",
       "    <tr>\n",
       "      <th>414</th>\n",
       "      <td>1306</td>\n",
       "      <td>1</td>\n",
       "      <td>1</td>\n",
       "      <td>Oliva y Ocana, Dona. Fermina</td>\n",
       "      <td>female</td>\n",
       "      <td>39.0</td>\n",
       "      <td>0</td>\n",
       "      <td>0</td>\n",
       "      <td>PC 17758</td>\n",
       "      <td>108.9000</td>\n",
       "      <td>C105</td>\n",
       "      <td>C</td>\n",
       "    </tr>\n",
       "    <tr>\n",
       "      <th>415</th>\n",
       "      <td>1307</td>\n",
       "      <td>0</td>\n",
       "      <td>3</td>\n",
       "      <td>Saether, Mr. Simon Sivertsen</td>\n",
       "      <td>male</td>\n",
       "      <td>38.5</td>\n",
       "      <td>0</td>\n",
       "      <td>0</td>\n",
       "      <td>SOTON/O.Q. 3101262</td>\n",
       "      <td>7.2500</td>\n",
       "      <td>NaN</td>\n",
       "      <td>S</td>\n",
       "    </tr>\n",
       "    <tr>\n",
       "      <th>416</th>\n",
       "      <td>1308</td>\n",
       "      <td>0</td>\n",
       "      <td>3</td>\n",
       "      <td>Ware, Mr. Frederick</td>\n",
       "      <td>male</td>\n",
       "      <td>NaN</td>\n",
       "      <td>0</td>\n",
       "      <td>0</td>\n",
       "      <td>359309</td>\n",
       "      <td>8.0500</td>\n",
       "      <td>NaN</td>\n",
       "      <td>S</td>\n",
       "    </tr>\n",
       "    <tr>\n",
       "      <th>417</th>\n",
       "      <td>1309</td>\n",
       "      <td>0</td>\n",
       "      <td>3</td>\n",
       "      <td>Peter, Master. Michael J</td>\n",
       "      <td>male</td>\n",
       "      <td>NaN</td>\n",
       "      <td>1</td>\n",
       "      <td>1</td>\n",
       "      <td>2668</td>\n",
       "      <td>22.3583</td>\n",
       "      <td>NaN</td>\n",
       "      <td>C</td>\n",
       "    </tr>\n",
       "  </tbody>\n",
       "</table>\n",
       "<p>418 rows × 12 columns</p>\n",
       "</div>"
      ],
      "text/plain": [
       "     PassengerId  Survived  Pclass  \\\n",
       "0            892         0       3   \n",
       "1            893         1       3   \n",
       "2            894         0       2   \n",
       "3            895         0       3   \n",
       "4            896         1       3   \n",
       "..           ...       ...     ...   \n",
       "413         1305         0       3   \n",
       "414         1306         1       1   \n",
       "415         1307         0       3   \n",
       "416         1308         0       3   \n",
       "417         1309         0       3   \n",
       "\n",
       "                                             Name     Sex   Age  SibSp  Parch  \\\n",
       "0                                Kelly, Mr. James    male  34.5      0      0   \n",
       "1                Wilkes, Mrs. James (Ellen Needs)  female  47.0      1      0   \n",
       "2                       Myles, Mr. Thomas Francis    male  62.0      0      0   \n",
       "3                                Wirz, Mr. Albert    male  27.0      0      0   \n",
       "4    Hirvonen, Mrs. Alexander (Helga E Lindqvist)  female  22.0      1      1   \n",
       "..                                            ...     ...   ...    ...    ...   \n",
       "413                            Spector, Mr. Woolf    male   NaN      0      0   \n",
       "414                  Oliva y Ocana, Dona. Fermina  female  39.0      0      0   \n",
       "415                  Saether, Mr. Simon Sivertsen    male  38.5      0      0   \n",
       "416                           Ware, Mr. Frederick    male   NaN      0      0   \n",
       "417                      Peter, Master. Michael J    male   NaN      1      1   \n",
       "\n",
       "                 Ticket      Fare Cabin Embarked  \n",
       "0                330911    7.8292   NaN        Q  \n",
       "1                363272    7.0000   NaN        S  \n",
       "2                240276    9.6875   NaN        Q  \n",
       "3                315154    8.6625   NaN        S  \n",
       "4               3101298   12.2875   NaN        S  \n",
       "..                  ...       ...   ...      ...  \n",
       "413           A.5. 3236    8.0500   NaN        S  \n",
       "414            PC 17758  108.9000  C105        C  \n",
       "415  SOTON/O.Q. 3101262    7.2500   NaN        S  \n",
       "416              359309    8.0500   NaN        S  \n",
       "417                2668   22.3583   NaN        C  \n",
       "\n",
       "[418 rows x 12 columns]"
      ]
     },
     "execution_count": 25,
     "metadata": {},
     "output_type": "execute_result"
    }
   ],
   "source": [
    "data3"
   ]
  },
  {
   "cell_type": "code",
   "execution_count": 26,
   "metadata": {},
   "outputs": [
    {
     "data": {
      "text/plain": [
       "PassengerId      0\n",
       "Survived         0\n",
       "Pclass           0\n",
       "Name             0\n",
       "Sex              0\n",
       "Age             86\n",
       "SibSp            0\n",
       "Parch            0\n",
       "Ticket           0\n",
       "Fare             1\n",
       "Cabin          327\n",
       "Embarked         0\n",
       "dtype: int64"
      ]
     },
     "execution_count": 26,
     "metadata": {},
     "output_type": "execute_result"
    }
   ],
   "source": [
    "data3.isnull().sum()"
   ]
  },
  {
   "cell_type": "code",
   "execution_count": 27,
   "metadata": {},
   "outputs": [
    {
     "name": "stdout",
     "output_type": "stream",
     "text": [
      "<class 'pandas.core.frame.DataFrame'>\n",
      "RangeIndex: 418 entries, 0 to 417\n",
      "Data columns (total 12 columns):\n",
      " #   Column       Non-Null Count  Dtype  \n",
      "---  ------       --------------  -----  \n",
      " 0   PassengerId  418 non-null    int64  \n",
      " 1   Survived     418 non-null    int64  \n",
      " 2   Pclass       418 non-null    int64  \n",
      " 3   Name         418 non-null    object \n",
      " 4   Sex          418 non-null    object \n",
      " 5   Age          332 non-null    float64\n",
      " 6   SibSp        418 non-null    int64  \n",
      " 7   Parch        418 non-null    int64  \n",
      " 8   Ticket       418 non-null    object \n",
      " 9   Fare         417 non-null    float64\n",
      " 10  Cabin        91 non-null     object \n",
      " 11  Embarked     418 non-null    object \n",
      "dtypes: float64(2), int64(5), object(5)\n",
      "memory usage: 39.3+ KB\n"
     ]
    }
   ],
   "source": [
    "data3.info()"
   ]
  },
  {
   "cell_type": "code",
   "execution_count": 28,
   "metadata": {},
   "outputs": [],
   "source": [
    "a=data3[\"Age\"].mean()"
   ]
  },
  {
   "cell_type": "code",
   "execution_count": 29,
   "metadata": {},
   "outputs": [
    {
     "name": "stderr",
     "output_type": "stream",
     "text": [
      "/tmp/ipykernel_414766/2720675794.py:1: FutureWarning: A value is trying to be set on a copy of a DataFrame or Series through chained assignment using an inplace method.\n",
      "The behavior will change in pandas 3.0. This inplace method will never work because the intermediate object on which we are setting values always behaves as a copy.\n",
      "\n",
      "For example, when doing 'df[col].method(value, inplace=True)', try using 'df.method({col: value}, inplace=True)' or df[col] = df[col].method(value) instead, to perform the operation inplace on the original object.\n",
      "\n",
      "\n",
      "  data3['Age'].fillna(method=\"bfill\",inplace=True)\n",
      "/tmp/ipykernel_414766/2720675794.py:1: FutureWarning: Series.fillna with 'method' is deprecated and will raise in a future version. Use obj.ffill() or obj.bfill() instead.\n",
      "  data3['Age'].fillna(method=\"bfill\",inplace=True)\n"
     ]
    }
   ],
   "source": [
    "data3['Age'].fillna(method=\"bfill\",inplace=True)"
   ]
  },
  {
   "cell_type": "code",
   "execution_count": 30,
   "metadata": {},
   "outputs": [
    {
     "data": {
      "text/plain": [
       "PassengerId      0\n",
       "Survived         0\n",
       "Pclass           0\n",
       "Name             0\n",
       "Sex              0\n",
       "Age              2\n",
       "SibSp            0\n",
       "Parch            0\n",
       "Ticket           0\n",
       "Fare             1\n",
       "Cabin          327\n",
       "Embarked         0\n",
       "dtype: int64"
      ]
     },
     "execution_count": 30,
     "metadata": {},
     "output_type": "execute_result"
    }
   ],
   "source": [
    "data3.isnull().sum()"
   ]
  },
  {
   "cell_type": "code",
   "execution_count": 31,
   "metadata": {},
   "outputs": [
    {
     "data": {
      "application/vnd.microsoft.datawrangler.viewer.v0+json": {
       "columns": [
        {
         "name": "index",
         "rawType": "int64",
         "type": "integer"
        },
        {
         "name": "PassengerId",
         "rawType": "int64",
         "type": "integer"
        },
        {
         "name": "Survived",
         "rawType": "int64",
         "type": "integer"
        },
        {
         "name": "Pclass",
         "rawType": "int64",
         "type": "integer"
        },
        {
         "name": "Name",
         "rawType": "object",
         "type": "string"
        },
        {
         "name": "Sex",
         "rawType": "object",
         "type": "string"
        },
        {
         "name": "Age",
         "rawType": "float64",
         "type": "float"
        },
        {
         "name": "SibSp",
         "rawType": "int64",
         "type": "integer"
        },
        {
         "name": "Parch",
         "rawType": "int64",
         "type": "integer"
        },
        {
         "name": "Ticket",
         "rawType": "object",
         "type": "string"
        },
        {
         "name": "Fare",
         "rawType": "float64",
         "type": "float"
        },
        {
         "name": "Cabin",
         "rawType": "object",
         "type": "string"
        },
        {
         "name": "Embarked",
         "rawType": "object",
         "type": "string"
        }
       ],
       "conversionMethod": "pd.DataFrame",
       "ref": "57714adf-ad58-4e6a-a07a-2b6e237ac6ba",
       "rows": [
        [
         "12",
         "904",
         "1",
         "1",
         "Snyder, Mrs. John Pillsbury (Nelle Stevenson)",
         "female",
         "23.0",
         "1",
         "0",
         "21228",
         "82.2667",
         "B45",
         "S"
        ],
        [
         "14",
         "906",
         "1",
         "1",
         "Chaffee, Mrs. Herbert Fuller (Carrie Constance Toogood)",
         "female",
         "47.0",
         "1",
         "0",
         "W.E.P. 5734",
         "61.175",
         "E31",
         "S"
        ],
        [
         "24",
         "916",
         "1",
         "1",
         "Ryerson, Mrs. Arthur Larned (Emily Maria Borie)",
         "female",
         "48.0",
         "1",
         "3",
         "PC 17608",
         "262.375",
         "B57 B59 B63 B66",
         "C"
        ],
        [
         "26",
         "918",
         "1",
         "1",
         "Ostby, Miss. Helene Ragnhild",
         "female",
         "22.0",
         "0",
         "1",
         "113509",
         "61.9792",
         "B36",
         "C"
        ],
        [
         "28",
         "920",
         "0",
         "1",
         "Brady, Mr. John Bertram",
         "male",
         "41.0",
         "0",
         "0",
         "113054",
         "30.5",
         "A21",
         "S"
        ],
        [
         "34",
         "926",
         "0",
         "1",
         "Mock, Mr. Philipp Edmund",
         "male",
         "30.0",
         "1",
         "0",
         "13236",
         "57.75",
         "C78",
         "C"
        ],
        [
         "41",
         "933",
         "0",
         "1",
         "Franklin, Mr. Thomas Parham",
         "male",
         "41.0",
         "0",
         "0",
         "113778",
         "26.55",
         "D34",
         "S"
        ],
        [
         "44",
         "936",
         "1",
         "1",
         "Kimball, Mrs. Edwin Nelson Jr (Gertrude Parsons)",
         "female",
         "45.0",
         "1",
         "0",
         "11753",
         "52.5542",
         "D19",
         "S"
        ],
        [
         "46",
         "938",
         "0",
         "1",
         "Chevre, Mr. Paul Romaine",
         "male",
         "45.0",
         "0",
         "0",
         "PC 17594",
         "29.7",
         "A9",
         "C"
        ],
        [
         "48",
         "940",
         "1",
         "1",
         "Bucknell, Mrs. William Robert (Emma Eliza Ward)",
         "female",
         "60.0",
         "0",
         "0",
         "11813",
         "76.2917",
         "D15",
         "C"
        ],
        [
         "50",
         "942",
         "0",
         "1",
         "Smith, Mr. Lucien Philip",
         "male",
         "24.0",
         "1",
         "0",
         "13695",
         "60.0",
         "C31",
         "S"
        ],
        [
         "53",
         "945",
         "1",
         "1",
         "Fortune, Miss. Ethel Flora",
         "female",
         "28.0",
         "3",
         "2",
         "19950",
         "263.0",
         "C23 C25 C27",
         "S"
        ],
        [
         "57",
         "949",
         "0",
         "3",
         "Abelseth, Mr. Olaus Jorgensen",
         "male",
         "25.0",
         "0",
         "0",
         "348122",
         "7.65",
         "F G63",
         "S"
        ],
        [
         "59",
         "951",
         "1",
         "1",
         "Chaudanson, Miss. Victorine",
         "female",
         "36.0",
         "0",
         "0",
         "PC 17608",
         "262.375",
         "B61",
         "C"
        ],
        [
         "64",
         "956",
         "0",
         "1",
         "Ryerson, Master. John Borie",
         "male",
         "13.0",
         "2",
         "2",
         "PC 17608",
         "262.375",
         "B57 B59 B63 B66",
         "C"
        ],
        [
         "68",
         "960",
         "0",
         "1",
         "Tucker, Mr. Gilbert Milligan Jr",
         "male",
         "31.0",
         "0",
         "0",
         "2543",
         "28.5375",
         "C53",
         "C"
        ],
        [
         "69",
         "961",
         "1",
         "1",
         "Fortune, Mrs. Mark (Mary McDougald)",
         "female",
         "60.0",
         "1",
         "4",
         "19950",
         "263.0",
         "C23 C25 C27",
         "S"
        ],
        [
         "73",
         "965",
         "0",
         "1",
         "Ovies y Rodriguez, Mr. Servando",
         "male",
         "28.5",
         "0",
         "0",
         "PC 17562",
         "27.7208",
         "D43",
         "C"
        ],
        [
         "74",
         "966",
         "1",
         "1",
         "Geiger, Miss. Amalie",
         "female",
         "35.0",
         "0",
         "0",
         "113503",
         "211.5",
         "C130",
         "C"
        ],
        [
         "75",
         "967",
         "0",
         "1",
         "Keeping, Mr. Edwin",
         "male",
         "32.5",
         "0",
         "0",
         "113503",
         "211.5",
         "C132",
         "C"
        ],
        [
         "77",
         "969",
         "1",
         "1",
         "Cornell, Mrs. Robert Clifford (Malvina Helen Lamson)",
         "female",
         "55.0",
         "2",
         "0",
         "11770",
         "25.7",
         "C101",
         "S"
        ],
        [
         "81",
         "973",
         "0",
         "1",
         "Straus, Mr. Isidor",
         "male",
         "67.0",
         "1",
         "0",
         "PC 17483",
         "221.7792",
         "C55 C57",
         "S"
        ],
        [
         "92",
         "984",
         "1",
         "1",
         "Davidson, Mrs. Thornton (Orian Hays)",
         "female",
         "27.0",
         "1",
         "2",
         "F.C. 12750",
         "52.0",
         "B71",
         "S"
        ],
        [
         "96",
         "988",
         "1",
         "1",
         "Cavendish, Mrs. Tyrell William (Julia Florence Siegel)",
         "female",
         "76.0",
         "1",
         "0",
         "19877",
         "78.85",
         "C46",
         "S"
        ],
        [
         "100",
         "992",
         "1",
         "1",
         "Stengel, Mrs. Charles Emil Henry (Annie May Morris)",
         "female",
         "43.0",
         "1",
         "0",
         "11778",
         "55.4417",
         "C116",
         "C"
        ],
        [
         "109",
         "1001",
         "0",
         "2",
         "Swane, Mr. George",
         "male",
         "18.5",
         "0",
         "0",
         "248734",
         "13.0",
         "F",
         "S"
        ],
        [
         "112",
         "1004",
         "1",
         "1",
         "Evans, Miss. Edith Corse",
         "female",
         "36.0",
         "0",
         "0",
         "PC 17531",
         "31.6792",
         "A29",
         "C"
        ],
        [
         "114",
         "1006",
         "1",
         "1",
         "Straus, Mrs. Isidor (Rosalie Ida Blun)",
         "female",
         "63.0",
         "1",
         "0",
         "PC 17483",
         "221.7792",
         "C55 C57",
         "S"
        ],
        [
         "117",
         "1009",
         "1",
         "3",
         "Sandstrom, Miss. Beatrice Irene",
         "female",
         "1.0",
         "1",
         "1",
         "PP 9549",
         "16.7",
         "G6",
         "S"
        ],
        [
         "118",
         "1010",
         "0",
         "1",
         "Beattie, Mr. Thomson",
         "male",
         "36.0",
         "0",
         "0",
         "13050",
         "75.2417",
         "C6",
         "C"
        ],
        [
         "122",
         "1014",
         "1",
         "1",
         "Schabert, Mrs. Paul (Emma Mock)",
         "female",
         "35.0",
         "1",
         "0",
         "13236",
         "57.75",
         "C28",
         "C"
        ],
        [
         "131",
         "1023",
         "0",
         "1",
         "Gracie, Col. Archibald IV",
         "male",
         "53.0",
         "0",
         "0",
         "113780",
         "28.5",
         "C51",
         "C"
        ],
        [
         "142",
         "1034",
         "0",
         "1",
         "Ryerson, Mr. Arthur Larned",
         "male",
         "61.0",
         "1",
         "3",
         "PC 17608",
         "262.375",
         "B57 B59 B63 B66",
         "C"
        ],
        [
         "146",
         "1038",
         "0",
         "1",
         "Hilliard, Mr. Herbert Henry",
         "male",
         "22.0",
         "0",
         "0",
         "17463",
         "51.8625",
         "E46",
         "S"
        ],
        [
         "150",
         "1042",
         "1",
         "1",
         "Earnshaw, Mrs. Boulton (Olive Potter)",
         "female",
         "23.0",
         "0",
         "1",
         "11767",
         "83.1583",
         "C54",
         "C"
        ],
        [
         "156",
         "1048",
         "1",
         "1",
         "Bird, Miss. Ellen",
         "female",
         "29.0",
         "0",
         "0",
         "PC 17483",
         "221.7792",
         "C97",
         "S"
        ],
        [
         "158",
         "1050",
         "0",
         "1",
         "Borebank, Mr. John James",
         "male",
         "42.0",
         "0",
         "0",
         "110489",
         "26.55",
         "D22",
         "S"
        ],
        [
         "166",
         "1058",
         "0",
         "1",
         "Brandeis, Mr. Emil",
         "male",
         "48.0",
         "0",
         "0",
         "PC 17591",
         "50.4958",
         "B10",
         "C"
        ],
        [
         "177",
         "1069",
         "0",
         "1",
         "Stengel, Mr. Charles Emil Henry",
         "male",
         "54.0",
         "1",
         "0",
         "11778",
         "55.4417",
         "C116",
         "C"
        ],
        [
         "178",
         "1070",
         "1",
         "2",
         "Becker, Mrs. Allen Oliver (Nellie E Baumgardner)",
         "female",
         "36.0",
         "0",
         "3",
         "230136",
         "39.0",
         "F4",
         "S"
        ],
        [
         "179",
         "1071",
         "1",
         "1",
         "Compton, Mrs. Alexander Taylor (Mary Eliza Ingersoll)",
         "female",
         "64.0",
         "0",
         "2",
         "PC 17756",
         "83.1583",
         "E45",
         "C"
        ],
        [
         "181",
         "1073",
         "0",
         "1",
         "Compton, Mr. Alexander Taylor Jr",
         "male",
         "37.0",
         "1",
         "1",
         "PC 17756",
         "83.1583",
         "E52",
         "C"
        ],
        [
         "182",
         "1074",
         "1",
         "1",
         "Marvin, Mrs. Daniel Warner (Mary Graham Carmichael Farquarson)",
         "female",
         "18.0",
         "1",
         "0",
         "113773",
         "53.1",
         "D30",
         "S"
        ],
        [
         "184",
         "1076",
         "1",
         "1",
         "Douglas, Mrs. Frederick Charles (Mary Helene Baxter)",
         "female",
         "27.0",
         "1",
         "1",
         "PC 17558",
         "247.5208",
         "B58 B60",
         "C"
        ],
        [
         "196",
         "1088",
         "0",
         "1",
         "Spedden, Master. Robert Douglas",
         "male",
         "6.0",
         "0",
         "2",
         "16966",
         "134.5",
         "E34",
         "C"
        ],
        [
         "202",
         "1094",
         "0",
         "1",
         "Astor, Col. John Jacob",
         "male",
         "47.0",
         "1",
         "0",
         "PC 17757",
         "227.525",
         "C62 C64",
         "C"
        ],
        [
         "208",
         "1100",
         "1",
         "1",
         "Rosenbaum, Miss. Edith Louise",
         "female",
         "33.0",
         "0",
         "0",
         "PC 17613",
         "27.7208",
         "A11",
         "C"
        ],
        [
         "215",
         "1107",
         "0",
         "1",
         "Head, Mr. Christopher",
         "male",
         "42.0",
         "0",
         "0",
         "113038",
         "42.5",
         "B11",
         "S"
        ],
        [
         "218",
         "1110",
         "1",
         "1",
         "Widener, Mrs. George Dunton (Eleanor Elkins)",
         "female",
         "50.0",
         "1",
         "1",
         "113503",
         "211.5",
         "C80",
         "C"
        ],
        [
         "222",
         "1114",
         "1",
         "2",
         "Cook, Mrs. (Selena Rogers)",
         "female",
         "22.0",
         "0",
         "0",
         "W./C. 14266",
         "10.5",
         "F33",
         "S"
        ]
       ],
       "shape": {
        "columns": 12,
        "rows": 91
       }
      },
      "text/html": [
       "<div>\n",
       "<style scoped>\n",
       "    .dataframe tbody tr th:only-of-type {\n",
       "        vertical-align: middle;\n",
       "    }\n",
       "\n",
       "    .dataframe tbody tr th {\n",
       "        vertical-align: top;\n",
       "    }\n",
       "\n",
       "    .dataframe thead th {\n",
       "        text-align: right;\n",
       "    }\n",
       "</style>\n",
       "<table border=\"1\" class=\"dataframe\">\n",
       "  <thead>\n",
       "    <tr style=\"text-align: right;\">\n",
       "      <th></th>\n",
       "      <th>PassengerId</th>\n",
       "      <th>Survived</th>\n",
       "      <th>Pclass</th>\n",
       "      <th>Name</th>\n",
       "      <th>Sex</th>\n",
       "      <th>Age</th>\n",
       "      <th>SibSp</th>\n",
       "      <th>Parch</th>\n",
       "      <th>Ticket</th>\n",
       "      <th>Fare</th>\n",
       "      <th>Cabin</th>\n",
       "      <th>Embarked</th>\n",
       "    </tr>\n",
       "  </thead>\n",
       "  <tbody>\n",
       "    <tr>\n",
       "      <th>12</th>\n",
       "      <td>904</td>\n",
       "      <td>1</td>\n",
       "      <td>1</td>\n",
       "      <td>Snyder, Mrs. John Pillsbury (Nelle Stevenson)</td>\n",
       "      <td>female</td>\n",
       "      <td>23.0</td>\n",
       "      <td>1</td>\n",
       "      <td>0</td>\n",
       "      <td>21228</td>\n",
       "      <td>82.2667</td>\n",
       "      <td>B45</td>\n",
       "      <td>S</td>\n",
       "    </tr>\n",
       "    <tr>\n",
       "      <th>14</th>\n",
       "      <td>906</td>\n",
       "      <td>1</td>\n",
       "      <td>1</td>\n",
       "      <td>Chaffee, Mrs. Herbert Fuller (Carrie Constance...</td>\n",
       "      <td>female</td>\n",
       "      <td>47.0</td>\n",
       "      <td>1</td>\n",
       "      <td>0</td>\n",
       "      <td>W.E.P. 5734</td>\n",
       "      <td>61.1750</td>\n",
       "      <td>E31</td>\n",
       "      <td>S</td>\n",
       "    </tr>\n",
       "    <tr>\n",
       "      <th>24</th>\n",
       "      <td>916</td>\n",
       "      <td>1</td>\n",
       "      <td>1</td>\n",
       "      <td>Ryerson, Mrs. Arthur Larned (Emily Maria Borie)</td>\n",
       "      <td>female</td>\n",
       "      <td>48.0</td>\n",
       "      <td>1</td>\n",
       "      <td>3</td>\n",
       "      <td>PC 17608</td>\n",
       "      <td>262.3750</td>\n",
       "      <td>B57 B59 B63 B66</td>\n",
       "      <td>C</td>\n",
       "    </tr>\n",
       "    <tr>\n",
       "      <th>26</th>\n",
       "      <td>918</td>\n",
       "      <td>1</td>\n",
       "      <td>1</td>\n",
       "      <td>Ostby, Miss. Helene Ragnhild</td>\n",
       "      <td>female</td>\n",
       "      <td>22.0</td>\n",
       "      <td>0</td>\n",
       "      <td>1</td>\n",
       "      <td>113509</td>\n",
       "      <td>61.9792</td>\n",
       "      <td>B36</td>\n",
       "      <td>C</td>\n",
       "    </tr>\n",
       "    <tr>\n",
       "      <th>28</th>\n",
       "      <td>920</td>\n",
       "      <td>0</td>\n",
       "      <td>1</td>\n",
       "      <td>Brady, Mr. John Bertram</td>\n",
       "      <td>male</td>\n",
       "      <td>41.0</td>\n",
       "      <td>0</td>\n",
       "      <td>0</td>\n",
       "      <td>113054</td>\n",
       "      <td>30.5000</td>\n",
       "      <td>A21</td>\n",
       "      <td>S</td>\n",
       "    </tr>\n",
       "    <tr>\n",
       "      <th>...</th>\n",
       "      <td>...</td>\n",
       "      <td>...</td>\n",
       "      <td>...</td>\n",
       "      <td>...</td>\n",
       "      <td>...</td>\n",
       "      <td>...</td>\n",
       "      <td>...</td>\n",
       "      <td>...</td>\n",
       "      <td>...</td>\n",
       "      <td>...</td>\n",
       "      <td>...</td>\n",
       "      <td>...</td>\n",
       "    </tr>\n",
       "    <tr>\n",
       "      <th>404</th>\n",
       "      <td>1296</td>\n",
       "      <td>0</td>\n",
       "      <td>1</td>\n",
       "      <td>Frauenthal, Mr. Isaac Gerald</td>\n",
       "      <td>male</td>\n",
       "      <td>43.0</td>\n",
       "      <td>1</td>\n",
       "      <td>0</td>\n",
       "      <td>17765</td>\n",
       "      <td>27.7208</td>\n",
       "      <td>D40</td>\n",
       "      <td>C</td>\n",
       "    </tr>\n",
       "    <tr>\n",
       "      <th>405</th>\n",
       "      <td>1297</td>\n",
       "      <td>0</td>\n",
       "      <td>2</td>\n",
       "      <td>Nourney, Mr. Alfred (Baron von Drachstedt\")\"</td>\n",
       "      <td>male</td>\n",
       "      <td>20.0</td>\n",
       "      <td>0</td>\n",
       "      <td>0</td>\n",
       "      <td>SC/PARIS 2166</td>\n",
       "      <td>13.8625</td>\n",
       "      <td>D38</td>\n",
       "      <td>C</td>\n",
       "    </tr>\n",
       "    <tr>\n",
       "      <th>407</th>\n",
       "      <td>1299</td>\n",
       "      <td>0</td>\n",
       "      <td>1</td>\n",
       "      <td>Widener, Mr. George Dunton</td>\n",
       "      <td>male</td>\n",
       "      <td>50.0</td>\n",
       "      <td>1</td>\n",
       "      <td>1</td>\n",
       "      <td>113503</td>\n",
       "      <td>211.5000</td>\n",
       "      <td>C80</td>\n",
       "      <td>C</td>\n",
       "    </tr>\n",
       "    <tr>\n",
       "      <th>411</th>\n",
       "      <td>1303</td>\n",
       "      <td>1</td>\n",
       "      <td>1</td>\n",
       "      <td>Minahan, Mrs. William Edward (Lillian E Thorpe)</td>\n",
       "      <td>female</td>\n",
       "      <td>37.0</td>\n",
       "      <td>1</td>\n",
       "      <td>0</td>\n",
       "      <td>19928</td>\n",
       "      <td>90.0000</td>\n",
       "      <td>C78</td>\n",
       "      <td>Q</td>\n",
       "    </tr>\n",
       "    <tr>\n",
       "      <th>414</th>\n",
       "      <td>1306</td>\n",
       "      <td>1</td>\n",
       "      <td>1</td>\n",
       "      <td>Oliva y Ocana, Dona. Fermina</td>\n",
       "      <td>female</td>\n",
       "      <td>39.0</td>\n",
       "      <td>0</td>\n",
       "      <td>0</td>\n",
       "      <td>PC 17758</td>\n",
       "      <td>108.9000</td>\n",
       "      <td>C105</td>\n",
       "      <td>C</td>\n",
       "    </tr>\n",
       "  </tbody>\n",
       "</table>\n",
       "<p>91 rows × 12 columns</p>\n",
       "</div>"
      ],
      "text/plain": [
       "     PassengerId  Survived  Pclass  \\\n",
       "12           904         1       1   \n",
       "14           906         1       1   \n",
       "24           916         1       1   \n",
       "26           918         1       1   \n",
       "28           920         0       1   \n",
       "..           ...       ...     ...   \n",
       "404         1296         0       1   \n",
       "405         1297         0       2   \n",
       "407         1299         0       1   \n",
       "411         1303         1       1   \n",
       "414         1306         1       1   \n",
       "\n",
       "                                                  Name     Sex   Age  SibSp  \\\n",
       "12       Snyder, Mrs. John Pillsbury (Nelle Stevenson)  female  23.0      1   \n",
       "14   Chaffee, Mrs. Herbert Fuller (Carrie Constance...  female  47.0      1   \n",
       "24     Ryerson, Mrs. Arthur Larned (Emily Maria Borie)  female  48.0      1   \n",
       "26                        Ostby, Miss. Helene Ragnhild  female  22.0      0   \n",
       "28                             Brady, Mr. John Bertram    male  41.0      0   \n",
       "..                                                 ...     ...   ...    ...   \n",
       "404                       Frauenthal, Mr. Isaac Gerald    male  43.0      1   \n",
       "405       Nourney, Mr. Alfred (Baron von Drachstedt\")\"    male  20.0      0   \n",
       "407                         Widener, Mr. George Dunton    male  50.0      1   \n",
       "411    Minahan, Mrs. William Edward (Lillian E Thorpe)  female  37.0      1   \n",
       "414                       Oliva y Ocana, Dona. Fermina  female  39.0      0   \n",
       "\n",
       "     Parch         Ticket      Fare            Cabin Embarked  \n",
       "12       0          21228   82.2667              B45        S  \n",
       "14       0    W.E.P. 5734   61.1750              E31        S  \n",
       "24       3       PC 17608  262.3750  B57 B59 B63 B66        C  \n",
       "26       1         113509   61.9792              B36        C  \n",
       "28       0         113054   30.5000              A21        S  \n",
       "..     ...            ...       ...              ...      ...  \n",
       "404      0          17765   27.7208              D40        C  \n",
       "405      0  SC/PARIS 2166   13.8625              D38        C  \n",
       "407      1         113503  211.5000              C80        C  \n",
       "411      0          19928   90.0000              C78        Q  \n",
       "414      0       PC 17758  108.9000             C105        C  \n",
       "\n",
       "[91 rows x 12 columns]"
      ]
     },
     "execution_count": 31,
     "metadata": {},
     "output_type": "execute_result"
    }
   ],
   "source": [
    "data3.dropna()"
   ]
  },
  {
   "cell_type": "code",
   "execution_count": 32,
   "metadata": {},
   "outputs": [
    {
     "data": {
      "text/plain": [
       "PassengerId      0\n",
       "Survived         0\n",
       "Pclass           0\n",
       "Name             0\n",
       "Sex              0\n",
       "Age              2\n",
       "SibSp            0\n",
       "Parch            0\n",
       "Ticket           0\n",
       "Fare             1\n",
       "Cabin          327\n",
       "Embarked         0\n",
       "dtype: int64"
      ]
     },
     "execution_count": 32,
     "metadata": {},
     "output_type": "execute_result"
    }
   ],
   "source": [
    "data3.isnull().sum()"
   ]
  },
  {
   "cell_type": "code",
   "execution_count": 33,
   "metadata": {},
   "outputs": [],
   "source": [
    "data=pd.read_csv(\"/home/daljeet-singh/Downloads/archive(2)/tested.csv\")"
   ]
  },
  {
   "cell_type": "code",
   "execution_count": 34,
   "metadata": {},
   "outputs": [
    {
     "data": {
      "text/plain": [
       "PassengerId      0\n",
       "Survived         0\n",
       "Pclass           0\n",
       "Name             0\n",
       "Sex              0\n",
       "Age             86\n",
       "SibSp            0\n",
       "Parch            0\n",
       "Ticket           0\n",
       "Fare             1\n",
       "Cabin          327\n",
       "Embarked         0\n",
       "dtype: int64"
      ]
     },
     "execution_count": 34,
     "metadata": {},
     "output_type": "execute_result"
    }
   ],
   "source": [
    "data.isnull().sum()"
   ]
  },
  {
   "cell_type": "code",
   "execution_count": 35,
   "metadata": {},
   "outputs": [
    {
     "name": "stderr",
     "output_type": "stream",
     "text": [
      "/tmp/ipykernel_414766/1655381691.py:1: FutureWarning: A value is trying to be set on a copy of a DataFrame or Series through chained assignment using an inplace method.\n",
      "The behavior will change in pandas 3.0. This inplace method will never work because the intermediate object on which we are setting values always behaves as a copy.\n",
      "\n",
      "For example, when doing 'df[col].method(value, inplace=True)', try using 'df.method({col: value}, inplace=True)' or df[col] = df[col].method(value) instead, to perform the operation inplace on the original object.\n",
      "\n",
      "\n",
      "  data['Cabin'].fillna(data['Cabin'].mode()[0],inplace=True)\n"
     ]
    }
   ],
   "source": [
    "data['Cabin'].fillna(data['Cabin'].mode()[0],inplace=True)"
   ]
  },
  {
   "cell_type": "code",
   "execution_count": 36,
   "metadata": {},
   "outputs": [
    {
     "data": {
      "application/vnd.microsoft.datawrangler.viewer.v0+json": {
       "columns": [
        {
         "name": "index",
         "rawType": "int64",
         "type": "integer"
        },
        {
         "name": "PassengerId",
         "rawType": "int64",
         "type": "integer"
        },
        {
         "name": "Survived",
         "rawType": "int64",
         "type": "integer"
        },
        {
         "name": "Pclass",
         "rawType": "int64",
         "type": "integer"
        },
        {
         "name": "Name",
         "rawType": "object",
         "type": "string"
        },
        {
         "name": "Sex",
         "rawType": "object",
         "type": "string"
        },
        {
         "name": "Age",
         "rawType": "float64",
         "type": "float"
        },
        {
         "name": "SibSp",
         "rawType": "int64",
         "type": "integer"
        },
        {
         "name": "Parch",
         "rawType": "int64",
         "type": "integer"
        },
        {
         "name": "Ticket",
         "rawType": "object",
         "type": "string"
        },
        {
         "name": "Fare",
         "rawType": "float64",
         "type": "float"
        },
        {
         "name": "Cabin",
         "rawType": "object",
         "type": "string"
        },
        {
         "name": "Embarked",
         "rawType": "object",
         "type": "string"
        }
       ],
       "conversionMethod": "pd.DataFrame",
       "ref": "1a67550a-13e6-4976-85b7-9f5922398ebe",
       "rows": [
        [
         "0",
         "892",
         "0",
         "3",
         "Kelly, Mr. James",
         "male",
         "34.5",
         "0",
         "0",
         "330911",
         "7.8292",
         "B57 B59 B63 B66",
         "Q"
        ],
        [
         "1",
         "893",
         "1",
         "3",
         "Wilkes, Mrs. James (Ellen Needs)",
         "female",
         "47.0",
         "1",
         "0",
         "363272",
         "7.0",
         "B57 B59 B63 B66",
         "S"
        ],
        [
         "2",
         "894",
         "0",
         "2",
         "Myles, Mr. Thomas Francis",
         "male",
         "62.0",
         "0",
         "0",
         "240276",
         "9.6875",
         "B57 B59 B63 B66",
         "Q"
        ],
        [
         "3",
         "895",
         "0",
         "3",
         "Wirz, Mr. Albert",
         "male",
         "27.0",
         "0",
         "0",
         "315154",
         "8.6625",
         "B57 B59 B63 B66",
         "S"
        ],
        [
         "4",
         "896",
         "1",
         "3",
         "Hirvonen, Mrs. Alexander (Helga E Lindqvist)",
         "female",
         "22.0",
         "1",
         "1",
         "3101298",
         "12.2875",
         "B57 B59 B63 B66",
         "S"
        ],
        [
         "5",
         "897",
         "0",
         "3",
         "Svensson, Mr. Johan Cervin",
         "male",
         "14.0",
         "0",
         "0",
         "7538",
         "9.225",
         "B57 B59 B63 B66",
         "S"
        ],
        [
         "6",
         "898",
         "1",
         "3",
         "Connolly, Miss. Kate",
         "female",
         "30.0",
         "0",
         "0",
         "330972",
         "7.6292",
         "B57 B59 B63 B66",
         "Q"
        ],
        [
         "7",
         "899",
         "0",
         "2",
         "Caldwell, Mr. Albert Francis",
         "male",
         "26.0",
         "1",
         "1",
         "248738",
         "29.0",
         "B57 B59 B63 B66",
         "S"
        ],
        [
         "8",
         "900",
         "1",
         "3",
         "Abrahim, Mrs. Joseph (Sophie Halaut Easu)",
         "female",
         "18.0",
         "0",
         "0",
         "2657",
         "7.2292",
         "B57 B59 B63 B66",
         "C"
        ],
        [
         "9",
         "901",
         "0",
         "3",
         "Davies, Mr. John Samuel",
         "male",
         "21.0",
         "2",
         "0",
         "A/4 48871",
         "24.15",
         "B57 B59 B63 B66",
         "S"
        ],
        [
         "10",
         "902",
         "0",
         "3",
         "Ilieff, Mr. Ylio",
         "male",
         null,
         "0",
         "0",
         "349220",
         "7.8958",
         "B57 B59 B63 B66",
         "S"
        ],
        [
         "11",
         "903",
         "0",
         "1",
         "Jones, Mr. Charles Cresson",
         "male",
         "46.0",
         "0",
         "0",
         "694",
         "26.0",
         "B57 B59 B63 B66",
         "S"
        ],
        [
         "12",
         "904",
         "1",
         "1",
         "Snyder, Mrs. John Pillsbury (Nelle Stevenson)",
         "female",
         "23.0",
         "1",
         "0",
         "21228",
         "82.2667",
         "B45",
         "S"
        ],
        [
         "13",
         "905",
         "0",
         "2",
         "Howard, Mr. Benjamin",
         "male",
         "63.0",
         "1",
         "0",
         "24065",
         "26.0",
         "B57 B59 B63 B66",
         "S"
        ],
        [
         "14",
         "906",
         "1",
         "1",
         "Chaffee, Mrs. Herbert Fuller (Carrie Constance Toogood)",
         "female",
         "47.0",
         "1",
         "0",
         "W.E.P. 5734",
         "61.175",
         "E31",
         "S"
        ],
        [
         "15",
         "907",
         "1",
         "2",
         "del Carlo, Mrs. Sebastiano (Argenia Genovesi)",
         "female",
         "24.0",
         "1",
         "0",
         "SC/PARIS 2167",
         "27.7208",
         "B57 B59 B63 B66",
         "C"
        ],
        [
         "16",
         "908",
         "0",
         "2",
         "Keane, Mr. Daniel",
         "male",
         "35.0",
         "0",
         "0",
         "233734",
         "12.35",
         "B57 B59 B63 B66",
         "Q"
        ],
        [
         "17",
         "909",
         "0",
         "3",
         "Assaf, Mr. Gerios",
         "male",
         "21.0",
         "0",
         "0",
         "2692",
         "7.225",
         "B57 B59 B63 B66",
         "C"
        ],
        [
         "18",
         "910",
         "1",
         "3",
         "Ilmakangas, Miss. Ida Livija",
         "female",
         "27.0",
         "1",
         "0",
         "STON/O2. 3101270",
         "7.925",
         "B57 B59 B63 B66",
         "S"
        ],
        [
         "19",
         "911",
         "1",
         "3",
         "Assaf Khalil, Mrs. Mariana (Miriam\")\"",
         "female",
         "45.0",
         "0",
         "0",
         "2696",
         "7.225",
         "B57 B59 B63 B66",
         "C"
        ],
        [
         "20",
         "912",
         "0",
         "1",
         "Rothschild, Mr. Martin",
         "male",
         "55.0",
         "1",
         "0",
         "PC 17603",
         "59.4",
         "B57 B59 B63 B66",
         "C"
        ],
        [
         "21",
         "913",
         "0",
         "3",
         "Olsen, Master. Artur Karl",
         "male",
         "9.0",
         "0",
         "1",
         "C 17368",
         "3.1708",
         "B57 B59 B63 B66",
         "S"
        ],
        [
         "22",
         "914",
         "1",
         "1",
         "Flegenheim, Mrs. Alfred (Antoinette)",
         "female",
         null,
         "0",
         "0",
         "PC 17598",
         "31.6833",
         "B57 B59 B63 B66",
         "S"
        ],
        [
         "23",
         "915",
         "0",
         "1",
         "Williams, Mr. Richard Norris II",
         "male",
         "21.0",
         "0",
         "1",
         "PC 17597",
         "61.3792",
         "B57 B59 B63 B66",
         "C"
        ],
        [
         "24",
         "916",
         "1",
         "1",
         "Ryerson, Mrs. Arthur Larned (Emily Maria Borie)",
         "female",
         "48.0",
         "1",
         "3",
         "PC 17608",
         "262.375",
         "B57 B59 B63 B66",
         "C"
        ],
        [
         "25",
         "917",
         "0",
         "3",
         "Robins, Mr. Alexander A",
         "male",
         "50.0",
         "1",
         "0",
         "A/5. 3337",
         "14.5",
         "B57 B59 B63 B66",
         "S"
        ],
        [
         "26",
         "918",
         "1",
         "1",
         "Ostby, Miss. Helene Ragnhild",
         "female",
         "22.0",
         "0",
         "1",
         "113509",
         "61.9792",
         "B36",
         "C"
        ],
        [
         "27",
         "919",
         "0",
         "3",
         "Daher, Mr. Shedid",
         "male",
         "22.5",
         "0",
         "0",
         "2698",
         "7.225",
         "B57 B59 B63 B66",
         "C"
        ],
        [
         "28",
         "920",
         "0",
         "1",
         "Brady, Mr. John Bertram",
         "male",
         "41.0",
         "0",
         "0",
         "113054",
         "30.5",
         "A21",
         "S"
        ],
        [
         "29",
         "921",
         "0",
         "3",
         "Samaan, Mr. Elias",
         "male",
         null,
         "2",
         "0",
         "2662",
         "21.6792",
         "B57 B59 B63 B66",
         "C"
        ],
        [
         "30",
         "922",
         "0",
         "2",
         "Louch, Mr. Charles Alexander",
         "male",
         "50.0",
         "1",
         "0",
         "SC/AH 3085",
         "26.0",
         "B57 B59 B63 B66",
         "S"
        ],
        [
         "31",
         "923",
         "0",
         "2",
         "Jefferys, Mr. Clifford Thomas",
         "male",
         "24.0",
         "2",
         "0",
         "C.A. 31029",
         "31.5",
         "B57 B59 B63 B66",
         "S"
        ],
        [
         "32",
         "924",
         "1",
         "3",
         "Dean, Mrs. Bertram (Eva Georgetta Light)",
         "female",
         "33.0",
         "1",
         "2",
         "C.A. 2315",
         "20.575",
         "B57 B59 B63 B66",
         "S"
        ],
        [
         "33",
         "925",
         "1",
         "3",
         "Johnston, Mrs. Andrew G (Elizabeth Lily\" Watson)\"",
         "female",
         null,
         "1",
         "2",
         "W./C. 6607",
         "23.45",
         "B57 B59 B63 B66",
         "S"
        ],
        [
         "34",
         "926",
         "0",
         "1",
         "Mock, Mr. Philipp Edmund",
         "male",
         "30.0",
         "1",
         "0",
         "13236",
         "57.75",
         "C78",
         "C"
        ],
        [
         "35",
         "927",
         "0",
         "3",
         "Katavelas, Mr. Vassilios (Catavelas Vassilios\")\"",
         "male",
         "18.5",
         "0",
         "0",
         "2682",
         "7.2292",
         "B57 B59 B63 B66",
         "C"
        ],
        [
         "36",
         "928",
         "1",
         "3",
         "Roth, Miss. Sarah A",
         "female",
         null,
         "0",
         "0",
         "342712",
         "8.05",
         "B57 B59 B63 B66",
         "S"
        ],
        [
         "37",
         "929",
         "1",
         "3",
         "Cacic, Miss. Manda",
         "female",
         "21.0",
         "0",
         "0",
         "315087",
         "8.6625",
         "B57 B59 B63 B66",
         "S"
        ],
        [
         "38",
         "930",
         "0",
         "3",
         "Sap, Mr. Julius",
         "male",
         "25.0",
         "0",
         "0",
         "345768",
         "9.5",
         "B57 B59 B63 B66",
         "S"
        ],
        [
         "39",
         "931",
         "0",
         "3",
         "Hee, Mr. Ling",
         "male",
         null,
         "0",
         "0",
         "1601",
         "56.4958",
         "B57 B59 B63 B66",
         "S"
        ],
        [
         "40",
         "932",
         "0",
         "3",
         "Karun, Mr. Franz",
         "male",
         "39.0",
         "0",
         "1",
         "349256",
         "13.4167",
         "B57 B59 B63 B66",
         "C"
        ],
        [
         "41",
         "933",
         "0",
         "1",
         "Franklin, Mr. Thomas Parham",
         "male",
         null,
         "0",
         "0",
         "113778",
         "26.55",
         "D34",
         "S"
        ],
        [
         "42",
         "934",
         "0",
         "3",
         "Goldsmith, Mr. Nathan",
         "male",
         "41.0",
         "0",
         "0",
         "SOTON/O.Q. 3101263",
         "7.85",
         "B57 B59 B63 B66",
         "S"
        ],
        [
         "43",
         "935",
         "1",
         "2",
         "Corbett, Mrs. Walter H (Irene Colvin)",
         "female",
         "30.0",
         "0",
         "0",
         "237249",
         "13.0",
         "B57 B59 B63 B66",
         "S"
        ],
        [
         "44",
         "936",
         "1",
         "1",
         "Kimball, Mrs. Edwin Nelson Jr (Gertrude Parsons)",
         "female",
         "45.0",
         "1",
         "0",
         "11753",
         "52.5542",
         "D19",
         "S"
        ],
        [
         "45",
         "937",
         "0",
         "3",
         "Peltomaki, Mr. Nikolai Johannes",
         "male",
         "25.0",
         "0",
         "0",
         "STON/O 2. 3101291",
         "7.925",
         "B57 B59 B63 B66",
         "S"
        ],
        [
         "46",
         "938",
         "0",
         "1",
         "Chevre, Mr. Paul Romaine",
         "male",
         "45.0",
         "0",
         "0",
         "PC 17594",
         "29.7",
         "A9",
         "C"
        ],
        [
         "47",
         "939",
         "0",
         "3",
         "Shaughnessy, Mr. Patrick",
         "male",
         null,
         "0",
         "0",
         "370374",
         "7.75",
         "B57 B59 B63 B66",
         "Q"
        ],
        [
         "48",
         "940",
         "1",
         "1",
         "Bucknell, Mrs. William Robert (Emma Eliza Ward)",
         "female",
         "60.0",
         "0",
         "0",
         "11813",
         "76.2917",
         "D15",
         "C"
        ],
        [
         "49",
         "941",
         "1",
         "3",
         "Coutts, Mrs. William (Winnie Minnie\" Treanor)\"",
         "female",
         "36.0",
         "0",
         "2",
         "C.A. 37671",
         "15.9",
         "B57 B59 B63 B66",
         "S"
        ]
       ],
       "shape": {
        "columns": 12,
        "rows": 418
       }
      },
      "text/html": [
       "<div>\n",
       "<style scoped>\n",
       "    .dataframe tbody tr th:only-of-type {\n",
       "        vertical-align: middle;\n",
       "    }\n",
       "\n",
       "    .dataframe tbody tr th {\n",
       "        vertical-align: top;\n",
       "    }\n",
       "\n",
       "    .dataframe thead th {\n",
       "        text-align: right;\n",
       "    }\n",
       "</style>\n",
       "<table border=\"1\" class=\"dataframe\">\n",
       "  <thead>\n",
       "    <tr style=\"text-align: right;\">\n",
       "      <th></th>\n",
       "      <th>PassengerId</th>\n",
       "      <th>Survived</th>\n",
       "      <th>Pclass</th>\n",
       "      <th>Name</th>\n",
       "      <th>Sex</th>\n",
       "      <th>Age</th>\n",
       "      <th>SibSp</th>\n",
       "      <th>Parch</th>\n",
       "      <th>Ticket</th>\n",
       "      <th>Fare</th>\n",
       "      <th>Cabin</th>\n",
       "      <th>Embarked</th>\n",
       "    </tr>\n",
       "  </thead>\n",
       "  <tbody>\n",
       "    <tr>\n",
       "      <th>0</th>\n",
       "      <td>892</td>\n",
       "      <td>0</td>\n",
       "      <td>3</td>\n",
       "      <td>Kelly, Mr. James</td>\n",
       "      <td>male</td>\n",
       "      <td>34.5</td>\n",
       "      <td>0</td>\n",
       "      <td>0</td>\n",
       "      <td>330911</td>\n",
       "      <td>7.8292</td>\n",
       "      <td>B57 B59 B63 B66</td>\n",
       "      <td>Q</td>\n",
       "    </tr>\n",
       "    <tr>\n",
       "      <th>1</th>\n",
       "      <td>893</td>\n",
       "      <td>1</td>\n",
       "      <td>3</td>\n",
       "      <td>Wilkes, Mrs. James (Ellen Needs)</td>\n",
       "      <td>female</td>\n",
       "      <td>47.0</td>\n",
       "      <td>1</td>\n",
       "      <td>0</td>\n",
       "      <td>363272</td>\n",
       "      <td>7.0000</td>\n",
       "      <td>B57 B59 B63 B66</td>\n",
       "      <td>S</td>\n",
       "    </tr>\n",
       "    <tr>\n",
       "      <th>2</th>\n",
       "      <td>894</td>\n",
       "      <td>0</td>\n",
       "      <td>2</td>\n",
       "      <td>Myles, Mr. Thomas Francis</td>\n",
       "      <td>male</td>\n",
       "      <td>62.0</td>\n",
       "      <td>0</td>\n",
       "      <td>0</td>\n",
       "      <td>240276</td>\n",
       "      <td>9.6875</td>\n",
       "      <td>B57 B59 B63 B66</td>\n",
       "      <td>Q</td>\n",
       "    </tr>\n",
       "    <tr>\n",
       "      <th>3</th>\n",
       "      <td>895</td>\n",
       "      <td>0</td>\n",
       "      <td>3</td>\n",
       "      <td>Wirz, Mr. Albert</td>\n",
       "      <td>male</td>\n",
       "      <td>27.0</td>\n",
       "      <td>0</td>\n",
       "      <td>0</td>\n",
       "      <td>315154</td>\n",
       "      <td>8.6625</td>\n",
       "      <td>B57 B59 B63 B66</td>\n",
       "      <td>S</td>\n",
       "    </tr>\n",
       "    <tr>\n",
       "      <th>4</th>\n",
       "      <td>896</td>\n",
       "      <td>1</td>\n",
       "      <td>3</td>\n",
       "      <td>Hirvonen, Mrs. Alexander (Helga E Lindqvist)</td>\n",
       "      <td>female</td>\n",
       "      <td>22.0</td>\n",
       "      <td>1</td>\n",
       "      <td>1</td>\n",
       "      <td>3101298</td>\n",
       "      <td>12.2875</td>\n",
       "      <td>B57 B59 B63 B66</td>\n",
       "      <td>S</td>\n",
       "    </tr>\n",
       "    <tr>\n",
       "      <th>...</th>\n",
       "      <td>...</td>\n",
       "      <td>...</td>\n",
       "      <td>...</td>\n",
       "      <td>...</td>\n",
       "      <td>...</td>\n",
       "      <td>...</td>\n",
       "      <td>...</td>\n",
       "      <td>...</td>\n",
       "      <td>...</td>\n",
       "      <td>...</td>\n",
       "      <td>...</td>\n",
       "      <td>...</td>\n",
       "    </tr>\n",
       "    <tr>\n",
       "      <th>413</th>\n",
       "      <td>1305</td>\n",
       "      <td>0</td>\n",
       "      <td>3</td>\n",
       "      <td>Spector, Mr. Woolf</td>\n",
       "      <td>male</td>\n",
       "      <td>NaN</td>\n",
       "      <td>0</td>\n",
       "      <td>0</td>\n",
       "      <td>A.5. 3236</td>\n",
       "      <td>8.0500</td>\n",
       "      <td>B57 B59 B63 B66</td>\n",
       "      <td>S</td>\n",
       "    </tr>\n",
       "    <tr>\n",
       "      <th>414</th>\n",
       "      <td>1306</td>\n",
       "      <td>1</td>\n",
       "      <td>1</td>\n",
       "      <td>Oliva y Ocana, Dona. Fermina</td>\n",
       "      <td>female</td>\n",
       "      <td>39.0</td>\n",
       "      <td>0</td>\n",
       "      <td>0</td>\n",
       "      <td>PC 17758</td>\n",
       "      <td>108.9000</td>\n",
       "      <td>C105</td>\n",
       "      <td>C</td>\n",
       "    </tr>\n",
       "    <tr>\n",
       "      <th>415</th>\n",
       "      <td>1307</td>\n",
       "      <td>0</td>\n",
       "      <td>3</td>\n",
       "      <td>Saether, Mr. Simon Sivertsen</td>\n",
       "      <td>male</td>\n",
       "      <td>38.5</td>\n",
       "      <td>0</td>\n",
       "      <td>0</td>\n",
       "      <td>SOTON/O.Q. 3101262</td>\n",
       "      <td>7.2500</td>\n",
       "      <td>B57 B59 B63 B66</td>\n",
       "      <td>S</td>\n",
       "    </tr>\n",
       "    <tr>\n",
       "      <th>416</th>\n",
       "      <td>1308</td>\n",
       "      <td>0</td>\n",
       "      <td>3</td>\n",
       "      <td>Ware, Mr. Frederick</td>\n",
       "      <td>male</td>\n",
       "      <td>NaN</td>\n",
       "      <td>0</td>\n",
       "      <td>0</td>\n",
       "      <td>359309</td>\n",
       "      <td>8.0500</td>\n",
       "      <td>B57 B59 B63 B66</td>\n",
       "      <td>S</td>\n",
       "    </tr>\n",
       "    <tr>\n",
       "      <th>417</th>\n",
       "      <td>1309</td>\n",
       "      <td>0</td>\n",
       "      <td>3</td>\n",
       "      <td>Peter, Master. Michael J</td>\n",
       "      <td>male</td>\n",
       "      <td>NaN</td>\n",
       "      <td>1</td>\n",
       "      <td>1</td>\n",
       "      <td>2668</td>\n",
       "      <td>22.3583</td>\n",
       "      <td>B57 B59 B63 B66</td>\n",
       "      <td>C</td>\n",
       "    </tr>\n",
       "  </tbody>\n",
       "</table>\n",
       "<p>418 rows × 12 columns</p>\n",
       "</div>"
      ],
      "text/plain": [
       "     PassengerId  Survived  Pclass  \\\n",
       "0            892         0       3   \n",
       "1            893         1       3   \n",
       "2            894         0       2   \n",
       "3            895         0       3   \n",
       "4            896         1       3   \n",
       "..           ...       ...     ...   \n",
       "413         1305         0       3   \n",
       "414         1306         1       1   \n",
       "415         1307         0       3   \n",
       "416         1308         0       3   \n",
       "417         1309         0       3   \n",
       "\n",
       "                                             Name     Sex   Age  SibSp  Parch  \\\n",
       "0                                Kelly, Mr. James    male  34.5      0      0   \n",
       "1                Wilkes, Mrs. James (Ellen Needs)  female  47.0      1      0   \n",
       "2                       Myles, Mr. Thomas Francis    male  62.0      0      0   \n",
       "3                                Wirz, Mr. Albert    male  27.0      0      0   \n",
       "4    Hirvonen, Mrs. Alexander (Helga E Lindqvist)  female  22.0      1      1   \n",
       "..                                            ...     ...   ...    ...    ...   \n",
       "413                            Spector, Mr. Woolf    male   NaN      0      0   \n",
       "414                  Oliva y Ocana, Dona. Fermina  female  39.0      0      0   \n",
       "415                  Saether, Mr. Simon Sivertsen    male  38.5      0      0   \n",
       "416                           Ware, Mr. Frederick    male   NaN      0      0   \n",
       "417                      Peter, Master. Michael J    male   NaN      1      1   \n",
       "\n",
       "                 Ticket      Fare            Cabin Embarked  \n",
       "0                330911    7.8292  B57 B59 B63 B66        Q  \n",
       "1                363272    7.0000  B57 B59 B63 B66        S  \n",
       "2                240276    9.6875  B57 B59 B63 B66        Q  \n",
       "3                315154    8.6625  B57 B59 B63 B66        S  \n",
       "4               3101298   12.2875  B57 B59 B63 B66        S  \n",
       "..                  ...       ...              ...      ...  \n",
       "413           A.5. 3236    8.0500  B57 B59 B63 B66        S  \n",
       "414            PC 17758  108.9000             C105        C  \n",
       "415  SOTON/O.Q. 3101262    7.2500  B57 B59 B63 B66        S  \n",
       "416              359309    8.0500  B57 B59 B63 B66        S  \n",
       "417                2668   22.3583  B57 B59 B63 B66        C  \n",
       "\n",
       "[418 rows x 12 columns]"
      ]
     },
     "execution_count": 36,
     "metadata": {},
     "output_type": "execute_result"
    }
   ],
   "source": [
    "data"
   ]
  },
  {
   "cell_type": "code",
   "execution_count": 37,
   "metadata": {},
   "outputs": [
    {
     "name": "stdout",
     "output_type": "stream",
     "text": [
      "<class 'pandas.core.frame.DataFrame'>\n",
      "RangeIndex: 418 entries, 0 to 417\n",
      "Data columns (total 12 columns):\n",
      " #   Column       Non-Null Count  Dtype  \n",
      "---  ------       --------------  -----  \n",
      " 0   PassengerId  418 non-null    int64  \n",
      " 1   Survived     418 non-null    int64  \n",
      " 2   Pclass       418 non-null    int64  \n",
      " 3   Name         418 non-null    object \n",
      " 4   Sex          418 non-null    object \n",
      " 5   Age          332 non-null    float64\n",
      " 6   SibSp        418 non-null    int64  \n",
      " 7   Parch        418 non-null    int64  \n",
      " 8   Ticket       418 non-null    object \n",
      " 9   Fare         417 non-null    float64\n",
      " 10  Cabin        418 non-null    object \n",
      " 11  Embarked     418 non-null    object \n",
      "dtypes: float64(2), int64(5), object(5)\n",
      "memory usage: 39.3+ KB\n"
     ]
    }
   ],
   "source": [
    "data.info()"
   ]
  },
  {
   "cell_type": "code",
   "execution_count": 38,
   "metadata": {},
   "outputs": [
    {
     "data": {
      "application/vnd.microsoft.datawrangler.viewer.v0+json": {
       "columns": [
        {
         "name": "index",
         "rawType": "object",
         "type": "string"
        },
        {
         "name": "PassengerId",
         "rawType": "float64",
         "type": "float"
        },
        {
         "name": "Survived",
         "rawType": "float64",
         "type": "float"
        },
        {
         "name": "Pclass",
         "rawType": "float64",
         "type": "float"
        },
        {
         "name": "Age",
         "rawType": "float64",
         "type": "float"
        },
        {
         "name": "SibSp",
         "rawType": "float64",
         "type": "float"
        },
        {
         "name": "Parch",
         "rawType": "float64",
         "type": "float"
        },
        {
         "name": "Fare",
         "rawType": "float64",
         "type": "float"
        }
       ],
       "conversionMethod": "pd.DataFrame",
       "ref": "a5ccf5e1-273a-46b3-9dbe-647d6078c01c",
       "rows": [
        [
         "count",
         "418.0",
         "418.0",
         "418.0",
         "332.0",
         "418.0",
         "418.0",
         "417.0"
        ],
        [
         "mean",
         "1100.5",
         "0.36363636363636365",
         "2.2655502392344498",
         "30.272590361445783",
         "0.4473684210526316",
         "0.3923444976076555",
         "35.627188489208635"
        ],
        [
         "std",
         "120.81045760473994",
         "0.4816221409322309",
         "0.8418375519640503",
         "14.181209235624422",
         "0.8967595611217135",
         "0.9814288785371691",
         "55.907576179973844"
        ],
        [
         "min",
         "892.0",
         "0.0",
         "1.0",
         "0.17",
         "0.0",
         "0.0",
         "0.0"
        ],
        [
         "25%",
         "996.25",
         "0.0",
         "1.0",
         "21.0",
         "0.0",
         "0.0",
         "7.8958"
        ],
        [
         "50%",
         "1100.5",
         "0.0",
         "3.0",
         "27.0",
         "0.0",
         "0.0",
         "14.4542"
        ],
        [
         "75%",
         "1204.75",
         "1.0",
         "3.0",
         "39.0",
         "1.0",
         "0.0",
         "31.5"
        ],
        [
         "max",
         "1309.0",
         "1.0",
         "3.0",
         "76.0",
         "8.0",
         "9.0",
         "512.3292"
        ]
       ],
       "shape": {
        "columns": 7,
        "rows": 8
       }
      },
      "text/html": [
       "<div>\n",
       "<style scoped>\n",
       "    .dataframe tbody tr th:only-of-type {\n",
       "        vertical-align: middle;\n",
       "    }\n",
       "\n",
       "    .dataframe tbody tr th {\n",
       "        vertical-align: top;\n",
       "    }\n",
       "\n",
       "    .dataframe thead th {\n",
       "        text-align: right;\n",
       "    }\n",
       "</style>\n",
       "<table border=\"1\" class=\"dataframe\">\n",
       "  <thead>\n",
       "    <tr style=\"text-align: right;\">\n",
       "      <th></th>\n",
       "      <th>PassengerId</th>\n",
       "      <th>Survived</th>\n",
       "      <th>Pclass</th>\n",
       "      <th>Age</th>\n",
       "      <th>SibSp</th>\n",
       "      <th>Parch</th>\n",
       "      <th>Fare</th>\n",
       "    </tr>\n",
       "  </thead>\n",
       "  <tbody>\n",
       "    <tr>\n",
       "      <th>count</th>\n",
       "      <td>418.000000</td>\n",
       "      <td>418.000000</td>\n",
       "      <td>418.000000</td>\n",
       "      <td>332.000000</td>\n",
       "      <td>418.000000</td>\n",
       "      <td>418.000000</td>\n",
       "      <td>417.000000</td>\n",
       "    </tr>\n",
       "    <tr>\n",
       "      <th>mean</th>\n",
       "      <td>1100.500000</td>\n",
       "      <td>0.363636</td>\n",
       "      <td>2.265550</td>\n",
       "      <td>30.272590</td>\n",
       "      <td>0.447368</td>\n",
       "      <td>0.392344</td>\n",
       "      <td>35.627188</td>\n",
       "    </tr>\n",
       "    <tr>\n",
       "      <th>std</th>\n",
       "      <td>120.810458</td>\n",
       "      <td>0.481622</td>\n",
       "      <td>0.841838</td>\n",
       "      <td>14.181209</td>\n",
       "      <td>0.896760</td>\n",
       "      <td>0.981429</td>\n",
       "      <td>55.907576</td>\n",
       "    </tr>\n",
       "    <tr>\n",
       "      <th>min</th>\n",
       "      <td>892.000000</td>\n",
       "      <td>0.000000</td>\n",
       "      <td>1.000000</td>\n",
       "      <td>0.170000</td>\n",
       "      <td>0.000000</td>\n",
       "      <td>0.000000</td>\n",
       "      <td>0.000000</td>\n",
       "    </tr>\n",
       "    <tr>\n",
       "      <th>25%</th>\n",
       "      <td>996.250000</td>\n",
       "      <td>0.000000</td>\n",
       "      <td>1.000000</td>\n",
       "      <td>21.000000</td>\n",
       "      <td>0.000000</td>\n",
       "      <td>0.000000</td>\n",
       "      <td>7.895800</td>\n",
       "    </tr>\n",
       "    <tr>\n",
       "      <th>50%</th>\n",
       "      <td>1100.500000</td>\n",
       "      <td>0.000000</td>\n",
       "      <td>3.000000</td>\n",
       "      <td>27.000000</td>\n",
       "      <td>0.000000</td>\n",
       "      <td>0.000000</td>\n",
       "      <td>14.454200</td>\n",
       "    </tr>\n",
       "    <tr>\n",
       "      <th>75%</th>\n",
       "      <td>1204.750000</td>\n",
       "      <td>1.000000</td>\n",
       "      <td>3.000000</td>\n",
       "      <td>39.000000</td>\n",
       "      <td>1.000000</td>\n",
       "      <td>0.000000</td>\n",
       "      <td>31.500000</td>\n",
       "    </tr>\n",
       "    <tr>\n",
       "      <th>max</th>\n",
       "      <td>1309.000000</td>\n",
       "      <td>1.000000</td>\n",
       "      <td>3.000000</td>\n",
       "      <td>76.000000</td>\n",
       "      <td>8.000000</td>\n",
       "      <td>9.000000</td>\n",
       "      <td>512.329200</td>\n",
       "    </tr>\n",
       "  </tbody>\n",
       "</table>\n",
       "</div>"
      ],
      "text/plain": [
       "       PassengerId    Survived      Pclass         Age       SibSp  \\\n",
       "count   418.000000  418.000000  418.000000  332.000000  418.000000   \n",
       "mean   1100.500000    0.363636    2.265550   30.272590    0.447368   \n",
       "std     120.810458    0.481622    0.841838   14.181209    0.896760   \n",
       "min     892.000000    0.000000    1.000000    0.170000    0.000000   \n",
       "25%     996.250000    0.000000    1.000000   21.000000    0.000000   \n",
       "50%    1100.500000    0.000000    3.000000   27.000000    0.000000   \n",
       "75%    1204.750000    1.000000    3.000000   39.000000    1.000000   \n",
       "max    1309.000000    1.000000    3.000000   76.000000    8.000000   \n",
       "\n",
       "            Parch        Fare  \n",
       "count  418.000000  417.000000  \n",
       "mean     0.392344   35.627188  \n",
       "std      0.981429   55.907576  \n",
       "min      0.000000    0.000000  \n",
       "25%      0.000000    7.895800  \n",
       "50%      0.000000   14.454200  \n",
       "75%      0.000000   31.500000  \n",
       "max      9.000000  512.329200  "
      ]
     },
     "execution_count": 38,
     "metadata": {},
     "output_type": "execute_result"
    }
   ],
   "source": [
    "data.describe()"
   ]
  },
  {
   "cell_type": "code",
   "execution_count": 39,
   "metadata": {},
   "outputs": [
    {
     "data": {
      "text/plain": [
       "Index(['PassengerId', 'Survived', 'Pclass', 'Name', 'Sex', 'Age', 'SibSp',\n",
       "       'Parch', 'Ticket', 'Fare', 'Cabin', 'Embarked'],\n",
       "      dtype='object')"
      ]
     },
     "execution_count": 39,
     "metadata": {},
     "output_type": "execute_result"
    }
   ],
   "source": [
    "data.columns"
   ]
  },
  {
   "cell_type": "code",
   "execution_count": 40,
   "metadata": {},
   "outputs": [
    {
     "name": "stdout",
     "output_type": "stream",
     "text": [
      "Name: pillow\n",
      "Version: 11.1.0\n",
      "Summary: Python Imaging Library (Fork)\n",
      "Home-page: \n",
      "Author: \n",
      "Author-email: \"Jeffrey A. Clark\" <aclark@aclark.net>\n",
      "License: MIT-CMU\n",
      "Location: /home/daljeet-singh/.local/lib/python3.11/site-packages\n",
      "Requires: \n",
      "Required-by: matplotlib\n",
      "Note: you may need to restart the kernel to use updated packages.\n"
     ]
    }
   ],
   "source": [
    "pip show pillow\n"
   ]
  },
  {
   "cell_type": "code",
   "execution_count": 41,
   "metadata": {},
   "outputs": [],
   "source": [
    "import matplotlib.pyplot as plt"
   ]
  },
  {
   "cell_type": "code",
   "execution_count": 42,
   "metadata": {},
   "outputs": [
    {
     "data": {
      "image/png": "[encoded data removed]",
      "text/plain": [
       "<Figure size 640x480 with 1 Axes>"
      ]
     },
     "metadata": {},
     "output_type": "display_data"
    }
   ],
   "source": [
    "plt.plot(data['Age'])\n",
    "plt.show()"
   ]
  },
  {
   "cell_type": "code",
   "execution_count": 43,
   "metadata": {},
   "outputs": [
    {
     "name": "stdout",
     "output_type": "stream",
     "text": [
      "Defaulting to user installation because normal site-packages is not writeable\n",
      "Requirement already satisfied: seaborn in /home/daljeet-singh/.local/lib/python3.11/site-packages (0.13.2)\n",
      "Requirement already satisfied: numpy!=1.24.0,>=1.20 in /home/daljeet-singh/.local/lib/python3.11/site-packages (from seaborn) (2.0.2)\n",
      "Requirement already satisfied: pandas>=1.2 in /home/daljeet-singh/.local/lib/python3.11/site-packages (from seaborn) (2.2.3)\n",
      "Requirement already satisfied: matplotlib!=3.6.1,>=3.4 in /home/daljeet-singh/.local/lib/python3.11/site-packages (from seaborn) (3.10.0)\n",
      "Requirement already satisfied: contourpy>=1.0.1 in /home/daljeet-singh/.local/lib/python3.11/site-packages (from matplotlib!=3.6.1,>=3.4->seaborn) (1.3.1)\n",
      "Requirement already satisfied: cycler>=0.10 in /home/daljeet-singh/.local/lib/python3.11/site-packages (from matplotlib!=3.6.1,>=3.4->seaborn) (0.12.1)\n",
      "Requirement already satisfied: fonttools>=4.22.0 in /home/daljeet-singh/.local/lib/python3.11/site-packages (from matplotlib!=3.6.1,>=3.4->seaborn) (4.56.0)\n",
      "Requirement already satisfied: kiwisolver>=1.3.1 in /home/daljeet-singh/.local/lib/python3.11/site-packages (from matplotlib!=3.6.1,>=3.4->seaborn) (1.4.8)\n",
      "Requirement already satisfied: packaging>=20.0 in /home/daljeet-singh/.local/lib/python3.11/site-packages (from matplotlib!=3.6.1,>=3.4->seaborn) (24.2)\n",
      "Requirement already satisfied: pillow>=8 in /home/daljeet-singh/.local/lib/python3.11/site-packages (from matplotlib!=3.6.1,>=3.4->seaborn) (11.1.0)\n",
      "Requirement already satisfied: pyparsing>=2.3.1 in /usr/lib/python3/dist-packages (from matplotlib!=3.6.1,>=3.4->seaborn) (3.1.1)\n",
      "Requirement already satisfied: python-dateutil>=2.7 in /usr/lib/python3/dist-packages (from matplotlib!=3.6.1,>=3.4->seaborn) (2.8.2)\n",
      "Requirement already satisfied: pytz>=2020.1 in /usr/lib/python3/dist-packages (from pandas>=1.2->seaborn) (2024.1)\n",
      "Requirement already satisfied: tzdata>=2022.7 in /home/daljeet-singh/.local/lib/python3.11/site-packages (from pandas>=1.2->seaborn) (2025.1)\n",
      "Note: you may need to restart the kernel to use updated packages.\n"
     ]
    }
   ],
   "source": [
    "pip install seaborn"
   ]
  },
  {
   "cell_type": "code",
   "execution_count": 45,
   "metadata": {},
   "outputs": [],
   "source": [
    "import seaborn as sns"
   ]
  },
  {
   "cell_type": "code",
   "execution_count": 66,
   "metadata": {},
   "outputs": [],
   "source": [
    "x=np.array([1,2,4,6,8,9])\n",
    "y=np.array([9,6,4,3,6,9])"
   ]
  },
  {
   "cell_type": "code",
   "execution_count": 54,
   "metadata": {},
   "outputs": [
    {
     "data": {
      "image/png": "[encoded data removed]",
      "text/plain": [
       "<Figure size 640x480 with 1 Axes>"
      ]
     },
     "metadata": {},
     "output_type": "display_data"
    }
   ],
   "source": [
    "plt.plot(a,b)\n",
    "plt.show()"
   ]
  },
  {
   "cell_type": "code",
   "execution_count": 56,
   "metadata": {},
   "outputs": [
    {
     "data": {
      "image/png": "[encoded data removed]",
      "text/plain": [
       "<Figure size 640x480 with 1 Axes>"
      ]
     },
     "metadata": {},
     "output_type": "display_data"
    }
   ],
   "source": [
    "plt.scatter(a,b)\n",
    "plt.show()"
   ]
  },
  {
   "cell_type": "code",
   "execution_count": 60,
   "metadata": {},
   "outputs": [
    {
     "data": {
      "image/png": "[encoded data removed]",
      "text/plain": [
       "<Figure size 640x480 with 1 Axes>"
      ]
     },
     "metadata": {},
     "output_type": "display_data"
    }
   ],
   "source": [
    "plt.bar(a,b)\n",
    "plt.show()"
   ]
  },
  {
   "cell_type": "code",
   "execution_count": 61,
   "metadata": {},
   "outputs": [
    {
     "data": {
      "image/png": "[encoded data removed]",
      "text/plain": [
       "<Figure size 640x480 with 1 Axes>"
      ]
     },
     "metadata": {},
     "output_type": "display_data"
    }
   ],
   "source": [
    "data = [1, 2, 2, 3, 3, 3, 4, 4, 4, 4, 5]\n",
    "\n",
    "plt.hist(data, bins=5)\n",
    "plt.title('Histogram Example')\n",
    "plt.xlabel('Value')\n",
    "plt.ylabel('Frequency')\n",
    "plt.show()"
   ]
  },
  {
   "cell_type": "code",
   "execution_count": 64,
   "metadata": {},
   "outputs": [
    {
     "data": {
      "image/png": "[encoded data removed]",
      "text/plain": [
       "<Figure size 640x480 with 1 Axes>"
      ]
     },
     "metadata": {},
     "output_type": "display_data"
    }
   ],
   "source": [
    "plt.plot(a, b, label='male ratio')\n",
    "plt.legend()\n",
    "plt.show()"
   ]
  },
  {
   "cell_type": "code",
   "execution_count": 73,
   "metadata": {},
   "outputs": [
    {
     "data": {
      "image/png": "[encoded data removed]",
      "text/plain": [
       "<Figure size 640x480 with 4 Axes>"
      ]
     },
     "metadata": {},
     "output_type": "display_data"
    }
   ],
   "source": [
    "fig, axs = plt.subplots(2, 2)  # 2 rows and 2 columns\n",
    "axs[0, 0].plot(x, y)\n",
    "axs[0, 0].set_title('Plot 1')\n",
    "\n",
    "axs[0, 1].scatter(x, y)\n",
    "axs[0, 1].set_title('Plot 2')\n",
    "\n",
    "axs[1, 0].bar(x, y)\n",
    "axs[1, 0].set_title('Plot 3')\n",
    "\n",
    "axs[1, 1].hist(data, bins=5)\n",
    "axs[1, 1].set_title('Plot 4')\n",
    "\n",
    "plt.tight_layout()  # Adjusts layout to avoid overlap\n",
    "plt.show()\n"
   ]
  },
  {
   "cell_type": "code",
   "execution_count": null,
   "metadata": {},
   "outputs": [],
   "source": []
  }
 ],
 "metadata": {
  "kernelspec": {
   "display_name": "Python 3",
   "language": "python",
   "name": "python3"
  },
  "language_info": {
   "codemirror_mode": {
    "name": "ipython",
    "version": 3
   },
   "file_extension": ".py",
   "mimetype": "text/x-python",
   "name": "python",
   "nbconvert_exporter": "python",
   "pygments_lexer": "ipython3",
   "version": "3.11.11"
  }
 },
 "nbformat": 4,
 "nbformat_minor": 2
}
