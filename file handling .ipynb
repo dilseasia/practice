{
 "cells": [
  {
   "cell_type": "code",
   "execution_count": 43,
   "metadata": {},
   "outputs": [],
   "source": [
    "file=open(\"file.txt\",\"a\")\n",
    "file.write(\"is good boy\")\n",
    "file.close()"
   ]
  },
  {
   "cell_type": "code",
   "execution_count": 44,
   "metadata": {},
   "outputs": [
    {
     "data": {
      "text/plain": [
       "'is good boyisis good boy'"
      ]
     },
     "execution_count": 44,
     "metadata": {},
     "output_type": "execute_result"
    }
   ],
   "source": [
    "file=open(\"file.txt\",\"r\")\n",
    "file.read()"
   ]
  },
  {
   "cell_type": "code",
   "execution_count": 45,
   "metadata": {},
   "outputs": [],
   "source": [
    "file=open(\"file.txt\",\"a\")\n",
    "file.write(\"is\")\n",
    "file.close()"
   ]
  },
  {
   "cell_type": "code",
   "execution_count": 46,
   "metadata": {},
   "outputs": [
    {
     "data": {
      "text/plain": [
       "'{\\n \"cells\": [\\n  {\\n   \"cell_type\": \"code\",\\n   \"execution_count\": 2,\\n   \"metadata\": {},\\n   \"outputs\": [\\n    {\\n     \"name\": \"stdout\",\\n     \"output_type\": \"stream\",\\n     \"text\": [\\n      \"this is our 6 feet\\\\n\",\\n      \"<__main__.child object at 0x7dd6dd5290d0>\\\\n\"\\n     ]\\n    }\\n   ],\\n   \"source\": [\\n    \"class parent:\\\\n\",\\n    \"    def __init__(self,height):\\\\n\",\\n    \"        self.height=height\\\\n\",\\n    \"        print( f\\\\\"this is our height {self.height}\\\\\" )\\\\n\",\\n    \"    \\\\n\",\\n    \"class child(parent):\\\\n\",\\n    \"    def __init__(self, height,age):\\\\n\",\\n    \"        super().__init__(height)\\\\n\",\\n    \"        self.age=age\\\\n\",\\n    \"\\\\n\",\\n    \"a=child(\\\\\"6 feet\\\\\",32)\\\\n\",\\n    \"print(a)\"\\n   ]\\n  },\\n  {\\n   \"cell_type\": \"code\",\\n   \"execution_count\": 43,\\n   \"metadata\": {},\\n   \"outputs\": [\\n    {\\n     \"name\": \"stdout\",\\n     \"output_type\": \"stream\",\\n     \"text\": [\\n      \"not negative\\\\n\"\\n     ]\\n    }\\n   ],\\n   \"source\": [\\n    \"number=int(input())\\\\n\",\\n    \"def check_positive_number(number):\\\\n\",\\n    \"    if number < 0:\\\\n\",\\n    \"        raise NegativeError(\\\\\"Negative numbers are not allowed.\\\\\")\\\\n\",\\n    \"    else:\\\\n\",\\n    \"        print(\\\\\"not negative\\\\\")\\\\n\",\\n    \"\\\\n\",\\n    \"check_positive_number(number)\"\\n   ]\\n  },\\n  {\\n   \"cell_type\": \"code\",\\n   \"execution_count\": 25,\\n   \"metadata\": {},\\n   \"outputs\": [\\n    {\\n     \"name\": \"stdout\",\\n     \"output_type\": \"stream\",\\n     \"text\": [\\n      \"You entered: -234\\\\n\",\\n      \"cbdshbhc\\\\n\",\\n      \"Execution complete.\\\\n\"\\n     ]\\n    }\\n   ],\\n   \"source\": [\\n    \"\\\\n\",\\n    \"try:\\\\n\",\\n    \"        user_input = int(input(\\\\\"Enter a positive number: \\\\\"))\\\\n\",\\n    \"        checked_number =(user_input)\\\\n\",\\n    \"        print(f\\\\\"You entered: {checked_number}\\\\\")\\\\n\",\\n    \"except ValueError:\\\\n\",\\n    \"        print(\\\\\"Invalid input! Please enter a valid integer.\\\\\")\\\\n\",\\n    \"except NegativeNumbernotallowed as e:\\\\n\",\\n    \"        print(e)\\\\n\",\\n    \"else:\\\\n\",\\n    \"        print(\\\\\"cbdshbhc\\\\\")\\\\n\",\\n    \"finally:\\\\n\",\\n    \"        print(\\\\\"Execution complete.\\\\\")\"\\n   ]\\n  },\\n  {\\n   \"cell_type\": \"code\",\\n   \"execution_count\": 19,\\n   \"metadata\": {},\\n   \"outputs\": [],\\n   \"source\": [\\n    \"number=int(input())\\\\n\",\\n    \"def check_positive_number(number):\\\\n\",\\n    \"    if number<0:\\\\n\",\\n    \"        print(\\\\\"negative\\\\\")\\\\n\",\\n    \"    else:\\\\n\",\\n    \"        print(\\\\\"not good\\\\\")\"\\n   ]\\n  },\\n  {\\n   \"cell_type\": \"code\",\\n   \"execution_count\": 42,\\n   \"metadata\": {},\\n   \"outputs\": [\\n    {\\n     \"name\": \"stdout\",\\n     \"output_type\": \"stream\",\\n     \"text\": [\\n      \"value error\\\\n\",\\n      \"excution complete\\\\n\"\\n     ]\\n    }\\n   ],\\n   \"source\": [\\n    \"try:\\\\n\",\\n    \"    user_input=int(input(\\\\\"enter number\\\\\"))\\\\n\",\\n    \"    if user_input<0:\\\\n\",\\n    \"        raise Exception\\\\n\",\\n    \"except :\\\\n\",\\n    \"    print(\\\\\"value error\\\\\")\\\\n\",\\n    \"\\\\n\",\\n    \"finally:\\\\n\",\\n    \"    print(\\\\\"excution complete\\\\\")\\\\n\",\\n    \"    \"\\n   ]\\n  },\\n  {\\n   \"cell_type\": \"code\",\\n   \"execution_count\": 45,\\n   \"metadata\": {},\\n   \"outputs\": [\\n    {\\n     \"name\": \"stdout\",\\n     \"output_type\": \"stream\",\\n     \"text\": [\\n      \"jdvjdnhcjd\\\\n\"\\n     ]\\n    }\\n   ],\\n   \"source\": [\\n    \"\\\\n\",\\n    \"try:\\\\n\",\\n    \"    number=int(input())\\\\n\",\\n    \"    number2=int(input())\\\\n\",\\n    \"    print(f\\\\\"answer is {number/number2}\\\\\")\\\\n\",\\n    \"    if number2==0 or number==0:\\\\n\",\\n    \"      raise Exception(\\\\\"bghbghbhb\\\\\")\\\\n\",\\n    \"except:\\\\n\",\\n    \"   print(\\\\\"jdvjdnhcjd\\\\\")\"\\n   ]\\n  },\\n  {\\n   \"cell_type\": \"code\",\\n   \"execution_count\": 50,\\n   \"metadata\": {},\\n   \"outputs\": [],\\n   \"source\": [\\n    \"# Write a program that converts a user-inputted string to an integer. If the input is not a valid number, handle the ValueError exception.\\\\n\",\\n    \"\\\\n\",\\n    \"try :\\\\n\",\\n    \"    user_input=input()\\\\n\",\\n    \"    # user_inputed=int(user_input)\\\\n\",\\n    \"    if user_input==int(user_input):\\\\n\",\\n    \"     raise Exception(\\\\\"fgtftgf\\\\\")\\\\n\",\\n    \"    \\\\n\",\\n    \"except ValueError:\\\\n\",\\n    \"   print(\\\\\"valueerror\\\\\")\"\\n   ]\\n  },\\n  {\\n   \"cell_type\": \"code\",\\n   \"execution_count\": 60,\\n   \"metadata\": {},\\n   \"outputs\": [\\n    {\\n     \"name\": \"stdout\",\\n     \"output_type\": \"stream\",\\n     \"text\": [\\n      \"valid number\\\\n\"\\n     ]\\n    }\\n   ],\\n   \"source\": [\\n    \"# Use try-except to handle an IndexError when accessing an element from a list beyond its range\\\\n\",\\n    \"try :\\\\n\",\\n    \"    number  = (input())\\\\n\",\\n    \"    if len(number)<=6:\\\\n\",\\n    \"        print(\\\\\"valid number\\\\\")\\\\n\",\\n    \"    else:\\\\n\",\\n    \"        raise Exception\\\\n\",\\n    \"except Exception:\\\\n\",\\n    \"    print(\\\\\"DDD\\\\\")\\\\n\",\\n    \"\\\\n\"\\n   ]\\n  },\\n  {\\n   \"cell_type\": \"code\",\\n   \"execution_count\": 65,\\n   \"metadata\": {},\\n   \"outputs\": [\\n    {\\n     \"name\": \"stdout\",\\n     \"output_type\": \"stream\",\\n     \"text\": [\\n      \"age not eligible\\\\n\"\\n     ]\\n    }\\n   ],\\n   \"source\": [\\n    \"\\\\n\",\\n    \"class agenotellible(Exception):\\\\n\",\\n    \"     \\\\n\",\\n    \"     def __init__(self,ms=\\\\\"age not eligible\\\\\"):\\\\n\",\\n    \"          self.ms=ms\\\\n\",\\n    \"          super().__init__(self.ms)\\\\n\",\\n    \"\\\\n\",\\n    \"try:\\\\n\",\\n    \"    age = int(input())\\\\n\",\\n    \"    if age >18:\\\\n\",\\n    \"        raise agenotellible\\\\n\",\\n    \"except agenotellible as e:\\\\n\",\\n    \"    print(e)\\\\n\",\\n    \"except ValueError:\\\\n\",\\n    \"    print(\\\\\"error\\\\\")\\\\n\",\\n    \"                    \\\\n\"\\n   ]\\n  },\\n  {\\n   \"cell_type\": \"code\",\\n   \"execution_count\": 70,\\n   \"metadata\": {},\\n   \"outputs\": [\\n    {\\n     \"name\": \"stdout\",\\n     \"output_type\": \"stream\",\\n     \"text\": [\\n      \"positive\\\\n\"\\n     ]\\n    }\\n   ],\\n   \"source\": [\\n    \"# raise exception \\\\n\",\\n    \"\\\\n\",\\n    \"\\\\n\",\\n    \"class valueerror(Exception):\\\\n\",\\n    \"    def __init__(self,ms=\\\\\"this is value error\\\\\"):\\\\n\",\\n    \"        super().__init__(ms)\\\\n\",\\n    \"        self.ms=ms\\\\n\",\\n    \"\\\\n\",\\n    \"try :\\\\n\",\\n    \"    number=(input())\\\\n\",\\n    \"    if number!=int(number):\\\\n\",\\n    \"        print(\\\\\"positive\\\\\")\\\\n\",\\n    \"    else:\\\\n\",\\n    \"        raise valueerror\\\\n\",\\n    \"except valueerror:\\\\n\",\\n    \"    print(\\\\\" ts \\\\\")\"\\n   ]\\n  },\\n  {\\n   \"cell_type\": \"code\",\\n   \"execution_count\": null,\\n   \"metadata\": {},\\n   \"outputs\": [],\\n   \"source\": []\\n  }\\n ],\\n \"metadata\": {\\n  \"kernelspec\": {\\n   \"display_name\": \"Python 3\",\\n   \"language\": \"python\",\\n   \"name\": \"python3\"\\n  },\\n  \"language_info\": {\\n   \"codemirror_mode\": {\\n    \"name\": \"ipython\",\\n    \"version\": 3\\n   },\\n   \"file_extension\": \".py\",\\n   \"mimetype\": \"text/x-python\",\\n   \"name\": \"python\",\\n   \"nbconvert_exporter\": \"python\",\\n   \"pygments_lexer\": \"ipython3\",\\n   \"version\": \"3.11.11\"\\n  }\\n },\\n \"nbformat\": 4,\\n \"nbformat_minor\": 2\\n}\\n/n daljeetdaljeetdaljeet'"
      ]
     },
     "execution_count": 46,
     "metadata": {},
     "output_type": "execute_result"
    }
   ],
   "source": [
    "f=open(\"/home/daljeet-singh/Desktop/practice/11date.ipynb\",\"r\")\n",
    "f.read()"
   ]
  },
  {
   "cell_type": "code",
   "execution_count": 47,
   "metadata": {},
   "outputs": [],
   "source": [
    "f=open(\"/home/daljeet-singh/Desktop/practice/11date.ipynb\",\"a\")\n",
    "f.write(\"daljeet\")\n",
    "f.close()"
   ]
  },
  {
   "cell_type": "code",
   "execution_count": 48,
   "metadata": {},
   "outputs": [
    {
     "name": "stdout",
     "output_type": "stream",
     "text": [
      "Defaulting to user installation because normal site-packages is not writeable\n",
      "Requirement already satisfied: pandas in /home/daljeet-singh/.local/lib/python3.11/site-packages (2.2.3)\n",
      "Requirement already satisfied: numpy>=1.23.2 in /home/daljeet-singh/.local/lib/python3.11/site-packages (from pandas) (2.0.2)\n",
      "Requirement already satisfied: python-dateutil>=2.8.2 in /usr/lib/python3/dist-packages (from pandas) (2.8.2)\n",
      "Requirement already satisfied: pytz>=2020.1 in /usr/lib/python3/dist-packages (from pandas) (2024.1)\n",
      "Requirement already satisfied: tzdata>=2022.7 in /home/daljeet-singh/.local/lib/python3.11/site-packages (from pandas) (2025.1)\n",
      "Note: you may need to restart the kernel to use updated packages.\n"
     ]
    }
   ],
   "source": [
    "pip install pandas "
   ]
  },
  {
   "cell_type": "code",
   "execution_count": 49,
   "metadata": {},
   "outputs": [],
   "source": [
    "import pandas as pd"
   ]
  },
  {
   "cell_type": "code",
   "execution_count": 50,
   "metadata": {},
   "outputs": [],
   "source": [
    "a={\"name\":[\"daljeet\",\"rahul\",\"naman\"],\n",
    "           \"trainee\":[\"python\",\"python\",\"python\"]}"
   ]
  },
  {
   "cell_type": "code",
   "execution_count": 51,
   "metadata": {},
   "outputs": [
    {
     "data": {
      "text/html": [
       "<div>\n",
       "<style scoped>\n",
       "    .dataframe tbody tr th:only-of-type {\n",
       "        vertical-align: middle;\n",
       "    }\n",
       "\n",
       "    .dataframe tbody tr th {\n",
       "        vertical-align: top;\n",
       "    }\n",
       "\n",
       "    .dataframe thead th {\n",
       "        text-align: right;\n",
       "    }\n",
       "</style>\n",
       "<table border=\"1\" class=\"dataframe\">\n",
       "  <thead>\n",
       "    <tr style=\"text-align: right;\">\n",
       "      <th></th>\n",
       "      <th>name</th>\n",
       "      <th>trainee</th>\n",
       "    </tr>\n",
       "  </thead>\n",
       "  <tbody>\n",
       "    <tr>\n",
       "      <th>0</th>\n",
       "      <td>daljeet</td>\n",
       "      <td>python</td>\n",
       "    </tr>\n",
       "    <tr>\n",
       "      <th>1</th>\n",
       "      <td>rahul</td>\n",
       "      <td>python</td>\n",
       "    </tr>\n",
       "    <tr>\n",
       "      <th>2</th>\n",
       "      <td>naman</td>\n",
       "      <td>python</td>\n",
       "    </tr>\n",
       "  </tbody>\n",
       "</table>\n",
       "</div>"
      ],
      "text/plain": [
       "      name trainee\n",
       "0  daljeet  python\n",
       "1    rahul  python\n",
       "2    naman  python"
      ]
     },
     "execution_count": 51,
     "metadata": {},
     "output_type": "execute_result"
    }
   ],
   "source": [
    "pd.DataFrame(a)"
   ]
  },
  {
   "cell_type": "code",
   "execution_count": 52,
   "metadata": {},
   "outputs": [],
   "source": [
    "import os"
   ]
  },
  {
   "cell_type": "code",
   "execution_count": 53,
   "metadata": {},
   "outputs": [
    {
     "name": "stdout",
     "output_type": "stream",
     "text": [
      "/home/daljeet-singh/Desktop/file.txt\n"
     ]
    }
   ],
   "source": [
    "print(os.path.abspath(\"file.txt\"))"
   ]
  },
  {
   "cell_type": "code",
   "execution_count": 54,
   "metadata": {},
   "outputs": [
    {
     "data": {
      "text/plain": [
       "'/home/daljeet-singh/Desktop'"
      ]
     },
     "execution_count": 54,
     "metadata": {},
     "output_type": "execute_result"
    }
   ],
   "source": [
    "os.getcwd()"
   ]
  },
  {
   "cell_type": "code",
   "execution_count": 55,
   "metadata": {},
   "outputs": [],
   "source": [
    "os.chdir(\"/home/daljeet-singh/Desktop\")"
   ]
  },
  {
   "cell_type": "code",
   "execution_count": 56,
   "metadata": {},
   "outputs": [
    {
     "data": {
      "text/plain": [
       "'/home/daljeet-singh/Desktop'"
      ]
     },
     "execution_count": 56,
     "metadata": {},
     "output_type": "execute_result"
    }
   ],
   "source": [
    "os.getcwd()"
   ]
  },
  {
   "cell_type": "code",
   "execution_count": 57,
   "metadata": {},
   "outputs": [],
   "source": [
    "import csv "
   ]
  },
  {
   "cell_type": "code",
   "execution_count": 58,
   "metadata": {},
   "outputs": [],
   "source": [
    "data=[\"daljeet\",\"rahul\",\"name\"]"
   ]
  },
  {
   "cell_type": "code",
   "execution_count": 59,
   "metadata": {},
   "outputs": [
    {
     "data": {
      "text/plain": [
       "'/home/daljeet-singh/Desktop/data.csv'"
      ]
     },
     "execution_count": 59,
     "metadata": {},
     "output_type": "execute_result"
    }
   ],
   "source": [
    "os.path.abspath(\"data.csv\")\n",
    "os.path.abspath(\"data.csv\")\n",
    "\n",
    "# a=open(\"data.csv\",\"r\")\")\n",
    "# a=open(\"data.csv\",\"r\")\")\n",
    "# a=open(\"data.csv\",\"r\")"
   ]
  },
  {
   "cell_type": "code",
   "execution_count": 62,
   "metadata": {},
   "outputs": [],
   "source": [
    "a=open(\"data.csv\",\"a\",newline=\"\")\n",
    "b=csv.writer(a)\n",
    "b.writerows(data)"
   ]
  },
  {
   "cell_type": "code",
   "execution_count": 33,
   "metadata": {},
   "outputs": [
    {
     "name": "stdout",
     "output_type": "stream",
     "text": [
      "CSV file written successfully!\n"
     ]
    }
   ],
   "source": [
    "import csv\n",
    "\n",
    "data = [\n",
    "    [\"Name\", \"Age\", \"City\"],\n",
    "    [\"Alice\", 25, \"New York\"],\n",
    "    [\"Bob\", 30, \"Los Angeles\"],\n",
    "    [\"Charlie\", 35, \"Chicago\"]\n",
    "]\n",
    "\n",
    "with open(\"data.csv\", \"w\", newline=\"\") as file:\n",
    "    writer = csv.writer(file)\n",
    "    writer.writerows(data)  # Write multiple rows\n",
    "\n",
    "print(\"CSV file written successfully!\")\n"
   ]
  },
  {
   "cell_type": "code",
   "execution_count": 63,
   "metadata": {},
   "outputs": [],
   "source": [
    "data = [\n",
    "    [\"Name\", \"Age\", \"City\"],\n",
    "    [\"Alice\", 25, \"New York\"],\n",
    "    [\"Bob\", 30, \"Los Angeles\"],\n",
    "    [\"Charlie\", 35, \"Chicago\"]]\n",
    "\n",
    "a=open(\"data.csv\",\"a\",newline=\"\")\n",
    "writer=csv.writer(a)\n",
    "writer.writerows(data)\n"
   ]
  },
  {
   "cell_type": "code",
   "execution_count": 65,
   "metadata": {},
   "outputs": [
    {
     "name": "stdout",
     "output_type": "stream",
     "text": [
      "['Name', 'Age', 'City']\n",
      "['Alice', '25', 'New York']\n",
      "['Bob', '30', 'Los Angeles']\n",
      "['Charlie', '35', 'Chicago']\n",
      "['Name', 'Age', 'City']\n",
      "['Alice', '25', 'New York']\n",
      "['Bob', '30', 'Los Angeles']\n",
      "['Charlie', '35', 'Chicago']\n",
      "['Name', 'Age', 'City']\n",
      "['Alice', '25', 'New York']\n",
      "['Bob', '30', 'Los Angeles']\n",
      "['Charlie', '35', 'Chicago']\n",
      "['d', 'a', 'l', 'j', 'e', 'e', 't']\n",
      "['r', 'a', 'h', 'u', 'l']\n",
      "['n', 'a', 'm', 'e']\n"
     ]
    }
   ],
   "source": [
    "a=open(\"data.csv\",\"r\")\n",
    "b=csv.reader(a)\n",
    "for i in b:\n",
    "    print(i)"
   ]
  },
  {
   "cell_type": "code",
   "execution_count": 101,
   "metadata": {},
   "outputs": [
    {
     "name": "stdout",
     "output_type": "stream",
     "text": [
      "26\n"
     ]
    }
   ],
   "source": [
    "# Write a Python program that reads a file and counts the number of words, lines, and characters in it.\n",
    "\n",
    "with open (\"file.txt\",\"r\") as a:\n",
    "    b=a.read()\n",
    "    list=[]\n",
    "    for i in b.strip().split(\"/n\"):\n",
    "      i.replace(\" \",\"\")\n",
    "      print(len(i))\n",
    "\n",
    "with open (\"file.txt\",\"r\") as a:\n",
    "   b=a.read()\n",
    "   c=b.replace(\" \",\"\")\n",
    "\n",
    "\n",
    "        "
   ]
  },
  {
   "cell_type": "code",
   "execution_count": null,
   "metadata": {},
   "outputs": [],
   "source": []
  }
 ],
 "metadata": {
  "kernelspec": {
   "display_name": "Python 3",
   "language": "python",
   "name": "python3"
  },
  "language_info": {
   "codemirror_mode": {
    "name": "ipython",
    "version": 3
   },
   "file_extension": ".py",
   "mimetype": "text/x-python",
   "name": "python",
   "nbconvert_exporter": "python",
   "pygments_lexer": "ipython3",
   "version": "3.11.11"
  }
 },
 "nbformat": 4,
 "nbformat_minor": 2
}
