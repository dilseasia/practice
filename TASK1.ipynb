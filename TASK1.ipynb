{
 "cells": [
  {
   "cell_type": "code",
   "execution_count": 34,
   "metadata": {},
   "outputs": [
    {
     "name": "stdout",
     "output_type": "stream",
     "text": [
      "1010\n",
      "A.  when we give number its concinate \n",
      "      because of x is string (not define x datatype like int ,float) \n",
      "      if we enter 10 its output is 1010\n",
      " Interactive Mode.  output immediately\n"
     ]
    }
   ],
   "source": [
    "# 1. You have the following Python code:\n",
    "\n",
    "# x = input(\"Enter a number: \")\n",
    "# print(x * 2)\n",
    "\n",
    "# (a) Run this code in Interactive Mode and explain the output.\n",
    "# (b) Save it as a script and run it in Script Mode. What is the difference in behavior?\n",
    "\n",
    "\n",
    "x = input(\"Enter a number: \")\n",
    "print(x * 2)\n",
    "\n",
    "print('''A.  when we give number its concinate \n",
    "      because of x is string (not define x datatype like int ,float) \n",
    "      if we enter 10 its output is 1010''')\n",
    "print(''' Interactive Mode.  output immediately''')\n",
    "\n"
   ]
  },
  {
   "cell_type": "code",
   "execution_count": 4,
   "metadata": {},
   "outputs": [
    {
     "name": "stdout",
     "output_type": "stream",
     "text": [
      "Hello, Alice\n",
      "Welcome back!\n",
      "Have a great day!\n"
     ]
    }
   ],
   "source": [
    "\n",
    "# 2. The following Python code has indentation errors. Fix them without changing the logic:\n",
    "\n",
    "def greet(name):\n",
    " print(\"Hello,\", name)\n",
    " if name == \"Alice\":\n",
    "    print(\"Welcome back!\")\n",
    "    print(\"Have a great day!\")\n",
    "\n",
    "greet(\"Alice\")"
   ]
  },
  {
   "cell_type": "code",
   "execution_count": 23,
   "metadata": {},
   "outputs": [
    {
     "name": "stdout",
     "output_type": "stream",
     "text": [
      "output :  x = x + 5 this line may cause error because python assume x as local variable and want value\n"
     ]
    }
   ],
   "source": [
    "# 3. What will be the output of the following code? Explain why.\n",
    "\n",
    "# x = 10\n",
    "\n",
    "# def change():\n",
    "#     x = x + 5\n",
    "#     print(x)\n",
    "\n",
    "# change()\n",
    "\n",
    "print( \"output :  x = x + 5 this line may cause error because python assume x as local variable and want value\")"
   ]
  },
  {
   "cell_type": "code",
   "execution_count": 21,
   "metadata": {},
   "outputs": [
    {
     "name": "stdout",
     "output_type": "stream",
     "text": [
      "7\n",
      "52\n",
      "7.0\n",
      "when we give two different data type like string or int it give error  like print(x + y)\n"
     ]
    }
   ],
   "source": [
    "# 4. What will be the output of the following code?\n",
    "\n",
    "# x = \"5\"\n",
    "# y = 2\n",
    "# print(int(x) + y)  # Line 1\n",
    "# print(x + str(y))  # Line 2\n",
    "# print(float(x) + y)  # Line 3\n",
    "# Explain each line’s output and any potential errors that might occur if the data types were changed.\n",
    "\n",
    "\n",
    "\n",
    "\n",
    "x = \"5\"\n",
    "y = 2\n",
    "print(int(x) + y) \n",
    "print(\" because of int front of x so  its value add  and give output  output=7\")\n",
    "print(x + str(y))    \n",
    "print(\"  because of string its  values is concinate                  output = 52\")\n",
    "print(float(x) + y)   \n",
    "print(\" #because of float its value is in points                     output=7.0 \")\n",
    "\n",
    "print(\"when we give two different data type like string or int it give error  like print(x + y)\")"
   ]
  },
  {
   "cell_type": "code",
   "execution_count": 3,
   "metadata": {},
   "outputs": [
    {
     "name": "stdout",
     "output_type": "stream",
     "text": [
      "81\n",
      " this is function which square the number as output\n"
     ]
    }
   ],
   "source": [
    "\n",
    "# 5. You are given the following function:\n",
    "\n",
    "# def square(n):\n",
    "#     return n * n\n",
    "# Add a proper docstring to this function explaining what it does and its expected input and output.\n",
    "# # Write a program that prints the docstring of this function when it runs.\n",
    "\n",
    "def square(n):\n",
    "    \"\"\" this is function which square the number as output\"\"\"\n",
    "    return n * n\n",
    "\n",
    "print(square(9))\n",
    "print(square.__doc__)\n"
   ]
  },
  {
   "cell_type": "code",
   "execution_count": null,
   "metadata": {},
   "outputs": [],
   "source": []
  }
 ],
 "metadata": {
  "kernelspec": {
   "display_name": "Python 3",
   "language": "python",
   "name": "python3"
  },
  "language_info": {
   "codemirror_mode": {
    "name": "ipython",
    "version": 3
   },
   "file_extension": ".py",
   "mimetype": "text/x-python",
   "name": "python",
   "nbconvert_exporter": "python",
   "pygments_lexer": "ipython3",
   "version": "3.11.11"
  }
 },
 "nbformat": 4,
 "nbformat_minor": 2
}
