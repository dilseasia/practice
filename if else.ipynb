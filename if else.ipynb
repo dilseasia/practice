{
 "cells": [
  {
   "cell_type": "markdown",
   "metadata": {},
   "source": [
    " 1.IF-ELIF-ELSE\n"
   ]
  },
  {
   "cell_type": "code",
   "execution_count": 4,
   "metadata": {},
   "outputs": [
    {
     "name": "stdout",
     "output_type": "stream",
     "text": [
      "negative\n"
     ]
    }
   ],
   "source": [
    "# Write a Python program to check if a number is positive, negative, or zero using if-else.\n",
    "\n",
    "number=int(input(\" enter a number \"))\n",
    "if number < 0:\n",
    "    print(\"negative\")\n",
    "elif number ==0:\n",
    "    print(\"zero\")\n",
    "else:\n",
    "    print(\"postive\")"
   ]
  },
  {
   "cell_type": "code",
   "execution_count": null,
   "metadata": {},
   "outputs": [],
   "source": [
    "#  Using if with Logical Operators (and, or, not)\n",
    "\n",
    "x = 7\n",
    "y = 15\n",
    "\n",
    "if x > 5 and y < 20:\n",
    "    print(\"Both conditions are True\")"
   ]
  },
  {
   "cell_type": "code",
   "execution_count": 6,
   "metadata": {},
   "outputs": [
    {
     "name": "stdout",
     "output_type": "stream",
     "text": [
      "odd\n"
     ]
    }
   ],
   "source": [
    "# How do you check if a given number is even or odd using if-else?\n",
    "number=int(input(\"enter a number\"))\n",
    "if number%2==0:\n",
    "    print(\"even\")\n",
    "else:\n",
    "    print(\"odd\")"
   ]
  },
  {
   "cell_type": "code",
   "execution_count": 69,
   "metadata": {},
   "outputs": [
    {
     "name": "stdout",
     "output_type": "stream",
     "text": [
      "please put only one value\n",
      "not its not vowel\n"
     ]
    }
   ],
   "source": [
    "# Check if a Character is a Vowel or Consonant\n",
    "char=input(\"enter a char\").lower()\n",
    "\n",
    "vowel = \"a\",\"e\",\"i\",\"o\",\"u\"\n",
    "if len(char)>1:\n",
    "    print(\"please put only one value\")\n",
    "if char in vowel:\n",
    "    print(\"yes vowel\")\n",
    "else:\n",
    "    print(\"not its not vowel\")"
   ]
  },
  {
   "cell_type": "code",
   "execution_count": 7,
   "metadata": {},
   "outputs": [
    {
     "name": "stdout",
     "output_type": "stream",
     "text": [
      "not elligible\n"
     ]
    }
   ],
   "source": [
    "# Write a Python program that checks whether a person is eligible to vote (age ≥ 18).\n",
    "\n",
    "voter_age=int(input(\"enter a number\"))\n",
    "\n",
    "if voter_age<18:\n",
    "    print(\"not elligible\")\n",
    "else:\n",
    "    print(\"ellible\")"
   ]
  },
  {
   "cell_type": "code",
   "execution_count": 18,
   "metadata": {},
   "outputs": [
    {
     "name": "stdout",
     "output_type": "stream",
     "text": [
      "A Grade\n"
     ]
    }
   ],
   "source": [
    "# Implement a grading system where a user inputs their marks and gets a grade (A, B, C, D, F) based on a grading scale using if-elif-else.\n",
    "\n",
    "Marks = int(input(\"enter grade \"))\n",
    "if Marks < 30:\n",
    "    print(\"fail\")\n",
    "elif Marks>30 and Marks <50:\n",
    "    print(\"D Grade\")\n",
    "elif Marks>50 and Marks<60:\n",
    "    print(\"C Grade\")\n",
    "elif Marks > 60 and Marks < 70:\n",
    "    print(\"B Grade\")\n",
    "elif Marks>70:\n",
    "    print(\"A Grade\")"
   ]
  },
  {
   "cell_type": "code",
   "execution_count": 58,
   "metadata": {},
   "outputs": [
    {
     "name": "stdout",
     "output_type": "stream",
     "text": [
      "not ellible\n"
     ]
    }
   ],
   "source": [
    "# Check if withdrawal is possible based on available balance.\n",
    "amount=int(input(\"enter a number\"))\n",
    "if amount > 10000:\n",
    "    print(\"you are ellible \")\n",
    "else:\n",
    "    print(\"not ellible\")\n"
   ]
  },
  {
   "cell_type": "code",
   "execution_count": 21,
   "metadata": {},
   "outputs": [
    {
     "name": "stdout",
     "output_type": "stream",
     "text": [
      "Strong\n"
     ]
    }
   ],
   "source": [
    "# Create a Python program that determines if a user-inputted password is strong (length > 8, contains uppercase, lowercase, and a digit) using if-else.\n",
    "password=input(\"enter password \")\n",
    "if len(password)<7 :\n",
    "    print(\"weak\")\n",
    "elif not any(char.isupper() for char in password) :\n",
    "    print(\"weak\")\n",
    "elif not any(char.islower() for char in password) :\n",
    "    print(\"weak\")\n",
    "elif not any(char.isdigit() for char in password):\n",
    "    print(\"weak password\")\n",
    "else:\n",
    "    print(\"Strong\")\n"
   ]
  },
  {
   "cell_type": "code",
   "execution_count": 60,
   "metadata": {},
   "outputs": [
    {
     "name": "stdout",
     "output_type": "stream",
     "text": [
      "861\n"
     ]
    }
   ],
   "source": [
    "# Given the number of units consumed, calculate the electricity bill using different rates:\n",
    "\n",
    "#     0-100 units → ₹5 per unit\n",
    "#     101-200 units → ₹7 per unit\n",
    "#     Above 200 units → ₹10 per unit\n",
    "\n",
    "\n",
    "unit = int(input(\"enter units\"))\n",
    "if unit>=0 and unit<=100:\n",
    "    print(unit*5)\n",
    "elif unit>100 and unit<200:\n",
    "    print(unit*7)\n",
    "else:\n",
    "    print(unit*10)"
   ]
  },
  {
   "cell_type": "code",
   "execution_count": 29,
   "metadata": {},
   "outputs": [
    {
     "name": "stdout",
     "output_type": "stream",
     "text": [
      "1\n",
      "3\n",
      "5\n",
      "7\n",
      "9\n",
      "11\n",
      "13\n",
      "15\n",
      "17\n",
      "19\n",
      "21\n",
      "23\n",
      "25\n",
      "27\n",
      "29\n",
      "31\n",
      "33\n",
      "35\n",
      "37\n",
      "39\n",
      "41\n",
      "43\n",
      "45\n",
      "47\n",
      "49\n",
      "51\n",
      "53\n",
      "55\n",
      "57\n",
      "59\n",
      "61\n",
      "63\n",
      "65\n",
      "67\n",
      "69\n",
      "71\n",
      "73\n",
      "75\n",
      "77\n",
      "79\n",
      "81\n",
      "83\n",
      "85\n",
      "87\n",
      "89\n",
      "91\n",
      "93\n",
      "95\n",
      "97\n",
      "99\n"
     ]
    }
   ],
   "source": [
    "for i in range(1,99+1,2):\n",
    "    print(i)"
   ]
  },
  {
   "cell_type": "code",
   "execution_count": 33,
   "metadata": {},
   "outputs": [
    {
     "name": "stdout",
     "output_type": "stream",
     "text": [
      "150\n"
     ]
    }
   ],
   "source": [
    "# Given a list numbers = [10, 20, 30, 40, 50], use a for loop to calculate the sum of the numbers.\n",
    "\n",
    "list = [10, 20, 30, 40, 50]\n",
    "count=0\n",
    "\n",
    "for i in list:\n",
    "   count+=i\n",
    "print(count)"
   ]
  },
  {
   "cell_type": "code",
   "execution_count": 70,
   "metadata": {},
   "outputs": [
    {
     "name": "stdout",
     "output_type": "stream",
     "text": [
      "apple\n",
      "banana\n",
      "cherry\n"
     ]
    }
   ],
   "source": [
    "fruits = [\"apple\", \"banana\", \"cherry\"]\n",
    "for i in fruits:\n",
    "    print(i)"
   ]
  },
  {
   "cell_type": "code",
   "execution_count": 47,
   "metadata": {},
   "outputs": [
    {
     "name": "stdout",
     "output_type": "stream",
     "text": [
      "120\n"
     ]
    }
   ],
   "source": [
    "# Write a program to find the factorial of a given number using a for loop.\n",
    "\n",
    "number=int(input(\"enter a number\"))\n",
    "fact=1\n",
    "for i in range(2,number+1):\n",
    "    fact=fact*i\n",
    "print(fact)"
   ]
  },
  {
   "cell_type": "code",
   "execution_count": 45,
   "metadata": {},
   "outputs": [
    {
     "name": "stdout",
     "output_type": "stream",
     "text": [
      "9\n",
      "8\n",
      "7\n",
      "6\n",
      "5\n",
      "4\n",
      "3\n",
      "2\n",
      "1\n"
     ]
    }
   ],
   "source": [
    "for i in reversed(range(1,10)):\n",
    "    print(i)"
   ]
  },
  {
   "cell_type": "code",
   "execution_count": 72,
   "metadata": {},
   "outputs": [
    {
     "name": "stdout",
     "output_type": "stream",
     "text": [
      "a\n",
      "e\n",
      "r\n",
      "d\n",
      "d\n",
      "t\n",
      "f\n",
      "f\n",
      "y\n",
      "f\n",
      "u\n"
     ]
    }
   ],
   "source": [
    "# Print each character of a string\n",
    "\n",
    "word=\"aerddtffyfu\"\n",
    "for i in word:\n",
    "    print(i)"
   ]
  },
  {
   "cell_type": "code",
   "execution_count": 71,
   "metadata": {},
   "outputs": [
    {
     "name": "stdout",
     "output_type": "stream",
     "text": [
      "2\n",
      "4\n",
      "6\n",
      "8\n",
      "10\n",
      "12\n",
      "14\n",
      "16\n",
      "18\n"
     ]
    }
   ],
   "source": [
    "# Print even numbers from 2 to 20\n",
    "for i in range(2,20,2):\n",
    "    print(i)"
   ]
  },
  {
   "cell_type": "code",
   "execution_count": 73,
   "metadata": {},
   "outputs": [
    {
     "name": "stdout",
     "output_type": "stream",
     "text": [
      "10\n",
      "20\n",
      "30\n",
      "40\n",
      "50\n",
      "60\n",
      "70\n",
      "80\n",
      "90\n",
      "100\n"
     ]
    }
   ],
   "source": [
    "# Multiplication table of a given number\n",
    "num=int(input(\"enter a number\"))\n",
    "for i in range(1,11):\n",
    "    print(num*i)# Program to check if a number is prime using a while loop\n",
    "\n",
    "num = int(input(\"Enter a number: \"))\n",
    "\n",
    "if num < 2:\n",
    "    print(f\"{num} is not a prime number.\")\n",
    "else:\n",
    "    i = 2  # Start checking from 2\n",
    "    is_prime = True  # Assume the number is prime\n",
    "\n",
    "    while i * i <= num:  # Check up to the square root of num\n",
    "        if num % i == 0:\n",
    "            is_prime = False\n",
    "            break  # No need to check further, it's not prime\n",
    "        i += 1  # Increment to check next divisor\n",
    "\n",
    "    if is_prime:\n",
    "        print(f\"{num} is a prime number.\")\n",
    "    else:\n",
    "        print(f\"{num} is not a prime number.\")\n",
    "\n"
   ]
  },
  {
   "cell_type": "code",
   "execution_count": 48,
   "metadata": {},
   "outputs": [
    {
     "name": "stdout",
     "output_type": "stream",
     "text": [
      "name\n",
      "age\n",
      "grade\n"
     ]
    }
   ],
   "source": [
    "student = {\"name\": \"Alice\", \"age\": 21, \"grade\": \"A\"}\n",
    "for i in student:\n",
    "    print(i)"
   ]
  },
  {
   "cell_type": "code",
   "execution_count": 52,
   "metadata": {},
   "outputs": [
    {
     "name": "stdout",
     "output_type": "stream",
     "text": [
      "40\n"
     ]
    }
   ],
   "source": [
    "# Write a for loop to find the maximum number in a list.\n",
    "list=[10,20,30,40,30]\n",
    "largest=0\n",
    "for i in list:\n",
    "   if i>largest:\n",
    "      largest=i\n",
    "print(largest)"
   ]
  },
  {
   "cell_type": "code",
   "execution_count": 74,
   "metadata": {},
   "outputs": [
    {
     "name": "stdout",
     "output_type": "stream",
     "text": [
      "* \n",
      "* * \n",
      "* * * \n",
      "* * * * \n",
      "* * * * * \n"
     ]
    }
   ],
   "source": [
    "for i in range(1,6):\n",
    "    for j in range(i):\n",
    "        print(\"*\",end=\" \")\n",
    "    print()"
   ]
  },
  {
   "cell_type": "code",
   "execution_count": 76,
   "metadata": {},
   "outputs": [
    {
     "name": "stdout",
     "output_type": "stream",
     "text": [
      "0\n",
      "1\n",
      "1\n",
      "2\n",
      "3\n",
      "5\n",
      "8\n",
      "13\n",
      "21\n",
      "34\n",
      "55\n",
      "89\n"
     ]
    }
   ],
   "source": [
    "# Use a for loop to generate the first 10 numbers in the Fibonacci sequence.\n",
    "\n",
    "a=0\n",
    "b=1\n",
    "print(a)\n",
    "print(b)\n",
    "c=0\n",
    "for i in range(1,11):\n",
    "    c=a+b\n",
    "    a=b\n",
    "    b=c\n",
    "    print(c)\n",
    "    "
   ]
  },
  {
   "cell_type": "code",
   "execution_count": 87,
   "metadata": {},
   "outputs": [
    {
     "name": "stdout",
     "output_type": "stream",
     "text": [
      "* * * * * * * \n",
      "* * * * * * \n",
      "* * * * * \n",
      "* * * * \n",
      "* * * \n",
      "* * \n",
      "* \n",
      "* * \n",
      "* * * \n",
      "* * * * \n",
      "* * * * * \n",
      "* * * * * * \n",
      "* * * * * * * \n"
     ]
    }
   ],
   "source": [
    "for i in range(6,-1,-1): \n",
    "    for j in range(i,-1,-1):\n",
    "      print(\"*\",end=\" \")\n",
    "    print()\n",
    "for i in range(1,7):\n",
    "    for j in range(i,-1,-1):\n",
    "      print(\"*\",end=\" \")\n",
    "    print()"
   ]
  },
  {
   "cell_type": "code",
   "execution_count": 122,
   "metadata": {},
   "outputs": [
    {
     "name": "stdout",
     "output_type": "stream",
     "text": [
      "************\n",
      "*****  *****\n",
      "****    ****\n",
      "***      ***\n",
      "**        **\n",
      "*          *\n",
      "*          *\n",
      "**        **\n",
      "***      ***\n",
      "****    ****\n",
      "*****  *****\n",
      "************\n"
     ]
    }
   ],
   "source": [
    "n=6\n",
    "for i in range(n):\n",
    "    print(\"*\"*(n),\" \"*(i*2),(\"*\"*(n)),sep=\"\")\n",
    "    n-=1\n",
    "n=6\n",
    "for i in range(1,n+1):\n",
    "    print(\"*\"*(i),\" \"*((n*2)-2),(\"*\"*(i)),sep=\"\")\n",
    "    n-=1"
   ]
  },
  {
   "cell_type": "code",
   "execution_count": 123,
   "metadata": {},
   "outputs": [
    {
     "name": "stdout",
     "output_type": "stream",
     "text": [
      "11 is a prime number.\n"
     ]
    }
   ],
   "source": [
    "# Program to check if a number is prime using a while loop\n",
    "\n",
    "num = int(input(\"Enter a number: \"))\n",
    "\n",
    "if num < 2:\n",
    "    print(f\"{num} is not a prime number.\")\n",
    "else:\n",
    "    i = 2  \n",
    "    is_prime = True  \n",
    "\n",
    "    while i * i <= num:  \n",
    "        if num % i == 0:\n",
    "            is_prime = False\n",
    "            break  \n",
    "        i += 1 \n",
    "\n",
    "    if is_prime:\n",
    "        print(f\"{num} is a prime number.\")\n",
    "    else:\n",
    "        print(f\"{num} is not a prime number.\")\n"
   ]
  },
  {
   "cell_type": "code",
   "execution_count": 133,
   "metadata": {},
   "outputs": [
    {
     "name": "stdout",
     "output_type": "stream",
     "text": [
      "1\n",
      "2\n",
      "3\n",
      "4\n",
      "6\n",
      "7\n",
      "8\n",
      "9\n"
     ]
    }
   ],
   "source": [
    "for i in range(1,10):\n",
    "    if i ==5 :\n",
    "        continue\n",
    "    print(i)"
   ]
  },
  {
   "cell_type": "code",
   "execution_count": 150,
   "metadata": {},
   "outputs": [
    {
     "name": "stdout",
     "output_type": "stream",
     "text": [
      "54321\n",
      "4321\n",
      "321\n",
      "21\n",
      "1\n"
     ]
    }
   ],
   "source": [
    "for i in range(5,0,-1):\n",
    "    for j in range(i,0,-1):\n",
    "        print(j,end=\"\")\n",
    "    print()"
   ]
  },
  {
   "cell_type": "code",
   "execution_count": null,
   "metadata": {},
   "outputs": [],
   "source": []
  }
 ],
 "metadata": {
  "kernelspec": {
   "display_name": "Python 3",
   "language": "python",
   "name": "python3"
  },
  "language_info": {
   "codemirror_mode": {
    "name": "ipython",
    "version": 3
   },
   "file_extension": ".py",
   "mimetype": "text/x-python",
   "name": "python",
   "nbconvert_exporter": "python",
   "pygments_lexer": "ipython3",
   "version": "3.11.11"
  }
 },
 "nbformat": 4,
 "nbformat_minor": 2
}
